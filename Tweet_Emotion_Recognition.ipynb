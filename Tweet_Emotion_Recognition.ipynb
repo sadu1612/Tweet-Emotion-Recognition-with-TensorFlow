{
  "cells": [
    {
      "cell_type": "markdown",
      "metadata": {
        "id": "sp7D0ktn5eiG"
      },
      "source": [
        "## Tweet Emotion Recognition: Natural Language Processing with TensorFlow\n",
        "\n"
      ]
    },
    {
      "cell_type": "markdown",
      "metadata": {
        "id": "cprXxkrMxIgT"
      },
      "source": [
        "## Setup and Imports\n",
        "\n",
        "1. Installing Hugging Face's nlp package\n",
        "2. Importing libraries"
      ]
    },
    {
      "cell_type": "code",
      "execution_count": null,
      "metadata": {
        "colab": {
          "base_uri": "https://localhost:8080/"
        },
        "id": "5agZRy-45i0g",
        "outputId": "8d2a278c-19a3-4343-f779-2b25b481f74b"
      },
      "outputs": [
        {
          "output_type": "stream",
          "name": "stdout",
          "text": [
            "Collecting nlp\n",
            "  Downloading nlp-0.4.0-py3-none-any.whl (1.7 MB)\n",
            "\u001b[2K     \u001b[90m━━━━━━━━━━━━━━━━━━━━━━━━━━━━━━━━━━━━━━━━\u001b[0m \u001b[32m1.7/1.7 MB\u001b[0m \u001b[31m11.2 MB/s\u001b[0m eta \u001b[36m0:00:00\u001b[0m\n",
            "\u001b[?25hRequirement already satisfied: numpy in /usr/local/lib/python3.10/dist-packages (from nlp) (1.25.2)\n",
            "Requirement already satisfied: pyarrow>=0.16.0 in /usr/local/lib/python3.10/dist-packages (from nlp) (14.0.2)\n",
            "Collecting dill (from nlp)\n",
            "  Downloading dill-0.3.8-py3-none-any.whl (116 kB)\n",
            "\u001b[2K     \u001b[90m━━━━━━━━━━━━━━━━━━━━━━━━━━━━━━━━━━━━━━━━\u001b[0m \u001b[32m116.3/116.3 kB\u001b[0m \u001b[31m13.3 MB/s\u001b[0m eta \u001b[36m0:00:00\u001b[0m\n",
            "\u001b[?25hRequirement already satisfied: pandas in /usr/local/lib/python3.10/dist-packages (from nlp) (1.5.3)\n",
            "Requirement already satisfied: requests>=2.19.0 in /usr/local/lib/python3.10/dist-packages (from nlp) (2.31.0)\n",
            "Requirement already satisfied: tqdm>=4.27 in /usr/local/lib/python3.10/dist-packages (from nlp) (4.66.2)\n",
            "Requirement already satisfied: filelock in /usr/local/lib/python3.10/dist-packages (from nlp) (3.13.1)\n",
            "Requirement already satisfied: xxhash in /usr/local/lib/python3.10/dist-packages (from nlp) (3.4.1)\n",
            "Requirement already satisfied: charset-normalizer<4,>=2 in /usr/local/lib/python3.10/dist-packages (from requests>=2.19.0->nlp) (3.3.2)\n",
            "Requirement already satisfied: idna<4,>=2.5 in /usr/local/lib/python3.10/dist-packages (from requests>=2.19.0->nlp) (3.6)\n",
            "Requirement already satisfied: urllib3<3,>=1.21.1 in /usr/local/lib/python3.10/dist-packages (from requests>=2.19.0->nlp) (2.0.7)\n",
            "Requirement already satisfied: certifi>=2017.4.17 in /usr/local/lib/python3.10/dist-packages (from requests>=2.19.0->nlp) (2024.2.2)\n",
            "Requirement already satisfied: python-dateutil>=2.8.1 in /usr/local/lib/python3.10/dist-packages (from pandas->nlp) (2.8.2)\n",
            "Requirement already satisfied: pytz>=2020.1 in /usr/local/lib/python3.10/dist-packages (from pandas->nlp) (2023.4)\n",
            "Requirement already satisfied: six>=1.5 in /usr/local/lib/python3.10/dist-packages (from python-dateutil>=2.8.1->pandas->nlp) (1.16.0)\n",
            "Installing collected packages: dill, nlp\n",
            "Successfully installed dill-0.3.8 nlp-0.4.0\n"
          ]
        }
      ],
      "source": [
        "!pip install nlp"
      ]
    },
    {
      "cell_type": "code",
      "execution_count": null,
      "metadata": {
        "colab": {
          "base_uri": "https://localhost:8080/"
        },
        "id": "yKFjWz6e5eiH",
        "outputId": "79466eec-68ce-4410-ef5e-5d2ec1ef5fcf"
      },
      "outputs": [
        {
          "output_type": "stream",
          "name": "stdout",
          "text": [
            "Using TensorFlow version 2.15.0\n"
          ]
        }
      ],
      "source": [
        "%matplotlib inline\n",
        "\n",
        "import tensorflow as tf\n",
        "import numpy as np\n",
        "import matplotlib.pyplot as plt\n",
        "import nlp\n",
        "import random\n",
        "\n",
        "\n",
        "def show_history(h):\n",
        "    epochs_trained = len(h.history['loss'])\n",
        "    plt.figure(figsize=(16, 6))\n",
        "\n",
        "    plt.subplot(1, 2, 1)\n",
        "    plt.plot(range(0, epochs_trained), h.history.get('accuracy'), label='Training')\n",
        "    plt.plot(range(0, epochs_trained), h.history.get('val_accuracy'), label='Validation')\n",
        "    plt.ylim([0., 1.])\n",
        "    plt.xlabel('Epochs')\n",
        "    plt.ylabel('Accuracy')\n",
        "    plt.legend()\n",
        "\n",
        "    plt.subplot(1, 2, 2)\n",
        "    plt.plot(range(0, epochs_trained), h.history.get('loss'), label='Training')\n",
        "    plt.plot(range(0, epochs_trained), h.history.get('val_loss'), label='Validation')\n",
        "    plt.xlabel('Epochs')\n",
        "    plt.ylabel('Loss')\n",
        "    plt.legend()\n",
        "    plt.show()\n",
        "\n",
        "\n",
        "def show_confusion_matrix(y_true, y_pred, classes):\n",
        "    from sklearn.metrics import confusion_matrix\n",
        "\n",
        "    cm = confusion_matrix(y_true, y_pred, normalize='true')\n",
        "\n",
        "    plt.figure(figsize=(8, 8))\n",
        "    sp = plt.subplot(1, 1, 1)\n",
        "    ctx = sp.matshow(cm)\n",
        "    plt.xticks(list(range(0, 6)), labels=classes)\n",
        "    plt.yticks(list(range(0, 6)), labels=classes)\n",
        "    plt.colorbar(ctx)\n",
        "    plt.show()\n",
        "\n",
        "\n",
        "print('Using TensorFlow version', tf.__version__)"
      ]
    },
    {
      "cell_type": "markdown",
      "metadata": {
        "id": "7JsBpezExIga"
      },
      "source": [
        "## Importing Data\n",
        "\n",
        "1. Importing the Tweet Emotion dataset\n",
        "2. Creating train, validation and test sets\n",
        "3. Extracting tweets and labels from the examples"
      ]
    },
    {
      "cell_type": "code",
      "execution_count": null,
      "metadata": {
        "colab": {
          "base_uri": "https://localhost:8080/"
        },
        "id": "0YHOvjAu5eiL",
        "outputId": "b97a34c3-b965-41b5-fbd9-f0ac3edd03cd"
      },
      "outputs": [
        {
          "output_type": "stream",
          "name": "stdout",
          "text": [
            "Collecting datasets\n",
            "  Downloading datasets-2.18.0-py3-none-any.whl (510 kB)\n",
            "\u001b[2K     \u001b[90m━━━━━━━━━━━━━━━━━━━━━━━━━━━━━━━━━━━━━━━━\u001b[0m \u001b[32m510.5/510.5 kB\u001b[0m \u001b[31m7.8 MB/s\u001b[0m eta \u001b[36m0:00:00\u001b[0m\n",
            "\u001b[?25hRequirement already satisfied: filelock in /usr/local/lib/python3.10/dist-packages (from datasets) (3.13.1)\n",
            "Requirement already satisfied: numpy>=1.17 in /usr/local/lib/python3.10/dist-packages (from datasets) (1.25.2)\n",
            "Requirement already satisfied: pyarrow>=12.0.0 in /usr/local/lib/python3.10/dist-packages (from datasets) (14.0.2)\n",
            "Requirement already satisfied: pyarrow-hotfix in /usr/local/lib/python3.10/dist-packages (from datasets) (0.6)\n",
            "Requirement already satisfied: dill<0.3.9,>=0.3.0 in /usr/local/lib/python3.10/dist-packages (from datasets) (0.3.8)\n",
            "Requirement already satisfied: pandas in /usr/local/lib/python3.10/dist-packages (from datasets) (1.5.3)\n",
            "Requirement already satisfied: requests>=2.19.0 in /usr/local/lib/python3.10/dist-packages (from datasets) (2.31.0)\n",
            "Requirement already satisfied: tqdm>=4.62.1 in /usr/local/lib/python3.10/dist-packages (from datasets) (4.66.2)\n",
            "Requirement already satisfied: xxhash in /usr/local/lib/python3.10/dist-packages (from datasets) (3.4.1)\n",
            "Collecting multiprocess (from datasets)\n",
            "  Downloading multiprocess-0.70.16-py310-none-any.whl (134 kB)\n",
            "\u001b[2K     \u001b[90m━━━━━━━━━━━━━━━━━━━━━━━━━━━━━━━━━━━━━━━━\u001b[0m \u001b[32m134.8/134.8 kB\u001b[0m \u001b[31m14.2 MB/s\u001b[0m eta \u001b[36m0:00:00\u001b[0m\n",
            "\u001b[?25hRequirement already satisfied: fsspec[http]<=2024.2.0,>=2023.1.0 in /usr/local/lib/python3.10/dist-packages (from datasets) (2023.6.0)\n",
            "Requirement already satisfied: aiohttp in /usr/local/lib/python3.10/dist-packages (from datasets) (3.9.3)\n",
            "Requirement already satisfied: huggingface-hub>=0.19.4 in /usr/local/lib/python3.10/dist-packages (from datasets) (0.20.3)\n",
            "Requirement already satisfied: packaging in /usr/local/lib/python3.10/dist-packages (from datasets) (23.2)\n",
            "Requirement already satisfied: pyyaml>=5.1 in /usr/local/lib/python3.10/dist-packages (from datasets) (6.0.1)\n",
            "Requirement already satisfied: aiosignal>=1.1.2 in /usr/local/lib/python3.10/dist-packages (from aiohttp->datasets) (1.3.1)\n",
            "Requirement already satisfied: attrs>=17.3.0 in /usr/local/lib/python3.10/dist-packages (from aiohttp->datasets) (23.2.0)\n",
            "Requirement already satisfied: frozenlist>=1.1.1 in /usr/local/lib/python3.10/dist-packages (from aiohttp->datasets) (1.4.1)\n",
            "Requirement already satisfied: multidict<7.0,>=4.5 in /usr/local/lib/python3.10/dist-packages (from aiohttp->datasets) (6.0.5)\n",
            "Requirement already satisfied: yarl<2.0,>=1.0 in /usr/local/lib/python3.10/dist-packages (from aiohttp->datasets) (1.9.4)\n",
            "Requirement already satisfied: async-timeout<5.0,>=4.0 in /usr/local/lib/python3.10/dist-packages (from aiohttp->datasets) (4.0.3)\n",
            "Requirement already satisfied: typing-extensions>=3.7.4.3 in /usr/local/lib/python3.10/dist-packages (from huggingface-hub>=0.19.4->datasets) (4.10.0)\n",
            "Requirement already satisfied: charset-normalizer<4,>=2 in /usr/local/lib/python3.10/dist-packages (from requests>=2.19.0->datasets) (3.3.2)\n",
            "Requirement already satisfied: idna<4,>=2.5 in /usr/local/lib/python3.10/dist-packages (from requests>=2.19.0->datasets) (3.6)\n",
            "Requirement already satisfied: urllib3<3,>=1.21.1 in /usr/local/lib/python3.10/dist-packages (from requests>=2.19.0->datasets) (2.0.7)\n",
            "Requirement already satisfied: certifi>=2017.4.17 in /usr/local/lib/python3.10/dist-packages (from requests>=2.19.0->datasets) (2024.2.2)\n",
            "Requirement already satisfied: python-dateutil>=2.8.1 in /usr/local/lib/python3.10/dist-packages (from pandas->datasets) (2.8.2)\n",
            "Requirement already satisfied: pytz>=2020.1 in /usr/local/lib/python3.10/dist-packages (from pandas->datasets) (2023.4)\n",
            "Requirement already satisfied: six>=1.5 in /usr/local/lib/python3.10/dist-packages (from python-dateutil>=2.8.1->pandas->datasets) (1.16.0)\n",
            "Installing collected packages: multiprocess, datasets\n",
            "Successfully installed datasets-2.18.0 multiprocess-0.70.16\n"
          ]
        }
      ],
      "source": [
        "! pip install datasets"
      ]
    },
    {
      "cell_type": "code",
      "execution_count": null,
      "metadata": {
        "colab": {
          "base_uri": "https://localhost:8080/",
          "height": 499,
          "referenced_widgets": [
            "2cd38d3fe0b04064912dd8dbd06ac63c",
            "cff164cf18f74109982b09b6d15feabf",
            "119a92f3a33a4d63884831ecd1f46f9b",
            "13365076b0dd4169acc4053cb35823d8",
            "364ab49107444bbdb271df1fe93ec883",
            "f2d2797748494c1d9c59c6cb7b0a39a5",
            "5fb511491e394bacb9e9dbb5a29a1a75",
            "4901bdd027ff401ea96a6211e02373be",
            "9a1165658c3149b8bd69a13274c107e5",
            "aad0e7bce75141708953f5e2b16b0efc",
            "c57f42f6cc0647b2ab1f076d20f04fe2",
            "43c9448fbe10411c980488477db95b2e",
            "29cb73b44c884766ad1b98a7ec014cf5",
            "1833308cf99d43b6bd32016a8aa1fa7e",
            "081cc285b7e7469681b6940c794f4c97",
            "7bdb39546f7b48f791f55347d452cba1",
            "3aa58a97eaf94d4a83f240ce48b77194",
            "f2a1da03cb4f463fae676134942d87ed",
            "6f21635daecb4079bd1a3252eef66117",
            "c10cdd257c1946c6a689f78142a0b8af",
            "3a68bc21733f4c4cb501c309ca1f70dc",
            "9044b5f31d90437f8dbbd52312c7c814",
            "825523c1897244dba872e2889386e679",
            "3e4dff9d4b044a949e2a8d3ef4fa91bb",
            "20662d97e88b43eab63e1f6fceb7d9df",
            "d9348988591b407a90a6a55a57fd5b09",
            "7b5011fe50524470adc366c9cf1d522e",
            "34a4f8c186ce46c2b98dd4d6532fa495",
            "3bf5d0e1a99b4caf9764e1ee451c285a",
            "821f144019d748f4b63b84141774c306",
            "529f3599fb7049d9a0a71cc60fef33c8",
            "c96a41d6c8c94da8b2163d4cd5d23852",
            "ae035e3b1aee4a30b5d572f3cbe7371e",
            "f8b3b94fb4a64a7b9bb4054c921af7ec",
            "c0ac454113ab4383bcbd4765b3c82f96",
            "cb171a177f514d0ebf3f13da9f463638",
            "e772acaa25f643cfa8734a98bb231c7a",
            "91e5b49fd49a492c843522a136e930e7",
            "7f838836884d42a6880c36d87b5592a3",
            "8825b29834e8427f8569c7042882a711",
            "48290ca828b14599b9e5a1aef0458e59",
            "ef7308b785bf49efb969ec25eef19540",
            "ea9aa00b58ab44568eb5d72af2dca815",
            "9e177ebfdcfd497ca3dc1ad123cb678f",
            "33b4889f605847009651054b8e9ecc44",
            "40f8d93705f34b068fb8495146116375",
            "1f92de0d1d4e453f8cfecd5772a0348d",
            "b66e94b41fab4dd888589001d0e179bf",
            "bcba21bdff5943eaa2093e15c1600712",
            "5e04f677640f48abaf4e098585bd7b3f",
            "7cf40ae2268846009e41a01f4b10eb7c",
            "7220b6b232ca4cd4a5952d65a56c376b",
            "a33762b6ad9f46f798455f5acfc29703",
            "83166e3795764bbf9d4f5567a960b61f",
            "770a27137b3c459b94bc2ae6022b3b16",
            "a38a65017cee4ee8a526983843aa5b05",
            "6ff1beb61ee545618b4df497e532004c",
            "8227f724d2104b53a20d129411358f2f",
            "dc2e55cba8114848a27d2299e27ab571",
            "5a05dadcf61e48f0abc3d017e4b47ed0",
            "46f5e72494cf413f8502698f7a14a276",
            "ea4c692e3d5548108352691bf0ca2275",
            "3fa7003c789f447e8c8ae9dacc1c50e5",
            "ce92154d17df42ebb6083f7ecf1e7f13",
            "fb0743c20f4d4566b4fe3b75aead249f",
            "53d836af639e40b09fbc2cd775299986",
            "1db4050d1f5a45969433558a01523b80",
            "5ec7995570fb4065b141119e30a0c352",
            "eda8c8faa3c5489ebb6ff2799f7c872a",
            "a489c74dcb77439a9475b71a64d8948c",
            "9c8dbc5c5c3c4b25977f00bb13b1f32e",
            "0517bc127bf84157aa50821d8ba4a1a3",
            "fc306c724fbe4086bf272c5dd4dddbb7",
            "3659fbe999c7404fa7d9a0705f2ec2f3",
            "a38db04fa6814a2486d2bb405c7b8e9e",
            "86f12ba22b844521a1bb161bf6ca6174",
            "9011dbf211c94b64bbc4f2a5c98691d3",
            "06362ab7e72d40038a0fbbaffbfc66cd",
            "d539ec1a1b7e4810aa225d47b2a959d9",
            "58aaa53439f24d08a6ff012b000f769b",
            "be891a7b5a08491da2efa3b9389fdd19",
            "6bb74c5700fa4bb3bac2900eb335b500",
            "9a4a0596df7f49dfaba71614cd09fb96",
            "ef428314f52e435f978dfbdedb062606",
            "14837e64ccb84008bb192b8a4d524004",
            "0932cf86c311432299153fe069854682",
            "039605d6b1d04c818968b11c04fbf7fd",
            "a3ca2febc2304f109272eb71733d1715",
            "b839d43685c94d26927e29dcf1775057",
            "50def04e519645beb82234134a7b637f",
            "640603cc2ced4335b492509191b582e7",
            "d4a06e0c4bb04c41ab3ca5b4cef21c3f",
            "324f4e4d7a0241f8a385e4c3d14d0ada",
            "d746e49b8d0d4311b9fbb38ee95ebbc7",
            "838060a37d3141d88e2c399a28423fe6",
            "108e492df03d427a81df69195c5fef17",
            "00420df709f945958601c3843666a274",
            "5605275a05af41839cf4f98e614a3db8",
            "85c9fd2ffc164c77ab795acc96bce947"
          ]
        },
        "id": "2s0h541FxIgc",
        "outputId": "00cb5076-da8a-4ec6-8bf0-272de3832c18"
      },
      "outputs": [
        {
          "output_type": "stream",
          "name": "stderr",
          "text": [
            "/usr/local/lib/python3.10/dist-packages/huggingface_hub/utils/_token.py:88: UserWarning: \n",
            "The secret `HF_TOKEN` does not exist in your Colab secrets.\n",
            "To authenticate with the Hugging Face Hub, create a token in your settings tab (https://huggingface.co/settings/tokens), set it as secret in your Google Colab and restart your session.\n",
            "You will be able to reuse this secret in all of your notebooks.\n",
            "Please note that authentication is recommended but still optional to access public models or datasets.\n",
            "  warnings.warn(\n",
            "/usr/local/lib/python3.10/dist-packages/datasets/load.py:1461: FutureWarning: The repository for emotion contains custom code which must be executed to correctly load the dataset. You can inspect the repository content at https://hf.co/datasets/emotion\n",
            "You can avoid this message in future by passing the argument `trust_remote_code=True`.\n",
            "Passing `trust_remote_code=True` will be mandatory to load this dataset from the next major release of `datasets`.\n",
            "  warnings.warn(\n"
          ]
        },
        {
          "output_type": "display_data",
          "data": {
            "text/plain": [
              "Downloading builder script:   0%|          | 0.00/3.97k [00:00<?, ?B/s]"
            ],
            "application/vnd.jupyter.widget-view+json": {
              "version_major": 2,
              "version_minor": 0,
              "model_id": "2cd38d3fe0b04064912dd8dbd06ac63c"
            }
          },
          "metadata": {}
        },
        {
          "output_type": "display_data",
          "data": {
            "text/plain": [
              "Downloading metadata:   0%|          | 0.00/3.28k [00:00<?, ?B/s]"
            ],
            "application/vnd.jupyter.widget-view+json": {
              "version_major": 2,
              "version_minor": 0,
              "model_id": "43c9448fbe10411c980488477db95b2e"
            }
          },
          "metadata": {}
        },
        {
          "output_type": "display_data",
          "data": {
            "text/plain": [
              "Downloading readme:   0%|          | 0.00/8.78k [00:00<?, ?B/s]"
            ],
            "application/vnd.jupyter.widget-view+json": {
              "version_major": 2,
              "version_minor": 0,
              "model_id": "825523c1897244dba872e2889386e679"
            }
          },
          "metadata": {}
        },
        {
          "output_type": "display_data",
          "data": {
            "text/plain": [
              "Downloading data:   0%|          | 0.00/592k [00:00<?, ?B/s]"
            ],
            "application/vnd.jupyter.widget-view+json": {
              "version_major": 2,
              "version_minor": 0,
              "model_id": "f8b3b94fb4a64a7b9bb4054c921af7ec"
            }
          },
          "metadata": {}
        },
        {
          "output_type": "display_data",
          "data": {
            "text/plain": [
              "Downloading data:   0%|          | 0.00/74.0k [00:00<?, ?B/s]"
            ],
            "application/vnd.jupyter.widget-view+json": {
              "version_major": 2,
              "version_minor": 0,
              "model_id": "33b4889f605847009651054b8e9ecc44"
            }
          },
          "metadata": {}
        },
        {
          "output_type": "display_data",
          "data": {
            "text/plain": [
              "Downloading data:   0%|          | 0.00/74.9k [00:00<?, ?B/s]"
            ],
            "application/vnd.jupyter.widget-view+json": {
              "version_major": 2,
              "version_minor": 0,
              "model_id": "a38a65017cee4ee8a526983843aa5b05"
            }
          },
          "metadata": {}
        },
        {
          "output_type": "display_data",
          "data": {
            "text/plain": [
              "Generating train split:   0%|          | 0/16000 [00:00<?, ? examples/s]"
            ],
            "application/vnd.jupyter.widget-view+json": {
              "version_major": 2,
              "version_minor": 0,
              "model_id": "1db4050d1f5a45969433558a01523b80"
            }
          },
          "metadata": {}
        },
        {
          "output_type": "display_data",
          "data": {
            "text/plain": [
              "Generating validation split:   0%|          | 0/2000 [00:00<?, ? examples/s]"
            ],
            "application/vnd.jupyter.widget-view+json": {
              "version_major": 2,
              "version_minor": 0,
              "model_id": "06362ab7e72d40038a0fbbaffbfc66cd"
            }
          },
          "metadata": {}
        },
        {
          "output_type": "display_data",
          "data": {
            "text/plain": [
              "Generating test split:   0%|          | 0/2000 [00:00<?, ? examples/s]"
            ],
            "application/vnd.jupyter.widget-view+json": {
              "version_major": 2,
              "version_minor": 0,
              "model_id": "b839d43685c94d26927e29dcf1775057"
            }
          },
          "metadata": {}
        }
      ],
      "source": [
        "from datasets import load_dataset\n",
        "dataset = load_dataset(\"emotion\")"
      ]
    },
    {
      "cell_type": "code",
      "execution_count": null,
      "metadata": {
        "colab": {
          "base_uri": "https://localhost:8080/"
        },
        "id": "z7eCnxU25eiN",
        "outputId": "6cb147f5-d9d9-4f75-cb17-04d82ebf8fc5"
      },
      "outputs": [
        {
          "output_type": "execute_result",
          "data": {
            "text/plain": [
              "DatasetDict({\n",
              "    train: Dataset({\n",
              "        features: ['text', 'label'],\n",
              "        num_rows: 16000\n",
              "    })\n",
              "    validation: Dataset({\n",
              "        features: ['text', 'label'],\n",
              "        num_rows: 2000\n",
              "    })\n",
              "    test: Dataset({\n",
              "        features: ['text', 'label'],\n",
              "        num_rows: 2000\n",
              "    })\n",
              "})"
            ]
          },
          "metadata": {},
          "execution_count": 5
        }
      ],
      "source": [
        "dataset"
      ]
    },
    {
      "cell_type": "code",
      "execution_count": null,
      "metadata": {
        "id": "oDYXMfZy5eiP"
      },
      "outputs": [],
      "source": [
        "train = dataset['train']\n",
        "val = dataset['validation']\n",
        "test = dataset['test']"
      ]
    },
    {
      "cell_type": "code",
      "execution_count": null,
      "metadata": {
        "id": "jeq3-vSB5eiR"
      },
      "outputs": [],
      "source": [
        "def get_tweet(data):\n",
        "  tweets = [x['text'] for x in data]\n",
        "  labels = [x['label'] for x in data]\n",
        "\n",
        "  return tweets, labels"
      ]
    },
    {
      "cell_type": "code",
      "execution_count": null,
      "metadata": {
        "colab": {
          "base_uri": "https://localhost:8080/"
        },
        "id": "bHD3Tk0J5eiU",
        "outputId": "812771b0-741e-4f22-e004-2a60f70a20ff"
      },
      "outputs": [
        {
          "output_type": "stream",
          "name": "stdout",
          "text": [
            "<class 'int'>\n",
            "[0, 0, 3, 2, 3, 0, 5, 4, 1, 2, 0, 1, 3, 0, 1, 1, 0, 0, 0, 4, 3, 4, 1, 1, 3, 0, 0, 0, 3, 1, 1, 4, 5, 3, 1, 1, 1, 1, 3, 1, 1, 1, 1, 1, 0, 0, 1, 2, 1, 3, 1, 0, 3, 4, 1, 0, 0, 5, 1, 1, 1, 2, 4, 4, 5, 3, 3, 0, 2, 1, 0, 0, 1, 0, 0, 0, 1, 1, 1, 3, 0, 3, 3, 3, 1, 1, 1, 1, 0, 4, 2, 3, 0, 3, 2, 0, 1, 1, 0, 3, 2, 1, 1, 1, 0, 1, 1, 1, 1, 0, 1, 1, 2, 0, 0, 1, 1, 0, 1, 1, 4, 4, 4, 0, 2, 1, 1, 2, 4, 5, 1, 1, 1, 1, 3, 4, 1, 3, 2, 3, 0, 1, 0, 3, 1, 5, 0, 3, 3, 0, 1, 4, 1, 1, 4, 0, 5, 5, 1, 3, 4, 3, 0, 3, 0, 4, 0, 1, 5, 4, 1, 3, 1, 3, 1, 4, 4, 0, 1, 1, 0, 5, 1, 4, 1, 0, 1, 1, 1, 4, 1, 5, 1, 3, 0, 0, 1, 3, 0, 1, 1, 5, 1, 4, 1, 4, 0, 4, 2, 0, 4, 2, 0, 0, 3, 1, 2, 3, 0, 5, 3, 1, 0, 3, 1, 1, 1, 1, 1, 0, 1, 2, 1, 0, 3, 5, 1, 3, 1, 2, 0, 0, 1, 0, 0, 1, 0, 1, 1, 1, 4, 0, 3, 0, 3, 2, 1, 2, 0, 1, 1, 1, 0, 1, 0, 3, 2, 0, 2, 0, 0, 0, 0, 0, 0, 4, 1, 0, 0, 1, 2, 0, 3, 0, 2, 1, 1, 1, 0, 1, 0, 1, 1, 1, 0, 0, 0, 2, 4, 0, 4, 1, 1, 4, 1, 3, 3, 2, 0, 5, 1, 3, 0, 0, 3, 2, 5, 0, 2, 1, 3, 1, 0, 0, 1, 1, 4, 0, 3, 1, 2, 1, 1, 1, 1, 1, 2, 1, 4, 4, 1, 1, 3, 1, 1, 1, 0, 5, 1, 1, 0, 5, 1, 4, 1, 3, 2, 3, 4, 5, 1, 3, 0, 0, 0, 4, 1, 4, 1, 3, 0, 2, 3, 0, 2, 2, 1, 0, 1, 1, 3, 1, 2, 1, 1, 0, 5, 1, 1, 0, 5, 3, 1, 1, 2, 1, 2, 2, 1, 0, 1, 0, 4, 3, 0, 3, 1, 4, 5, 2, 0, 0, 1, 5, 2, 0, 0, 1, 4, 1, 1, 1, 2, 4, 0, 0, 4, 2, 1, 0, 1, 0, 1, 0, 1, 0, 1, 1, 3, 0, 4, 0, 0, 3, 5, 5, 1, 5, 4, 2, 3, 1, 4, 0, 3, 0, 1, 4, 1, 1, 1, 1, 5, 3, 0, 1, 0, 3, 2, 0, 2, 3, 2, 2, 1, 1, 0, 1, 0, 1, 3, 1, 4, 0, 1, 0, 5, 1, 1, 2, 1, 0, 3, 1, 0, 0, 0, 1, 1, 1, 0, 0, 3, 3, 1, 0, 5, 1, 1, 0, 3, 1, 3, 1, 1, 2, 3, 1, 1, 1, 1, 1, 1, 1, 4, 1, 4, 0, 3, 3, 0, 2, 0, 0, 0, 5, 4, 0, 0, 1, 4, 1, 0, 0, 3, 0, 3, 3, 2, 1, 1, 0, 1, 1, 1, 2, 2, 2, 1, 5, 4, 0, 3, 0, 4, 1, 3, 1, 1, 0, 1, 4, 1, 3, 0, 3, 1, 2, 2, 0, 4, 0, 0, 0, 4, 0, 3, 1, 1, 0, 4, 4, 3, 3, 0, 0, 3, 3, 1, 4, 0, 0, 4, 1, 4, 0, 0, 1, 0, 3, 0, 2, 5, 1, 1, 1, 1, 1, 0, 0, 2, 4, 3, 1, 2, 1, 1, 4, 3, 4, 0, 3, 3, 3, 4, 1, 2, 3, 4, 3, 1, 4, 0, 0, 3, 1, 3, 4, 4, 5, 0, 1, 1, 1, 2, 0, 1, 0, 3, 1, 1, 4, 4, 1, 4, 3, 3, 3, 1, 0, 1, 1, 1, 3, 4, 3, 1, 0, 1, 4, 1, 0, 3, 0, 0, 1, 1, 0, 2, 1, 0, 3, 2, 0, 1, 1, 4, 3, 1, 1, 2, 5, 4, 4, 3, 3, 2, 0, 0, 1, 2, 3, 1, 3, 1, 1, 1, 4, 4, 2, 0, 2, 1, 1, 0, 0, 3, 3, 3, 3, 0, 1, 0, 1, 4, 0, 1, 0, 1, 5, 4, 1, 1, 4, 4, 0, 0, 3, 0, 2, 1, 5, 1, 5, 1, 4, 1, 1, 1, 1, 5, 2, 0, 2, 1, 0, 1, 1, 0, 1, 1, 1, 1, 4, 4, 4, 4, 3, 2, 0, 1, 1, 0, 0, 0, 0, 1, 0, 0, 4, 1, 3, 1, 1, 4, 3, 1, 3, 3, 3, 3, 3, 1, 4, 0, 2, 0, 4, 2, 1, 5, 1, 1, 1, 1, 0, 5, 1, 3, 3, 3, 1, 1, 0, 2, 0, 1, 3, 3, 3, 4, 1, 1, 4, 0, 5, 1, 2, 0, 1, 1, 0, 0, 0, 3, 1, 0, 0, 0, 0, 1, 5, 1, 3, 2, 1, 3, 0, 1, 3, 0, 4, 4, 0, 0, 4, 0, 2, 4, 1, 1, 4, 1, 3, 1, 1, 3, 1, 1, 2, 3, 1, 1, 1, 3, 1, 2, 4, 3, 2, 0, 4, 0, 0, 2, 1, 4, 2, 1, 1, 0, 1, 0, 4, 1, 0, 2, 0, 2, 0, 0, 3, 2, 3, 1, 3, 0, 0, 1, 1, 3, 0, 5, 1, 2, 0, 3, 4, 2, 1, 1, 3, 1, 0, 1, 1, 1, 2, 1, 0, 2, 4, 0, 1, 0, 3, 1, 1, 0, 1, 2, 1, 1, 1, 3, 4, 0, 1, 0, 0, 2, 3, 1, 2, 0, 1, 4, 0, 1, 1, 0, 0, 2, 1, 0, 0, 0, 0, 3, 0, 1, 0, 1, 0, 2, 3, 1, 4, 0, 0, 1, 1, 3, 4, 2, 1, 0, 3, 0, 1, 0, 1, 1, 0, 2, 1, 1, 0, 3, 0, 3, 0, 1, 0, 3, 1, 5, 0, 4, 0, 4, 0, 3, 3, 1, 3, 1, 1, 1, 0, 4, 1, 1, 3, 1, 4, 1, 2, 0, 0, 0, 0, 1, 2, 4, 1, 3, 0, 1, 4, 1, 1, 0, 4, 0, 1, 0, 0, 0, 0, 2, 0, 4, 4, 1, 2, 0, 0, 2, 1, 0, 0, 0, 0, 2, 1, 1, 0, 4, 1, 1, 1, 1, 1, 3, 4, 2, 1, 3, 2, 2, 1, 0, 0, 3, 1, 1, 4, 1, 1, 0, 0, 2, 1, 1, 1, 1, 1, 0, 1, 2, 1, 4, 1, 0, 1, 1, 4, 1, 0, 4, 1, 0, 1, 0, 4, 1, 1, 4, 0, 0, 1, 1, 1, 1, 4, 1, 1, 4, 1, 4, 5, 1, 4, 5, 4, 1, 1, 5, 0, 0, 1, 1, 1, 1, 1, 1, 1, 1, 4, 0, 3, 1, 0, 1, 4, 2, 2, 4, 0, 0, 1, 4, 0, 2, 3, 1, 0, 1, 1, 0, 4, 0, 1, 0, 0, 1, 0, 0, 0, 4, 1, 3, 0, 0, 1, 1, 1, 1, 2, 1, 4, 1, 1, 1, 4, 0, 0, 1, 0, 0, 1, 0, 0, 0, 1, 0, 4, 3, 0, 1, 4, 1, 0, 1, 1, 4, 4, 0, 1, 5, 1, 3, 2, 0, 0, 2, 3, 4, 4, 1, 0, 2, 0, 0, 1, 1, 0, 2, 1, 1, 1, 1, 3, 5, 2, 3, 0, 0, 1, 0, 1, 1, 1, 0, 3, 0, 0, 0, 1, 3, 1, 0, 0, 1, 3, 1, 1, 2, 0, 1, 0, 5, 3, 1, 0, 4, 1, 1, 3, 1, 1, 0, 3, 2, 1, 0, 5, 2, 2, 0, 0, 0, 2, 0, 2, 1, 1, 0, 2, 1, 3, 0, 1, 3, 0, 3, 1, 2, 1, 4, 3, 1, 0, 4, 0, 0, 0, 0, 0, 4, 2, 0, 0, 1, 0, 2, 3, 1, 5, 1, 4, 0, 4, 0, 1, 3, 3, 5, 1, 2, 0, 5, 1, 1, 5, 0, 2, 1, 3, 4, 0, 0, 0, 0, 0, 3, 1, 1, 1, 0, 5, 5, 3, 1, 1, 4, 1, 0, 4, 3, 3, 4, 2, 4, 3, 3, 3, 0, 4, 1, 1, 4, 4, 3, 1, 3, 1, 1, 2, 3, 0, 4, 1, 3, 0, 3, 0, 2, 3, 4, 1, 4, 0, 0, 3, 1, 4, 0, 2, 2, 0, 3, 3, 1, 0, 3, 0, 0, 4, 1, 0, 0, 1, 3, 0, 1, 1, 3, 1, 1, 3, 3, 0, 1, 3, 0, 4, 0, 4, 1, 4, 1, 1, 1, 1, 0, 3, 0, 1, 4, 1, 0, 1, 4, 1, 1, 1, 1, 0, 1, 3, 1, 1, 1, 1, 4, 1, 4, 0, 2, 1, 1, 1, 1, 3, 1, 4, 0, 3, 1, 1, 0, 5, 5, 1, 0, 0, 2, 4, 1, 2, 2, 1, 0, 0, 1, 3, 1, 1, 1, 4, 4, 1, 0, 5, 1, 1, 1, 1, 1, 0, 3, 4, 3, 0, 1, 3, 4, 2, 0, 2, 1, 0, 2, 0, 1, 1, 2, 0, 2, 3, 1, 2, 1, 4, 0, 0, 5, 0, 1, 1, 1, 3, 0, 1, 1, 0, 1, 1, 0, 0, 1, 3, 1, 4, 3, 1, 1, 1, 4, 0, 1, 4, 0, 0, 3, 0, 1, 1, 3, 0, 0, 0, 0, 1, 1, 1, 0, 1, 1, 1, 0, 4, 2, 4, 4, 4, 3, 3, 0, 1, 0, 0, 0, 0, 4, 1, 0, 1, 4, 4, 0, 3, 4, 0, 0, 1, 3, 0, 0, 1, 0, 4, 3, 3, 1, 1, 0, 1, 1, 0, 0, 1, 0, 4, 1, 0, 0, 0, 4, 1, 5, 0, 1, 2, 1, 3, 5, 1, 1, 0, 0, 1, 1, 4, 1, 3, 1, 1, 1, 4, 1, 3, 1, 3, 0, 1, 0, 0, 1, 4, 1, 1, 4, 0, 0, 2, 0, 3, 0, 0, 3, 3, 0, 2, 0, 2, 1, 0, 1, 2, 4, 1, 4, 1, 3, 1, 0, 1, 1, 4, 5, 0, 1, 0, 5, 0, 0, 0, 0, 1, 4, 0, 0, 3, 1, 0, 2, 4, 3, 0, 4, 0, 1, 1, 1, 5, 1, 0, 1, 3, 1, 1, 3, 3, 0, 5, 4, 5, 1, 4, 0, 2, 1, 1, 3, 0, 2, 0, 0, 1, 3, 0, 0, 3, 5, 1, 3, 0, 3, 3, 0, 1, 5, 4, 1, 1, 4, 1, 3, 0, 0, 1, 1, 0, 1, 0, 4, 3, 0, 1, 3, 3, 2, 1, 1, 1, 1, 3, 1, 1, 0, 1, 1, 1, 1, 4, 0, 0, 0, 1, 1, 0, 0, 1, 1, 2, 0, 3, 0, 2, 1, 0, 1, 0, 1, 3, 1, 0, 0, 0, 5, 3, 1, 0, 0, 3, 1, 1, 0, 4, 1, 2, 0, 3, 4, 4, 2, 0, 2, 1, 2, 0, 0, 1, 2, 4, 0, 1, 1, 0, 0, 2, 1, 4, 4, 3, 1, 4, 4, 5, 0, 1, 4, 1, 4, 1, 0, 2, 1, 1, 3, 0, 1, 1, 3, 0, 0, 1, 1, 4, 1, 4, 1, 1, 1, 4, 1, 3, 3, 1, 4, 0, 1, 0, 0, 3, 0, 3, 0, 0, 1, 0, 4, 0, 2, 4, 1, 0, 4, 2, 1, 4, 0, 0, 0, 1, 1, 1, 1, 0, 3, 4, 1, 1, 1, 0, 5, 4, 1, 1, 0, 1, 2, 1, 0, 4, 1, 3, 1, 1, 3, 4, 2, 5, 3, 1, 0, 0, 0, 0, 0, 3, 5, 4, 1, 0, 0, 1, 0, 1, 2, 3, 0, 4, 0, 1, 0, 2, 1, 0, 2, 2, 0, 4, 1, 1, 2, 1, 1, 0, 1, 0, 2, 2, 3, 0, 1, 0, 4, 1, 0, 1, 4, 0, 1, 5, 5, 1, 0, 3, 4, 3, 0, 0, 5, 1, 0, 3, 0, 4, 2, 1, 1, 5, 1, 0, 3, 4, 0, 1, 1, 4, 1, 1, 1, 0, 3, 1, 3, 0, 1, 0, 0, 4, 2, 4, 1, 1, 1, 1, 4, 3, 5, 1, 0, 0, 1, 4, 0, 1, 0, 1, 0, 1, 1, 1, 2, 4, 1, 0, 0, 5, 2, 4, 3, 3, 0, 0, 1, 2, 1, 2, 1, 4, 0, 2, 0, 0, 0, 0, 3, 0, 0, 1, 0, 0, 0, 2, 3, 3, 0, 0, 1, 4, 3, 0, 1, 1, 5, 2, 1, 3, 1, 1, 0, 5, 0, 1, 5, 3, 1, 0, 1, 2, 1, 1, 4, 5, 1, 4, 1, 3, 4, 1, 0, 0, 0, 1, 3, 1, 2, 0, 0, 1, 3, 0, 1, 1, 5, 0, 1, 0, 0, 2, 3, 3, 1, 5, 3, 2, 2, 3, 0, 3, 0, 3, 1, 0, 4, 1, 2, 4, 1, 1, 1, 1, 0, 0, 4, 1, 3, 0, 0, 3, 0, 3, 0, 4, 5, 0, 1, 1, 1, 3, 0, 1, 0, 1, 1, 0, 4, 0, 1, 5, 1, 2, 1, 4, 3, 0, 1, 1, 1, 3, 0, 0, 3, 4, 0, 3, 0, 0, 3, 1, 5, 0, 4, 0, 4, 4, 4, 0, 1, 2, 1, 1, 0, 3, 3, 3, 5, 1, 5, 4, 1, 3, 0, 4, 1, 4, 1, 2, 0, 0, 0, 0, 5, 0, 1, 1, 0, 1, 1, 4, 1, 2, 3, 4, 1, 0, 3, 0, 2, 1, 1, 5, 3, 0, 1, 1, 1, 0, 1, 2, 3, 1, 1, 3, 3, 0, 2, 0, 1, 1, 3, 1, 1, 0, 2, 2, 1, 3, 1, 1, 5, 0, 0, 1, 3, 0, 3, 0, 1, 1, 1, 1, 0, 4, 1, 0, 0, 3, 3, 1, 1, 0, 4, 0, 0, 3, 4, 3, 3, 1, 0, 1, 1, 5, 4, 1, 0, 1, 4, 5, 3, 1, 0, 4, 4, 3, 2, 1, 3, 1, 0, 5, 0, 3, 0, 5, 4, 0, 0, 0, 3, 0, 1, 4, 1, 1, 0, 0, 2, 3, 1, 0, 2, 0, 1, 1, 1, 4, 2, 1, 1, 4, 1, 3, 0, 2, 0, 3, 3, 1, 2, 0, 0, 1, 0, 1, 5, 1, 3, 4, 3, 1, 0, 1, 0, 3, 4, 0, 0, 0, 3, 1, 4, 3, 0, 3, 1, 0, 4, 4, 1, 0, 2, 5, 4, 1, 3, 1, 1, 0, 1, 1, 1, 0, 3, 1, 3, 1, 3, 2, 2, 2, 5, 0, 1, 1, 0, 1, 4, 1, 2, 1, 0, 0, 1, 4, 1, 0, 1, 4, 0, 1, 0, 5, 1, 4, 1, 0, 0, 0, 0, 0, 4, 1, 1, 3, 4, 3, 1, 1, 1, 3, 3, 0, 0, 0, 3, 2, 0, 3, 1, 3, 0, 1, 1, 1, 1, 0, 1, 0, 0, 1, 0, 1, 4, 1, 3, 1, 0, 0, 5, 1, 1, 1, 3, 1, 3, 1, 1, 1, 1, 5, 0, 1, 2, 1, 0, 0, 5, 3, 3, 2, 1, 3, 3, 3, 4, 0, 4, 1, 4, 2, 1, 3, 0, 2, 0, 5, 0, 1, 1, 0, 1, 1, 0, 1, 1, 4, 1, 1, 3, 1, 1, 0, 0, 0, 1, 0, 0, 4, 4, 2, 1, 1, 1, 4, 0, 3, 0, 0, 0, 1, 0, 0, 0, 0, 0, 1, 1, 3, 3, 3, 0, 3, 1, 0, 0, 4, 0, 1, 1, 3, 0, 4, 4, 0, 2, 0, 1, 0, 0, 4, 5, 0, 1, 5, 3, 0, 3, 3, 0, 3, 5, 1, 1, 0, 0, 1, 1, 1, 0, 1, 1, 1, 0, 0, 1, 2, 1, 4, 0, 1, 1, 0, 3, 1, 1, 1, 0, 0, 1, 0, 1, 1, 0, 0, 0, 1, 3, 5, 4, 1, 4, 0, 1, 0, 0, 0, 1, 4, 1, 0, 1, 1, 1, 0, 0, 1, 1, 4, 1, 3, 3, 1, 0, 1, 0, 0, 0, 0, 1, 4, 0, 0, 0, 3, 1, 2, 2, 1, 0, 0, 2, 0, 3, 0, 4, 1, 0, 0, 2, 0, 1, 0, 3, 5, 1, 5, 4, 1, 4, 0, 3, 1, 1, 1, 3, 4, 1, 0, 3, 0, 1, 0, 1, 1, 1, 3, 0, 1, 0, 0, 3, 1, 4, 1, 3, 4, 0, 3, 1, 3, 1, 1, 0, 1, 2, 5, 1, 4, 4, 1, 0, 1, 1, 1, 2, 0, 2, 3, 0, 0, 4, 1, 1, 3, 0, 1, 4, 4, 2, 3, 3, 2, 0, 3, 0, 2, 1, 4, 1, 1, 0, 1, 1, 3, 1, 1, 1, 1, 3, 1, 3, 0, 0, 0, 1, 0, 3, 0, 2, 3, 1, 0, 1, 3, 4, 2, 3, 1, 1, 0, 4, 4, 0, 0, 5, 1, 0, 1, 2, 3, 0, 2, 0, 0, 5, 1, 0, 0, 0, 3, 0, 0, 1, 3, 0, 0, 4, 0, 1, 0, 1, 3, 1, 0, 0, 3, 0, 3, 2, 1, 4, 0, 4, 4, 0, 4, 2, 0, 5, 3, 3, 4, 4, 4, 4, 0, 1, 0, 4, 0, 3, 1, 0, 2, 1, 0, 0, 3, 0, 1, 1, 4, 3, 0, 0, 0, 0, 1, 0, 1, 1, 0, 1, 3, 1, 1, 0, 0, 0, 3, 4, 0, 0, 3, 1, 1, 1, 0, 0, 0, 4, 1, 1, 4, 1, 0, 1, 1, 1, 3, 5, 3, 1, 1, 2, 0, 1, 0, 2, 1, 0, 3, 2, 3, 0, 0, 0, 1, 1, 1, 4, 2, 1, 1, 2, 3, 1, 4, 0, 2, 1, 1, 1, 5, 0, 1, 0, 0, 1, 0, 1, 1, 4, 0, 0, 0, 1, 1, 0, 1, 1, 1, 1, 0, 2, 3, 1, 2, 0, 1, 3, 0, 1, 5, 4, 2, 1, 1, 0, 3, 0, 1, 0, 1, 4, 4, 1, 1, 4, 3, 1, 1, 0, 0, 3, 0, 1, 1, 3, 0, 1, 1, 0, 1, 1, 0, 3, 1, 3, 3, 0, 4, 5, 4, 1, 0, 0, 1, 0, 0, 2, 4, 2, 4, 0, 1, 0, 1, 0, 2, 1, 0, 0, 3, 1, 3, 4, 0, 0, 0, 2, 1, 1, 0, 4, 0, 3, 0, 1, 2, 1, 1, 3, 1, 4, 0, 1, 1, 4, 3, 4, 1, 0, 0, 4, 0, 0, 1, 5, 4, 4, 1, 0, 1, 4, 0, 4, 0, 3, 1, 3, 1, 2, 2, 1, 1, 1, 0, 0, 2, 4, 1, 0, 3, 4, 1, 0, 1, 1, 0, 4, 0, 1, 0, 3, 4, 4, 4, 0, 2, 5, 3, 2, 3, 0, 0, 1, 1, 0, 2, 4, 4, 1, 4, 0, 4, 2, 0, 4, 0, 3, 3, 0, 0, 0, 4, 1, 3, 1, 4, 0, 1, 4, 2, 4, 0, 1, 4, 1, 5, 1, 1, 1, 0, 1, 1, 1, 0, 3, 3, 1, 5, 3, 1, 4, 2, 0, 3, 5, 0, 1, 3, 1, 3, 0, 1, 4, 0, 5, 1, 3, 0, 1, 3, 0, 0, 2, 3, 0, 3, 0, 4, 3, 0, 1, 2, 3, 4, 1, 2, 0, 3, 0, 1, 1, 0, 4, 2, 4, 1, 2, 2, 1, 2, 1, 1, 1, 0, 3, 0, 1, 0, 1, 4, 1, 0, 0, 0, 0, 2, 5, 1, 1, 0, 0, 3, 2, 1, 1, 0, 5, 4, 2, 1, 1, 4, 0, 1, 0, 3, 0, 0, 0, 1, 0, 4, 0, 1, 1, 1, 1, 1, 1, 1, 1, 0, 3, 3, 0, 1, 1, 2, 3, 2, 3, 1, 0, 2, 0, 0, 0, 0, 3, 1, 1, 0, 1, 1, 4, 0, 1, 1, 0, 4, 2, 1, 1, 4, 0, 2, 4, 4, 4, 0, 2, 1, 1, 0, 2, 1, 4, 1, 1, 1, 1, 3, 4, 0, 0, 0, 3, 1, 1, 4, 1, 4, 3, 0, 0, 1, 4, 1, 1, 0, 1, 0, 0, 2, 1, 0, 0, 3, 1, 5, 0, 0, 0, 1, 0, 1, 1, 0, 0, 2, 1, 1, 1, 1, 2, 3, 1, 1, 4, 1, 0, 1, 1, 1, 0, 1, 0, 0, 4, 1, 1, 1, 3, 1, 4, 1, 3, 2, 0, 0, 1, 1, 3, 0, 1, 4, 1, 3, 3, 0, 0, 1, 0, 0, 3, 1, 3, 0, 0, 0, 0, 3, 1, 0, 0, 1, 1, 1, 0, 0, 5, 0, 0, 0, 3, 1, 1, 0, 0, 1, 0, 0, 0, 0, 4, 2, 3, 1, 5, 5, 4, 0, 3, 1, 0, 4, 0, 4, 5, 4, 0, 0, 3, 0, 0, 2, 3, 1, 1, 1, 4, 0, 0, 1, 0, 1, 1, 0, 4, 0, 1, 3, 0, 4, 4, 4, 1, 0, 1, 0, 0, 1, 0, 0, 1, 1, 4, 2, 1, 1, 0, 0, 3, 0, 1, 1, 1, 1, 4, 1, 0, 0, 5, 1, 2, 3, 4, 3, 3, 1, 0, 1, 5, 1, 1, 0, 0, 2, 1, 0, 2, 0, 4, 1, 0, 1, 1, 1, 1, 0, 0, 3, 1, 0, 0, 0, 2, 0, 2, 4, 0, 1, 3, 3, 4, 1, 2, 1, 4, 5, 0, 1, 4, 4, 3, 0, 0, 4, 1, 1, 0, 0, 3, 2, 1, 4, 2, 1, 3, 1, 3, 1, 0, 3, 4, 1, 0, 2, 2, 1, 0, 3, 1, 1, 0, 1, 3, 4, 3, 5, 3, 5, 0, 4, 2, 2, 3, 2, 2, 1, 0, 0, 2, 0, 0, 3, 5, 0, 1, 4, 5, 0, 3, 2, 0, 4, 0, 3, 1, 0, 0, 2, 0, 2, 1, 4, 2, 1, 2, 0, 0, 0, 4, 1, 4, 4, 2, 1, 0, 4, 0, 1, 4, 0, 0, 3, 1, 1, 1, 2, 2, 1, 0, 1, 1, 3, 1, 1, 0, 1, 2, 0, 1, 0, 1, 0, 3, 1, 1, 1, 0, 1, 0, 1, 1, 4, 0, 4, 0, 3, 0, 0, 4, 0, 4, 1, 0, 4, 3, 0, 5, 1, 3, 1, 3, 1, 5, 0, 1, 1, 4, 2, 2, 1, 0, 0, 1, 4, 1, 3, 0, 4, 3, 0, 3, 0, 1, 1, 3, 1, 4, 2, 0, 2, 1, 0, 3, 1, 0, 4, 1, 1, 3, 4, 1, 1, 3, 1, 1, 1, 3, 4, 3, 1, 1, 1, 1, 3, 5, 1, 1, 1, 0, 1, 3, 1, 1, 0, 3, 0, 1, 3, 1, 1, 0, 1, 1, 1, 1, 1, 3, 4, 4, 4, 0, 0, 2, 2, 4, 4, 0, 1, 1, 1, 4, 0, 3, 3, 0, 3, 0, 0, 1, 0, 0, 4, 0, 3, 2, 0, 0, 1, 2, 0, 0, 3, 0, 1, 1, 0, 1, 1, 2, 3, 1, 0, 0, 2, 4, 5, 0, 3, 1, 0, 0, 3, 2, 3, 0, 1, 2, 0, 0, 1, 1, 4, 0, 1, 1, 3, 4, 4, 1, 1, 1, 0, 5, 4, 3, 3, 3, 0, 0, 1, 0, 0, 0, 0, 0, 5, 0, 3, 3, 0, 1, 1, 1, 5, 4, 1, 3, 1, 3, 2, 1, 0, 0, 1, 0, 0, 2, 4, 0, 1, 1, 0, 1, 0, 1, 2, 4, 1, 4, 0, 1, 1, 2, 2, 0, 1, 1, 0, 0, 1, 3, 1, 4, 3, 1, 4, 3, 1, 1, 4, 4, 0, 3, 3, 0, 2, 4, 1, 3, 1, 4, 1, 4, 4, 0, 1, 1, 1, 1, 3, 0, 1, 0, 3, 1, 3, 1, 1, 1, 1, 3, 1, 4, 1, 1, 3, 0, 0, 2, 3, 0, 1, 1, 1, 0, 5, 4, 1, 0, 0, 0, 1, 5, 0, 1, 0, 5, 0, 1, 3, 1, 5, 1, 1, 1, 3, 1, 0, 1, 5, 5, 1, 1, 0, 1, 0, 4, 4, 0, 1, 0, 0, 4, 0, 1, 1, 1, 1, 1, 1, 5, 4, 2, 4, 0, 1, 0, 4, 0, 3, 0, 0, 0, 0, 0, 1, 2, 1, 1, 0, 4, 1, 1, 2, 2, 0, 1, 5, 2, 0, 1, 1, 0, 3, 1, 3, 1, 1, 4, 4, 0, 0, 4, 1, 3, 0, 0, 1, 4, 0, 1, 1, 0, 2, 2, 1, 1, 5, 3, 5, 1, 1, 5, 0, 5, 0, 0, 4, 0, 2, 0, 1, 1, 0, 3, 0, 4, 4, 1, 3, 1, 1, 0, 1, 2, 1, 2, 3, 1, 4, 0, 1, 1, 2, 0, 1, 0, 4, 1, 1, 1, 0, 3, 0, 4, 1, 2, 3, 0, 0, 1, 0, 0, 4, 3, 0, 1, 1, 1, 2, 3, 1, 4, 3, 4, 1, 1, 1, 3, 0, 0, 0, 4, 1, 4, 1, 0, 1, 2, 1, 1, 1, 1, 1, 1, 1, 0, 3, 0, 2, 0, 2, 0, 1, 0, 4, 1, 3, 1, 4, 3, 0, 0, 0, 0, 1, 1, 1, 0, 1, 1, 3, 0, 1, 1, 4, 3, 0, 0, 0, 0, 0, 3, 1, 0, 1, 0, 0, 0, 0, 1, 1, 4, 0, 2, 3, 3, 1, 0, 0, 1, 3, 2, 1, 4, 1, 3, 1, 1, 1, 0, 0, 0, 3, 1, 2, 1, 1, 3, 5, 1, 0, 1, 1, 4, 5, 0, 0, 1, 3, 4, 1, 1, 0, 1, 5, 0, 5, 2, 2, 1, 0, 4, 0, 5, 0, 1, 5, 0, 2, 1, 1, 1, 1, 1, 1, 0, 2, 1, 0, 5, 4, 3, 0, 1, 1, 0, 3, 2, 0, 0, 4, 1, 1, 3, 4, 0, 0, 0, 2, 0, 1, 4, 1, 1, 0, 0, 1, 2, 0, 1, 0, 0, 3, 4, 0, 4, 4, 1, 4, 0, 3, 1, 1, 0, 1, 1, 4, 3, 0, 3, 2, 0, 4, 4, 4, 1, 2, 4, 3, 1, 3, 1, 2, 0, 1, 4, 4, 1, 1, 0, 1, 1, 4, 3, 0, 3, 4, 1, 0, 2, 1, 0, 1, 2, 0, 1, 1, 0, 3, 2, 1, 3, 0, 1, 0, 1, 0, 1, 0, 5, 3, 1, 1, 1, 3, 0, 2, 0, 4, 1, 0, 1, 4, 1, 1, 4, 4, 3, 0, 1, 3, 1, 0, 0, 0, 1, 1, 1, 2, 1, 4, 1, 0, 2, 1, 4, 0, 1, 0, 4, 2, 3, 0, 1, 1, 0, 1, 0, 1, 1, 0, 0, 1, 1, 1, 0, 1, 0, 0, 0, 1, 0, 1, 1, 4, 0, 0, 1, 3, 0, 5, 2, 0, 4, 5, 0, 3, 1, 4, 3, 0, 3, 1, 4, 1, 1, 2, 1, 0, 0, 1, 1, 4, 1, 1, 0, 3, 3, 3, 1, 2, 0, 4, 5, 0, 3, 1, 1, 0, 1, 0, 1, 1, 1, 4, 3, 1, 1, 1, 5, 4, 4, 0, 1, 2, 2, 1, 4, 0, 0, 0, 0, 1, 0, 1, 0, 3, 0, 2, 1, 2, 4, 0, 0, 1, 1, 2, 0, 1, 2, 4, 1, 0, 1, 1, 1, 4, 0, 1, 0, 1, 1, 4, 0, 2, 0, 1, 4, 2, 0, 0, 0, 2, 2, 3, 1, 4, 1, 1, 3, 1, 5, 0, 1, 2, 4, 0, 3, 3, 0, 0, 1, 0, 0, 2, 0, 0, 1, 0, 1, 4, 1, 1, 3, 1, 0, 1, 3, 5, 0, 1, 3, 1, 0, 4, 0, 0, 3, 0, 3, 1, 1, 1, 3, 4, 4, 0, 1, 3, 1, 2, 0, 0, 1, 1, 3, 0, 0, 1, 0, 0, 1, 0, 0, 1, 0, 0, 4, 0, 1, 0, 2, 1, 5, 3, 0, 1, 0, 5, 3, 4, 3, 0, 2, 0, 3, 1, 1, 4, 2, 4, 5, 0, 4, 0, 1, 0, 1, 1, 5, 3, 0, 3, 1, 3, 0, 0, 1, 0, 5, 2, 3, 0, 4, 1, 1, 0, 0, 0, 1, 1, 0, 0, 4, 4, 4, 0, 3, 3, 0, 3, 0, 0, 0, 0, 1, 0, 5, 1, 3, 2, 0, 3, 3, 1, 1, 3, 1, 0, 3, 0, 3, 0, 3, 1, 5, 5, 0, 0, 4, 3, 4, 1, 1, 1, 1, 1, 5, 1, 3, 0, 1, 4, 1, 1, 1, 0, 4, 0, 0, 1, 1, 3, 0, 1, 1, 3, 1, 0, 1, 0, 1, 2, 3, 2, 0, 2, 3, 3, 3, 4, 4, 2, 1, 3, 1, 0, 1, 0, 3, 2, 0, 0, 0, 1, 2, 3, 5, 5, 2, 0, 3, 0, 1, 0, 0, 0, 0, 2, 1, 0, 3, 1, 1, 0, 0, 1, 3, 4, 0, 2, 2, 3, 1, 0, 5, 5, 3, 1, 1, 5, 1, 2, 3, 1, 0, 3, 1, 1, 2, 1, 0, 1, 1, 2, 1, 0, 3, 4, 1, 1, 1, 3, 5, 4, 3, 4, 4, 3, 1, 3, 1, 1, 1, 0, 3, 4, 1, 1, 1, 0, 1, 1, 4, 0, 1, 1, 3, 5, 1, 3, 5, 0, 5, 0, 0, 1, 0, 1, 5, 4, 0, 1, 5, 0, 0, 1, 1, 1, 1, 1, 3, 1, 1, 2, 0, 1, 1, 1, 0, 1, 1, 0, 1, 0, 0, 0, 0, 0, 1, 0, 2, 1, 2, 0, 2, 5, 3, 2, 4, 0, 1, 0, 4, 4, 4, 0, 0, 0, 4, 0, 0, 5, 2, 1, 4, 3, 1, 0, 1, 1, 4, 3, 3, 2, 1, 0, 0, 0, 5, 1, 1, 1, 3, 3, 1, 3, 1, 4, 0, 0, 0, 0, 4, 0, 0, 4, 4, 3, 0, 0, 1, 0, 1, 4, 1, 0, 0, 4, 0, 1, 2, 0, 0, 1, 1, 1, 3, 1, 0, 0, 1, 4, 5, 1, 0, 0, 0, 0, 1, 4, 1, 3, 0, 0, 1, 1, 0, 3, 4, 1, 3, 4, 3, 1, 1, 1, 1, 0, 3, 0, 0, 1, 3, 3, 3, 3, 1, 1, 3, 1, 4, 1, 3, 1, 0, 1, 0, 5, 4, 1, 5, 4, 0, 2, 1, 1, 4, 2, 1, 5, 5, 1, 0, 1, 0, 0, 3, 0, 1, 1, 0, 5, 1, 2, 3, 1, 3, 1, 0, 1, 0, 1, 1, 3, 0, 2, 0, 3, 1, 1, 0, 0, 0, 0, 4, 0, 0, 1, 1, 4, 0, 1, 5, 2, 0, 2, 5, 0, 0, 1, 4, 1, 1, 1, 2, 0, 0, 5, 4, 1, 0, 1, 4, 1, 0, 1, 0, 2, 4, 4, 0, 1, 3, 3, 0, 3, 1, 1, 1, 1, 0, 1, 4, 0, 3, 3, 0, 4, 0, 1, 1, 1, 1, 1, 4, 1, 4, 5, 5, 0, 0, 1, 1, 0, 4, 2, 1, 0, 5, 4, 1, 0, 0, 0, 1, 1, 0, 2, 2, 2, 1, 5, 2, 1, 1, 0, 5, 1, 0, 1, 1, 0, 1, 3, 1, 0, 0, 4, 0, 4, 1, 1, 4, 0, 0, 3, 3, 0, 0, 1, 4, 0, 1, 0, 0, 2, 3, 4, 0, 1, 1, 1, 1, 1, 1, 0, 0, 3, 1, 0, 0, 1, 3, 5, 5, 0, 1, 1, 0, 4, 0, 3, 1, 1, 0, 0, 5, 2, 1, 2, 1, 1, 0, 3, 2, 0, 3, 0, 4, 0, 3, 1, 2, 1, 0, 1, 5, 1, 1, 1, 4, 1, 0, 0, 5, 2, 3, 0, 0, 0, 4, 3, 0, 4, 3, 4, 0, 3, 0, 1, 5, 0, 1, 1, 2, 0, 0, 3, 3, 2, 0, 0, 1, 2, 1, 1, 1, 1, 0, 0, 1, 1, 1, 4, 3, 4, 1, 1, 1, 0, 0, 5, 0, 0, 1, 2, 3, 2, 1, 0, 4, 3, 3, 0, 4, 1, 1, 0, 1, 1, 3, 5, 0, 1, 0, 0, 0, 1, 1, 4, 0, 0, 0, 1, 4, 1, 1, 4, 1, 0, 0, 4, 1, 1, 0, 1, 0, 1, 0, 4, 0, 0, 2, 0, 1, 4, 3, 4, 4, 1, 2, 1, 5, 1, 1, 2, 0, 0, 4, 1, 1, 1, 3, 3, 0, 3, 1, 1, 2, 4, 1, 0, 2, 2, 0, 4, 1, 1, 5, 0, 1, 2, 2, 1, 2, 1, 0, 3, 1, 4, 1, 3, 5, 1, 4, 0, 0, 3, 0, 4, 2, 0, 1, 0, 5, 1, 0, 0, 2, 0, 3, 2, 0, 1, 1, 1, 4, 1, 1, 1, 1, 3, 1, 4, 3, 0, 0, 3, 3, 0, 2, 1, 1, 3, 1, 0, 1, 3, 0, 2, 3, 1, 1, 1, 3, 0, 1, 0, 0, 0, 0, 0, 1, 5, 4, 4, 3, 1, 0, 3, 0, 5, 1, 1, 2, 4, 3, 0, 2, 0, 0, 5, 1, 1, 1, 1, 0, 0, 1, 4, 3, 3, 4, 1, 5, 0, 4, 1, 1, 4, 1, 1, 0, 4, 3, 3, 1, 0, 0, 5, 1, 3, 1, 2, 1, 4, 3, 4, 4, 1, 0, 0, 3, 1, 4, 4, 3, 4, 4, 1, 1, 3, 5, 2, 0, 0, 1, 1, 1, 0, 4, 2, 3, 1, 5, 1, 4, 2, 4, 3, 0, 1, 0, 1, 0, 5, 2, 1, 3, 3, 4, 3, 0, 1, 3, 1, 1, 3, 4, 1, 0, 5, 1, 1, 0, 1, 0, 0, 0, 3, 3, 3, 1, 0, 0, 1, 0, 4, 1, 3, 4, 1, 5, 0, 3, 0, 1, 4, 0, 4, 3, 0, 1, 4, 1, 1, 4, 2, 0, 0, 4, 4, 1, 1, 1, 3, 0, 1, 2, 0, 0, 3, 0, 0, 2, 2, 0, 3, 1, 3, 3, 3, 1, 2, 0, 2, 1, 2, 1, 2, 2, 0, 2, 1, 0, 2, 1, 0, 2, 1, 0, 4, 1, 0, 4, 1, 1, 3, 4, 0, 1, 1, 4, 4, 2, 0, 1, 1, 4, 0, 1, 3, 1, 3, 3, 0, 3, 0, 4, 4, 5, 4, 1, 3, 5, 0, 0, 0, 1, 2, 2, 3, 1, 0, 3, 0, 3, 1, 4, 0, 0, 3, 1, 1, 2, 1, 3, 4, 3, 0, 0, 0, 0, 1, 2, 1, 2, 0, 1, 1, 2, 0, 0, 0, 1, 0, 0, 0, 2, 0, 0, 0, 1, 0, 3, 3, 1, 0, 1, 1, 0, 4, 1, 4, 0, 2, 0, 0, 1, 5, 0, 1, 4, 0, 4, 1, 1, 1, 4, 3, 0, 0, 1, 1, 3, 1, 1, 4, 1, 1, 1, 0, 0, 0, 3, 1, 3, 1, 0, 4, 3, 2, 4, 3, 1, 5, 3, 4, 3, 0, 0, 0, 1, 2, 0, 1, 1, 2, 0, 0, 3, 1, 0, 0, 0, 1, 2, 1, 1, 2, 1, 0, 1, 4, 0, 1, 4, 3, 1, 0, 3, 4, 1, 5, 0, 4, 4, 4, 0, 0, 1, 1, 0, 0, 4, 0, 1, 0, 1, 1, 1, 2, 5, 1, 0, 0, 2, 0, 1, 1, 1, 1, 3, 1, 0, 1, 0, 4, 5, 0, 1, 1, 4, 0, 3, 1, 1, 1, 2, 5, 1, 1, 2, 1, 2, 2, 0, 0, 2, 5, 3, 0, 0, 0, 1, 3, 1, 1, 1, 3, 0, 1, 0, 1, 4, 1, 1, 4, 4, 0, 1, 3, 3, 1, 2, 1, 0, 3, 1, 5, 0, 4, 1, 1, 1, 0, 2, 0, 1, 4, 5, 0, 1, 3, 1, 4, 1, 0, 3, 2, 4, 1, 3, 5, 1, 1, 4, 4, 0, 1, 0, 1, 1, 3, 1, 1, 0, 1, 1, 2, 0, 2, 1, 0, 0, 2, 1, 4, 1, 1, 0, 3, 1, 0, 1, 0, 0, 1, 1, 0, 3, 1, 0, 0, 4, 4, 2, 1, 1, 1, 4, 0, 2, 4, 2, 1, 1, 0, 0, 5, 1, 0, 3, 0, 5, 0, 1, 4, 2, 0, 3, 1, 1, 0, 2, 2, 0, 4, 4, 1, 0, 0, 4, 1, 0, 0, 3, 0, 0, 3, 1, 4, 0, 3, 0, 0, 2, 1, 1, 2, 0, 3, 0, 1, 3, 0, 4, 1, 3, 0, 1, 4, 0, 1, 4, 0, 1, 1, 3, 0, 3, 4, 3, 0, 5, 3, 4, 4, 1, 3, 1, 1, 0, 4, 1, 1, 1, 0, 3, 4, 1, 3, 1, 0, 2, 4, 4, 4, 3, 3, 0, 3, 4, 1, 1, 0, 2, 0, 1, 1, 1, 4, 2, 0, 4, 0, 4, 0, 0, 1, 4, 1, 3, 1, 0, 1, 1, 1, 5, 0, 5, 4, 0, 0, 2, 0, 2, 4, 2, 1, 1, 3, 1, 1, 3, 0, 4, 3, 0, 0, 3, 3, 0, 0, 3, 2, 1, 0, 1, 3, 2, 0, 3, 4, 1, 0, 1, 3, 1, 1, 4, 0, 1, 0, 1, 4, 0, 0, 1, 5, 1, 3, 5, 5, 1, 1, 0, 0, 3, 4, 1, 0, 2, 4, 0, 0, 1, 2, 4, 3, 1, 4, 0, 4, 5, 0, 0, 1, 0, 4, 3, 2, 0, 4, 1, 1, 2, 0, 3, 4, 0, 0, 4, 1, 0, 0, 4, 1, 0, 0, 1, 0, 0, 3, 0, 1, 3, 4, 0, 1, 0, 1, 1, 4, 3, 1, 5, 3, 0, 1, 4, 0, 2, 2, 0, 5, 1, 4, 2, 3, 5, 0, 3, 3, 1, 1, 4, 1, 1, 3, 0, 0, 1, 3, 0, 1, 0, 2, 3, 4, 0, 1, 4, 3, 1, 1, 1, 0, 1, 1, 1, 1, 3, 1, 0, 1, 0, 1, 0, 0, 0, 0, 4, 3, 1, 1, 3, 2, 0, 4, 1, 1, 1, 4, 0, 0, 2, 0, 0, 4, 0, 1, 3, 4, 1, 0, 0, 3, 1, 1, 4, 0, 4, 4, 0, 3, 1, 3, 4, 4, 1, 1, 1, 4, 0, 1, 1, 3, 0, 1, 0, 5, 3, 1, 4, 3, 0, 3, 4, 0, 2, 4, 0, 2, 2, 4, 3, 1, 1, 0, 1, 2, 0, 2, 5, 0, 3, 2, 1, 0, 4, 5, 1, 0, 2, 1, 0, 0, 1, 1, 4, 3, 1, 0, 1, 0, 2, 1, 4, 0, 1, 0, 0, 5, 5, 0, 0, 1, 1, 3, 0, 0, 3, 0, 4, 4, 1, 1, 0, 1, 0, 3, 0, 2, 0, 1, 0, 3, 1, 1, 3, 1, 1, 3, 1, 2, 3, 1, 3, 0, 4, 0, 2, 0, 4, 3, 3, 3, 0, 1, 0, 1, 1, 5, 0, 2, 0, 1, 4, 2, 1, 3, 5, 1, 5, 3, 1, 0, 3, 1, 2, 3, 1, 3, 0, 2, 0, 1, 0, 0, 0, 3, 0, 0, 1, 1, 1, 2, 0, 4, 0, 4, 0, 1, 1, 0, 0, 1, 0, 4, 0, 1, 4, 4, 0, 1, 0, 0, 0, 3, 1, 1, 3, 0, 0, 0, 3, 0, 1, 0, 1, 0, 2, 3, 0, 5, 0, 1, 1, 3, 3, 0, 4, 4, 0, 0, 1, 2, 3, 1, 1, 1, 2, 2, 0, 3, 4, 1, 5, 4, 1, 0, 1, 3, 3, 0, 3, 0, 4, 0, 0, 0, 2, 5, 1, 3, 1, 1, 2, 3, 1, 0, 0, 4, 1, 4, 3, 1, 3, 3, 3, 1, 2, 1, 1, 3, 3, 0, 4, 1, 4, 0, 1, 3, 1, 4, 3, 1, 0, 3, 1, 3, 1, 0, 2, 1, 1, 3, 0, 2, 1, 3, 1, 0, 1, 4, 3, 1, 0, 1, 0, 1, 0, 5, 1, 3, 0, 4, 1, 3, 1, 1, 1, 0, 1, 0, 3, 0, 0, 1, 3, 0, 0, 1, 1, 4, 1, 5, 3, 3, 1, 1, 4, 4, 1, 1, 4, 3, 3, 1, 0, 4, 1, 2, 4, 0, 4, 4, 5, 0, 1, 4, 1, 0, 0, 1, 4, 3, 0, 3, 1, 1, 1, 0, 1, 1, 1, 3, 2, 2, 0, 2, 3, 0, 3, 0, 3, 1, 0, 1, 4, 4, 4, 2, 0, 3, 0, 4, 0, 4, 0, 2, 1, 1, 5, 1, 4, 2, 1, 1, 0, 4, 1, 2, 4, 3, 1, 3, 1, 1, 0, 1, 2, 0, 3, 1, 4, 0, 0, 1, 1, 1, 1, 1, 0, 0, 1, 2, 5, 1, 1, 4, 1, 2, 0, 2, 0, 4, 0, 1, 0, 0, 1, 0, 0, 1, 5, 1, 1, 3, 3, 1, 0, 0, 1, 1, 1, 0, 1, 0, 1, 0, 0, 1, 0, 0, 1, 4, 0, 0, 0, 1, 3, 0, 4, 3, 0, 1, 0, 0, 1, 1, 1, 1, 0, 0, 2, 2, 0, 1, 2, 3, 5, 1, 0, 0, 4, 0, 0, 4, 0, 3, 1, 3, 1, 5, 0, 0, 0, 4, 3, 1, 3, 3, 1, 0, 1, 0, 1, 3, 0, 4, 3, 2, 0, 1, 3, 4, 1, 0, 2, 1, 2, 0, 1, 3, 3, 0, 4, 0, 4, 3, 1, 5, 3, 4, 4, 1, 3, 1, 1, 4, 5, 4, 1, 1, 3, 1, 1, 2, 0, 0, 3, 1, 0, 0, 2, 2, 4, 0, 0, 1, 1, 1, 3, 0, 1, 3, 1, 1, 0, 3, 0, 1, 1, 3, 1, 1, 3, 0, 3, 0, 4, 0, 1, 2, 0, 3, 0, 1, 2, 1, 1, 1, 1, 3, 0, 1, 0, 2, 1, 1, 3, 1, 1, 1, 1, 3, 4, 0, 0, 0, 2, 2, 3, 0, 4, 3, 1, 2, 0, 3, 2, 0, 3, 4, 0, 4, 1, 1, 5, 1, 1, 2, 0, 0, 4, 2, 1, 5, 0, 5, 1, 0, 1, 3, 0, 1, 3, 0, 3, 5, 0, 0, 3, 1, 0, 4, 3, 4, 1, 0, 1, 5, 2, 0, 2, 1, 5, 1, 3, 1, 3, 5, 0, 1, 1, 1, 4, 1, 1, 1, 1, 0, 1, 1, 0, 1, 1, 5, 1, 1, 5, 4, 1, 1, 4, 1, 1, 5, 0, 0, 2, 1, 3, 3, 4, 1, 0, 0, 2, 1, 0, 1, 1, 5, 1, 0, 0, 1, 0, 0, 0, 0, 3, 2, 0, 1, 1, 1, 1, 3, 2, 0, 4, 2, 2, 1, 1, 1, 1, 3, 0, 1, 3, 0, 4, 3, 1, 4, 0, 1, 1, 1, 0, 1, 1, 1, 0, 1, 4, 1, 0, 4, 4, 2, 4, 2, 1, 2, 4, 3, 0, 0, 3, 4, 1, 1, 0, 0, 5, 1, 4, 0, 3, 1, 3, 3, 0, 0, 0, 1, 4, 0, 0, 0, 0, 1, 1, 1, 0, 3, 3, 1, 1, 0, 1, 3, 0, 4, 2, 0, 3, 1, 5, 1, 1, 1, 1, 2, 2, 0, 1, 1, 2, 0, 1, 0, 0, 0, 1, 1, 1, 1, 1, 1, 0, 1, 0, 2, 2, 0, 0, 4, 0, 3, 1, 0, 3, 1, 0, 1, 0, 1, 0, 0, 3, 3, 3, 0, 4, 0, 3, 0, 4, 4, 0, 4, 0, 1, 0, 1, 1, 1, 4, 2, 1, 1, 4, 0, 1, 0, 4, 0, 0, 3, 4, 1, 1, 1, 2, 3, 4, 0, 1, 4, 1, 2, 2, 0, 2, 3, 0, 0, 0, 5, 1, 3, 1, 0, 4, 3, 1, 5, 1, 1, 1, 1, 0, 1, 0, 0, 2, 0, 2, 0, 0, 1, 1, 3, 3, 0, 4, 3, 1, 0, 1, 3, 2, 1, 4, 1, 1, 1, 3, 3, 4, 5, 1, 3, 3, 1, 4, 0, 4, 2, 0, 2, 1, 1, 4, 0, 3, 1, 0, 4, 1, 0, 1, 4, 1, 3, 1, 1, 1, 5, 1, 3, 0, 4, 0, 0, 1, 1, 0, 3, 0, 1, 5, 1, 1, 0, 1, 1, 1, 0, 1, 0, 0, 3, 3, 3, 3, 3, 0, 3, 0, 1, 3, 2, 3, 1, 1, 2, 2, 2, 0, 0, 0, 2, 1, 0, 3, 1, 2, 1, 1, 2, 2, 1, 0, 4, 1, 0, 1, 3, 0, 1, 1, 3, 4, 4, 3, 2, 0, 4, 4, 1, 0, 2, 0, 1, 1, 0, 3, 0, 1, 2, 0, 1, 1, 3, 0, 3, 1, 1, 1, 1, 2, 0, 1, 4, 1, 0, 2, 0, 0, 1, 0, 1, 1, 0, 4, 1, 4, 0, 0, 0, 1, 0, 4, 5, 0, 1, 0, 3, 0, 2, 0, 1, 1, 0, 3, 0, 2, 0, 1, 0, 1, 3, 0, 1, 1, 0, 0, 3, 1, 5, 4, 0, 3, 0, 1, 0, 3, 3, 5, 3, 1, 3, 0, 2, 1, 0, 1, 4, 0, 1, 3, 3, 0, 1, 3, 1, 0, 1, 1, 1, 2, 1, 2, 1, 1, 1, 3, 1, 1, 3, 1, 3, 1, 1, 1, 1, 3, 0, 1, 0, 0, 1, 0, 1, 0, 4, 1, 4, 0, 0, 4, 5, 3, 5, 0, 1, 3, 1, 5, 0, 3, 0, 2, 0, 0, 3, 1, 0, 0, 0, 4, 3, 1, 5, 1, 5, 1, 3, 2, 0, 3, 4, 1, 2, 0, 1, 1, 1, 1, 3, 0, 3, 1, 1, 3, 0, 0, 3, 1, 0, 3, 3, 1, 0, 0, 0, 1, 4, 3, 0, 2, 1, 5, 4, 4, 0, 2, 1, 0, 4, 2, 1, 4, 1, 0, 4, 1, 1, 4, 1, 1, 1, 0, 0, 0, 1, 4, 3, 0, 0, 2, 0, 5, 5, 2, 1, 2, 0, 0, 3, 1, 1, 0, 4, 1, 0, 1, 0, 4, 3, 4, 4, 1, 0, 1, 3, 3, 1, 1, 2, 1, 1, 1, 1, 4, 1, 0, 0, 1, 1, 2, 1, 1, 0, 3, 1, 1, 0, 1, 1, 1, 1, 5, 0, 1, 2, 3, 1, 1, 2, 2, 0, 1, 1, 0, 5, 0, 1, 0, 2, 3, 4, 0, 3, 1, 2, 0, 0, 0, 4, 0, 0, 2, 0, 1, 1, 4, 1, 0, 1, 0, 1, 1, 4, 0, 0, 0, 0, 3, 0, 1, 5, 4, 0, 3, 2, 3, 0, 4, 5, 0, 1, 4, 1, 0, 0, 2, 3, 1, 1, 3, 5, 2, 1, 1, 1, 1, 4, 1, 1, 0, 1, 2, 0, 2, 0, 4, 4, 1, 0, 0, 5, 0, 3, 0, 0, 1, 2, 4, 0, 0, 0, 3, 1, 3, 4, 0, 0, 4, 0, 3, 0, 0, 3, 2, 4, 2, 5, 0, 3, 1, 1, 0, 2, 0, 0, 3, 1, 0, 1, 1, 2, 3, 1, 0, 2, 3, 0, 0, 0, 1, 1, 1, 1, 3, 1, 0, 3, 1, 0, 0, 0, 3, 2, 4, 4, 4, 0, 0, 0, 4, 0, 1, 0, 5, 2, 0, 0, 3, 2, 5, 0, 4, 3, 0, 1, 1, 1, 1, 3, 2, 2, 1, 1, 1, 3, 4, 0, 0, 0, 4, 1, 5, 1, 1, 1, 1, 0, 0, 0, 4, 0, 1, 1, 1, 0, 0, 1, 1, 0, 2, 1, 0, 2, 1, 1, 4, 0, 2, 3, 1, 2, 3, 1, 2, 3, 3, 2, 0, 3, 2, 0, 1, 1, 2, 0, 4, 1, 0, 1, 1, 0, 0, 1, 5, 0, 2, 1, 5, 0, 4, 5, 0, 1, 2, 0, 1, 2, 1, 1, 3, 1, 1, 0, 1, 0, 3, 1, 1, 3, 1, 1, 1, 1, 1, 4, 2, 1, 1, 3, 1, 1, 0, 0, 1, 5, 4, 0, 4, 0, 0, 4, 0, 2, 4, 1, 1, 1, 0, 3, 3, 0, 1, 4, 0, 1, 0, 1, 0, 3, 4, 1, 0, 3, 4, 0, 1, 1, 0, 0, 0, 3, 3, 4, 0, 1, 1, 1, 3, 3, 2, 4, 3, 0, 1, 5, 1, 4, 1, 1, 1, 0, 1, 1, 1, 0, 0, 4, 0, 1, 1, 0, 1, 1, 2, 1, 3, 3, 4, 1, 0, 4, 1, 1, 3, 0, 2, 1, 1, 2, 1, 0, 1, 1, 1, 0, 1, 5, 1, 0, 2, 0, 0, 3, 0, 1, 2, 2, 1, 1, 1, 0, 1, 1, 3, 0, 1, 3, 0, 1, 4, 3, 1, 2, 2, 1, 2, 1, 1, 1, 1, 3, 1, 4, 3, 4, 1, 3, 4, 0, 1, 0, 4, 0, 0, 1, 1, 1, 1, 1, 0, 3, 1, 1, 5, 0, 0, 1, 1, 0, 0, 1, 1, 3, 1, 1, 0, 0, 0, 4, 4, 0, 5, 1, 1, 1, 4, 1, 0, 1, 1, 0, 0, 4, 3, 0, 1, 4, 3, 1, 1, 0, 1, 2, 0, 4, 3, 4, 2, 1, 3, 0, 1, 5, 3, 0, 3, 1, 0, 1, 0, 4, 0, 1, 0, 1, 5, 0, 3, 0, 1, 1, 1, 1, 1, 1, 0, 1, 4, 2, 1, 0, 1, 0, 1, 1, 1, 4, 0, 3, 4, 3, 1, 3, 0, 2, 0, 0, 4, 1, 1, 0, 1, 5, 3, 1, 0, 0, 2, 0, 0, 1, 0, 1, 3, 0, 4, 0, 0, 3, 3, 1, 4, 1, 0, 4, 4, 1, 0, 3, 3, 0, 2, 3, 3, 0, 0, 1, 5, 3, 0, 5, 4, 3, 3, 3, 0, 0, 3, 2, 0, 4, 0, 1, 4, 0, 1, 3, 1, 2, 1, 1, 0, 1, 4, 0, 0, 0, 1, 1, 1, 1, 1, 4, 0, 4, 0, 2, 3, 1, 1, 3, 1, 3, 1, 0, 0, 0, 5, 4, 2, 0, 1, 2, 5, 0, 4, 1, 2, 0, 3, 0, 1, 0, 0, 1, 4, 0, 0, 2, 1, 1, 1, 1, 0, 2, 4, 2, 0, 4, 0, 0, 0, 3, 0, 4, 1, 0, 0, 1, 1, 0, 1, 4, 0, 1, 0, 0, 2, 0, 1, 1, 3, 0, 0, 1, 1, 4, 0, 1, 1, 1, 4, 0, 0, 0, 1, 1, 4, 0, 1, 4, 3, 1, 1, 1, 0, 5, 3, 1, 1, 0, 4, 2, 1, 4, 1, 3, 0, 0, 1, 4, 4, 3, 0, 4, 0, 0, 4, 4, 1, 2, 3, 4, 1, 1, 4, 2, 2, 0, 1, 5, 1, 0, 3, 2, 0, 1, 1, 1, 1, 1, 1, 1, 0, 0, 3, 0, 4, 3, 0, 3, 2, 4, 1, 0, 1, 0, 2, 1, 3, 2, 4, 3, 1, 4, 0, 2, 0, 0, 0, 1, 0, 1, 1, 3, 1, 3, 1, 3, 0, 3, 4, 5, 1, 1, 1, 3, 1, 1, 4, 5, 0, 4, 1, 1, 3, 4, 1, 2, 0, 1, 4, 1, 5, 1, 0, 1, 5, 3, 0, 3, 0, 1, 1, 1, 1, 1, 2, 2, 3, 1, 2, 2, 2, 4, 0, 0, 1, 0, 0, 1, 0, 1, 0, 3, 1, 0, 1, 1, 0, 1, 1, 3, 2, 1, 1, 1, 4, 0, 3, 3, 0, 1, 0, 1, 1, 0, 1, 3, 0, 0, 0, 1, 2, 3, 1, 1, 1, 1, 0, 4, 1, 1, 1, 0, 0, 1, 1, 0, 1, 1, 0, 0, 1, 1, 1, 3, 4, 1, 1, 1, 0, 0, 1, 0, 1, 1, 1, 2, 2, 0, 0, 1, 2, 4, 1, 1, 0, 1, 0, 1, 1, 1, 1, 3, 1, 0, 1, 0, 1, 0, 3, 1, 1, 0, 2, 4, 4, 4, 0, 4, 1, 0, 1, 2, 4, 2, 4, 3, 0, 1, 2, 0, 0, 1, 3, 5, 0, 0, 3, 1, 1, 4, 1, 0, 1, 1, 0, 1, 3, 0, 1, 0, 1, 1, 0, 0, 1, 1, 0, 1, 0, 0, 2, 0, 1, 0, 1, 2, 0, 2, 2, 0, 0, 2, 0, 4, 3, 1, 1, 3, 3, 1, 1, 3, 1, 0, 1, 1, 2, 1, 2, 5, 0, 0, 1, 0, 1, 0, 3, 1, 4, 1, 4, 4, 4, 1, 0, 3, 0, 5, 0, 0, 1, 1, 0, 0, 1, 4, 0, 3, 2, 3, 3, 3, 0, 1, 0, 5, 3, 0, 0, 0, 0, 0, 2, 0, 3, 1, 1, 0, 1, 2, 1, 3, 2, 1, 1, 1, 5, 1, 1, 0, 1, 4, 1, 5, 1, 1, 4, 1, 3, 4, 0, 3, 0, 2, 1, 3, 1, 3, 4, 2, 0, 0, 2, 4, 0, 0, 3, 0, 3, 1, 1, 0, 1, 0, 3, 1, 0, 5, 3, 3, 1, 1, 0, 0, 0, 0, 1, 3, 0, 1, 0, 0, 4, 3, 3, 2, 0, 0, 0, 4, 1, 4, 1, 5, 1, 0, 0, 4, 0, 2, 0, 1, 0, 3, 0, 1, 3, 2, 1, 1, 0, 0, 1, 0, 3, 1, 0, 0, 0, 3, 2, 3, 3, 0, 1, 2, 0, 1, 4, 1, 1, 2, 0, 2, 1, 1, 3, 5, 1, 0, 4, 0, 0, 4, 4, 1, 0, 0, 0, 0, 0, 3, 4, 0, 4, 0, 1, 1, 0, 4, 4, 1, 3, 3, 4, 1, 1, 0, 1, 1, 0, 0, 2, 0, 1, 4, 3, 4, 3, 1, 4, 0, 3, 0, 0, 1, 0, 3, 1, 1, 0, 0, 0, 4, 1, 0, 1, 0, 0, 0, 0, 2, 4, 0, 5, 2, 4, 4, 1, 0, 1, 0, 3, 1, 5, 4, 4, 0, 1, 0, 0, 3, 0, 4, 4, 1, 1, 0, 3, 1, 4, 3, 1, 1, 1, 4, 1, 1, 1, 4, 0, 3, 1, 4, 0, 3, 1, 1, 0, 0, 2, 1, 3, 3, 0, 1, 4, 1, 1, 1, 1, 4, 0, 1, 2, 1, 1, 2, 0, 1, 4, 1, 0, 1, 3, 0, 0, 1, 1, 1, 1, 4, 0, 0, 1, 3, 0, 1, 1, 0, 1, 0, 0, 1, 1, 3, 1, 4, 0, 0, 2, 1, 3, 0, 3, 4, 4, 1, 0, 0, 0, 0, 1, 1, 3, 0, 4, 2, 5, 0, 4, 3, 4, 0, 2, 0, 0, 4, 1, 2, 0, 0, 2, 5, 0, 2, 1, 1, 2, 0, 2, 1, 1, 1, 0, 1, 1, 0, 0, 0, 1, 2, 1, 2, 1, 4, 1, 4, 1, 1, 1, 0, 0, 4, 1, 1, 0, 1, 1, 0, 1, 3, 4, 0, 0, 0, 0, 4, 1, 1, 2, 4, 1, 1, 0, 4, 5, 1, 0, 0, 0, 1, 0, 2, 2, 4, 1, 4, 3, 3, 4, 3, 3, 1, 0, 0, 2, 1, 1, 2, 1, 2, 0, 5, 1, 0, 1, 3, 0, 4, 0, 4, 1, 4, 1, 3, 4, 4, 0, 0, 1, 3, 3, 1, 1, 1, 0, 1, 4, 1, 0, 0, 0, 1, 2, 3, 1, 3, 1, 3, 1, 4, 1, 3, 3, 1, 4, 0, 1, 4, 0, 4, 1, 1, 1, 1, 1, 0, 3, 0, 1, 3, 3, 1, 1, 0, 0, 4, 1, 4, 1, 0, 0, 2, 1, 1, 4, 4, 0, 1, 4, 1, 0, 2, 3, 1, 0, 2, 2, 1, 1, 4, 4, 0, 1, 1, 0, 3, 4, 0, 4, 1, 5, 0, 0, 4, 0, 1, 0, 3, 0, 4, 1, 4, 0, 2, 0, 0, 1, 1, 1, 0, 1, 0, 5, 0, 3, 1, 0, 1, 1, 0, 3, 2, 3, 4, 1, 0, 1, 4, 2, 0, 1, 0, 0, 1, 4, 0, 2, 0, 0, 1, 2, 0, 2, 1, 4, 3, 4, 0, 4, 4, 0, 0, 4, 1, 1, 1, 3, 2, 4, 0, 1, 0, 3, 0, 1, 2, 1, 0, 1, 0, 0, 0, 0, 1, 3, 2, 0, 1, 0, 2, 1, 1, 1, 0, 4, 1, 0, 1, 1, 5, 1, 4, 4, 3, 4, 0, 0, 0, 4, 0, 3, 1, 3, 0, 0, 3, 4, 3, 4, 2, 3, 2, 1, 4, 3, 1, 2, 1, 0, 2, 1, 2, 4, 1, 4, 4, 0, 0, 1, 2, 0, 1, 0, 0, 2, 0, 0, 4, 1, 0, 1, 3, 1, 4, 0, 1, 1, 2, 5, 1, 3, 2, 3, 0, 1, 1, 1, 2, 0, 2, 1, 0, 1, 1, 3, 3, 1, 0, 4, 0, 1, 4, 1, 3, 0, 1, 1, 1, 4, 4, 0, 1, 0, 0, 1, 1, 0, 1, 4, 3, 1, 0, 4, 1, 0, 2, 3, 0, 1, 5, 1, 1, 4, 3, 4, 4, 3, 1, 3, 3, 5, 3, 4, 0, 1, 1, 1, 0, 2, 0, 1, 0, 1, 4, 0, 1, 4, 3, 1, 3, 0, 1, 3, 1, 0, 4, 1, 1, 0, 0, 3, 2, 0, 0, 1, 1, 3, 2, 3, 0, 0, 1, 0, 5, 5, 0, 4, 1, 1, 1, 4, 0, 1, 4, 0, 1, 4, 1, 1, 0, 4, 1, 3, 4, 0, 1, 3, 0, 1, 0, 0, 0, 0, 0, 2, 0, 3, 4, 0, 1, 0, 0, 2, 4, 3, 3, 1, 4, 1, 1, 0, 0, 0, 0, 0, 3, 4, 0, 2, 1, 0, 1, 1, 4, 4, 1, 0, 2, 0, 0, 2, 4, 3, 3, 1, 0, 0, 1, 3, 1, 0, 0, 0, 0, 4, 0, 3, 1, 1, 3, 3, 2, 1, 4, 1, 0, 0, 5, 1, 1, 1, 0, 1, 0, 3, 3, 1, 0, 0, 0, 1, 0, 2, 1, 5, 0, 0, 1, 3, 0, 0, 4, 4, 0, 0, 1, 1, 1, 2, 2, 2, 1, 4, 4, 1, 0, 3, 1, 1, 3, 3, 3, 0, 2, 1, 0, 5, 0, 0, 0, 0, 0, 3, 0, 3, 2, 3, 1, 3, 4, 4, 0, 4, 4, 1, 3, 1, 1, 0, 0, 1, 0, 0, 4, 0, 1, 1, 5, 0, 2, 0, 2, 1, 0, 1, 3, 1, 3, 4, 1, 2, 0, 0, 2, 0, 1, 1, 3, 1, 3, 2, 0, 3, 1, 0, 1, 0, 1, 3, 3, 0, 2, 1, 1, 0, 2, 2, 5, 1, 1, 1, 1, 1, 0, 1, 3, 4, 3, 2, 0, 1, 0, 1, 1, 1, 5, 1, 1, 5, 0, 0, 2, 3, 1, 2, 4, 2, 4, 1, 0, 3, 0, 1, 1, 0, 1, 1, 1, 1, 1, 0, 0, 0, 2, 0, 0, 3, 1, 1, 3, 1, 1, 1, 4, 0, 2, 0, 3, 0, 1, 1, 0, 0, 0, 0, 1, 3, 1, 1, 0, 0, 3, 3, 0, 1, 4, 0, 4, 1, 0, 3, 1, 1, 4, 1, 0, 0, 0, 1, 1, 0, 0, 4, 0, 1, 2, 0, 0, 0, 1, 4, 4, 0, 3, 3, 1, 1, 0, 4, 1, 3, 4, 3, 0, 1, 0, 1, 0, 3, 0, 1, 1, 1, 3, 0, 5, 0, 2, 1, 1, 4, 0, 2, 1, 1, 0, 2, 1, 4, 5, 1, 1, 1, 4, 1, 3, 0, 1, 0, 0, 0, 1, 1, 4, 4, 0, 0, 3, 1, 0, 1, 0, 5, 1, 3, 2, 4, 0, 2, 3, 1, 2, 0, 1, 1, 0, 2, 2, 2, 3, 0, 4, 0, 1, 4, 1, 2, 0, 0, 1, 1, 2, 3, 3, 4, 1, 1, 1, 3, 0, 1, 4, 4, 0, 4, 3, 2, 1, 0, 0, 4, 1, 1, 0, 1, 1, 1, 1, 2, 3, 1, 1, 0, 4, 4, 4, 1, 1, 1, 3, 1, 1, 4, 0, 0, 0, 0, 3, 0, 4, 0, 5, 0, 4, 3, 3, 4, 0, 4, 2, 2, 1, 5, 0, 1, 3, 3, 0, 3, 4, 4, 2, 5, 0, 1, 1, 1, 0, 0, 0, 4, 0, 1, 1, 4, 1, 4, 2, 5, 1, 3, 1, 2, 4, 4, 0, 5, 1, 4, 0, 1, 0, 1, 0, 2, 5, 3, 1, 1, 0, 0, 1, 3, 1, 1, 1, 1, 4, 1, 3, 2, 4, 0, 0, 1, 3, 5, 1, 3, 0, 1, 2, 1, 3, 0, 1, 1, 0, 4, 0, 3, 0, 2, 0, 1, 5, 0, 1, 4, 1, 1, 1, 0, 4, 4, 0, 0, 3, 3, 1, 1, 1, 1, 0, 1, 1, 3, 1, 1, 3, 1, 3, 1, 0, 4, 0, 1, 3, 2, 4, 1, 3, 4, 4, 1, 0, 0, 3, 1, 3, 1, 1, 1, 4, 0, 0, 0, 4, 1, 3, 0, 4, 0, 1, 0, 3, 3, 3, 1, 0, 0, 1, 0, 4, 0, 0, 0, 0, 0, 5, 1, 1, 0, 2, 1, 1, 1, 3, 3, 1, 1, 0, 1, 2, 1, 2, 0, 3, 4, 1, 0, 0, 5, 2, 1, 1, 1, 4, 0, 1, 0, 1, 5, 1, 4, 1, 1, 5, 0, 0, 0, 3, 0, 1, 0, 2, 3, 1, 0, 1, 1, 2, 0, 0, 1, 4, 2, 1, 0, 2, 1, 1, 4, 1, 1, 1, 3, 2, 0, 1, 1, 1, 0, 1, 0, 5, 0, 1, 1, 1, 2, 4, 0, 1, 0, 1, 0, 2, 1, 2, 0, 4, 3, 5, 1, 0, 4, 0, 0, 1, 0, 1, 1, 0, 1, 3, 0, 4, 1, 1, 1, 5, 0, 1, 4, 1, 0, 0, 0, 1, 3, 0, 1, 4, 1, 1, 1, 1, 0, 0, 0, 2, 1, 4, 2, 0, 3, 0, 1, 1, 2, 0, 2, 1, 1, 1, 1, 0, 0, 4, 0, 0, 1, 0, 1, 2, 2, 2, 1, 2, 1, 1, 1, 1, 1, 2, 0, 1, 0, 1, 3, 0, 1, 1, 4, 4, 1, 1, 3, 0, 2, 4, 0, 1, 1, 3, 4, 4, 3, 4, 4, 3, 1, 4, 5, 4, 0, 1, 2, 1, 3, 4, 1, 1, 1, 1, 1, 4, 0, 0, 0, 4, 1, 5, 3, 1, 1, 4, 0, 1, 1, 3, 4, 4, 1, 0, 1, 1, 0, 4, 1, 0, 1, 0, 1, 0, 3, 1, 2, 0, 0, 4, 1, 0, 0, 2, 0, 4, 3, 0, 3, 1, 0, 3, 3, 1, 4, 2, 1, 0, 1, 0, 1, 1, 0, 0, 0, 4, 4, 2, 4, 1, 2, 3, 0, 0, 1, 3, 1, 0, 1, 1, 2, 3, 3, 2, 0, 3, 1, 3, 1, 4, 1, 1, 4, 0, 0, 1, 1, 1, 1, 1, 1, 0, 0, 0, 1, 5, 1, 2, 1, 3, 2, 0, 1, 1, 1, 1, 0, 0, 0, 2, 0, 3, 1, 0, 0, 1, 1, 0, 0, 2, 4, 1, 0, 0, 1, 0, 2, 3, 2, 3, 0, 1, 3, 3, 2, 4, 0, 0, 1, 1, 1, 0, 1, 0, 0, 1, 1, 0, 1, 1, 1, 1, 0, 0, 5, 1, 3, 4, 1, 1, 0, 1, 1, 1, 1, 5, 1, 5, 1, 4, 0, 1, 1, 5, 3, 4, 0, 3, 4, 1, 0, 4, 2, 1, 0, 0, 0, 0, 1, 0, 1, 4, 0, 0, 0, 1, 3, 1, 0, 1, 0, 1, 0, 0, 1, 0, 1, 1, 3, 0, 1, 1, 3, 3, 1, 2, 1, 3, 4, 0, 2, 0, 2, 0, 0, 0, 1, 0, 4, 1, 3, 0, 0, 0, 2, 1, 3, 1, 1, 4, 1, 0, 1, 0, 4, 2, 2, 1, 1, 0, 1, 1, 1, 0, 4, 1, 1, 0, 4, 1, 0, 3, 2, 3, 0, 5, 4, 3, 5, 5, 0, 3, 4, 1, 1, 1, 3, 4, 0, 1, 1, 2, 1, 3, 1, 4, 1, 0, 1, 1, 0, 1, 0, 3, 3, 1, 0, 1, 1, 0, 3, 3, 0, 1, 1, 2, 1, 1, 1, 2, 2, 1, 4, 0, 4, 0, 0, 3, 0, 1, 3, 4, 3, 3, 3, 2, 1, 0, 0, 0, 4, 1, 1, 3, 0, 3, 1, 3, 1, 1, 3, 1, 0, 1, 4, 1, 2, 2, 0, 0, 4, 3, 1, 3, 1, 1, 3, 0, 1, 1, 5, 4, 1, 2, 2, 0, 0, 0, 0, 3, 0, 0, 1, 4, 2, 3, 3, 4, 1, 4, 0, 0, 3, 0, 1, 1, 0, 4, 3, 0, 3, 0, 1, 0, 1, 4, 0, 0, 1, 0, 0, 1, 1, 1, 1, 0, 4, 0, 2, 1, 1, 1, 1, 0, 0, 1, 0, 1, 1, 3, 1, 1, 1, 1, 4, 1, 0, 1, 0, 0, 1, 1, 4, 0, 4, 0, 0, 0, 0, 3, 1, 4, 1, 1, 4, 1, 0, 0, 1, 3, 0, 1, 4, 0, 1, 1, 4, 3, 1, 3, 0, 3, 2, 0, 1, 3, 0, 0, 1, 1, 1, 1, 0, 4, 0, 4, 1, 3, 3, 1, 0, 1, 1, 3, 0, 0, 1, 0, 2, 4, 4, 1, 2, 1, 1, 4, 0, 0, 4, 2, 0, 1, 1, 4, 2, 4, 0, 1, 0, 2, 4, 0, 1, 1, 0, 0, 2, 1, 1, 1, 4, 0, 4, 0, 0, 4, 4, 2, 0, 5, 0, 1, 4, 2, 2, 1, 2, 4, 0, 3, 1, 0, 0, 2, 1, 0, 0, 1, 2, 0, 3, 0, 4, 0, 0, 1, 1, 1, 1, 4, 1, 0, 0, 4, 1, 4, 0, 3, 0, 1, 0, 0, 1, 0, 1, 0, 1, 1, 1, 1, 4, 0, 3, 1, 4, 1, 1, 0, 0, 0, 0, 4, 3, 1, 0, 1, 4, 3, 0, 3, 0, 0, 1, 0, 2, 0, 4, 1, 1, 1, 1, 1, 3, 0, 0, 3, 0, 0, 1, 3, 3, 1, 1, 4, 2, 3, 0, 0, 4, 0, 1, 4, 5, 0, 4, 0, 2, 4, 0, 0, 0, 1, 0, 2, 4, 3, 3, 1, 1, 1, 1, 0, 0, 1, 1, 3, 1, 3, 1, 0, 1, 1, 3, 0, 0, 1, 0, 1, 2, 3, 1, 3, 1, 3, 0, 0, 2, 0, 3, 1, 2, 1, 3, 0, 1, 0, 3, 3, 0, 1, 4, 3, 2, 0, 3, 0, 4, 1, 0, 0, 3, 3, 4, 5, 4, 0, 1, 1, 2, 1, 2, 1, 0, 2, 1, 1, 1, 0, 1, 0, 1, 3, 1, 2, 1, 0, 0, 0, 3, 4, 2, 1, 3, 0, 0, 1, 4, 1, 4, 2, 2, 3, 3, 0, 4, 0, 0, 5, 2, 1, 1, 2, 0, 1, 1, 4, 0, 3, 3, 0, 2, 4, 4, 3, 3, 1, 0, 0, 1, 1, 4, 0, 1, 2, 4, 3, 0, 1, 3, 5, 4, 1, 1, 2, 4, 0, 1, 3, 4, 3, 0, 0, 0, 3, 0, 4, 1, 3, 3, 0, 4, 1, 3, 4, 0, 1, 4, 1, 2, 3, 4, 4, 4, 4, 1, 3, 3, 0, 1, 0, 1, 0, 0, 1, 0, 4, 4, 1, 0, 1, 0, 1, 4, 3, 0, 1, 3, 1, 1, 0, 1, 1, 3, 3, 1, 1, 1, 0, 1, 1, 1, 3, 3, 1, 2, 1, 2, 1, 1, 1, 0, 1, 0, 5, 0, 3, 3, 3, 4, 4, 1, 4, 4, 1, 3, 1, 1, 1, 2, 1, 4, 0, 0, 5, 0, 0, 3, 1, 2, 4, 1, 3, 1, 5, 3, 4, 0, 1, 0, 1, 0, 2, 4, 0, 0, 5, 1, 3, 3, 0, 5, 3, 1, 4, 0, 4, 1, 1, 4, 0, 1, 1, 1, 4, 0, 2, 4, 2, 0, 3, 2, 0, 1, 1, 1, 4, 0, 3, 4, 2, 1, 2, 3, 0, 1, 1, 2, 0, 1, 0, 1, 0, 0, 4, 3, 1, 0, 1, 0, 1, 1, 0, 5, 1, 1, 3, 1, 1, 4, 1, 0, 0, 4, 3, 0, 1, 0, 0, 1, 3, 0, 0, 4, 0, 1, 5, 0, 1, 0, 3, 3, 4, 1, 1, 4, 4, 2, 0, 2, 1, 0, 1, 1, 1, 3, 5, 1, 3, 3, 3, 1, 0, 4, 3, 1, 0, 0, 4, 1, 1, 3, 0, 1, 4, 1, 0, 0, 1, 1, 0, 0, 0, 5, 2, 5, 1, 1, 1, 1, 2, 1, 0, 4, 4, 0, 3, 1, 1, 4, 0, 0, 0, 4, 1, 2, 3, 0, 1, 1, 1, 0, 2, 0, 1, 1, 0, 1, 1, 0, 0, 1, 4, 0, 1, 1, 0, 1, 0, 0, 1, 2, 1, 0, 0, 0, 2, 1, 1, 1, 5, 1, 3, 1, 0, 1, 1, 4, 3, 1, 0, 1, 0, 0, 0, 1, 1, 0, 1, 5, 1, 0, 5, 4, 1, 1, 0, 0, 5, 0, 4, 4, 3, 5, 2, 5, 3, 1, 1, 1, 0, 1, 1, 0, 3, 0, 0, 0, 1, 4, 1, 1, 1, 0, 1, 0, 1, 0, 0, 4, 1, 1, 0, 1, 1, 3, 1, 1, 0, 1, 0, 4, 3, 1, 1, 3, 1, 0, 2, 3, 1, 0, 2, 4, 3, 1, 0, 0, 1, 1, 4, 0, 0, 2, 0, 3, 1, 0, 3, 0, 0, 1, 4, 5, 4, 1, 0, 1, 3, 5, 0, 3, 3, 4, 0, 0, 1, 0, 4, 0, 3, 0, 1, 3, 1, 2, 3, 4, 2, 2, 0, 0, 3, 1, 2, 0, 1, 0, 0, 4, 4, 4, 0, 2, 1, 2, 0, 4, 1, 4, 1, 1, 3, 1, 4, 1, 1, 0, 3, 0, 1, 3, 4, 5, 1, 0, 4, 0, 1, 1, 3, 0, 2, 4, 3, 0, 0, 2, 0, 2, 1, 1, 0, 0, 4, 1, 1, 1, 1, 1, 0, 1, 1, 2, 3, 1, 4, 4, 2, 4, 0, 1, 0, 0, 1, 3, 1, 1, 1, 0, 0, 2, 0, 0, 0, 4, 3, 3, 3, 0, 0, 2, 3, 4, 1, 1, 2, 1, 4, 0, 3, 2, 1, 1, 5, 0, 1, 0, 0, 0, 0, 1, 1, 0, 2, 0, 0, 4, 1, 0, 1, 1, 0, 4, 4, 1, 1, 1, 1, 3, 0, 0, 4, 4, 0, 0, 3, 1, 1, 0, 1, 4, 4, 0, 3, 1, 1, 4, 1, 1, 3, 0, 3, 4, 0, 5, 1, 0, 5, 0, 3, 1, 0, 4, 4, 4, 1, 3, 2, 3, 3, 3, 1, 3, 3, 1, 3, 4, 1, 0, 2, 0, 3, 4, 0, 1, 1, 3, 1, 1, 1, 3, 0, 0, 0, 1, 0, 2, 0, 1, 4, 1, 3, 0, 3, 4, 0, 3, 1, 3, 0, 1, 4, 0, 0, 4, 1, 4, 4, 4, 0, 1, 5, 1, 1, 0, 1, 2, 4, 1, 4, 1, 2, 0, 0, 3, 2, 1, 0, 2, 3, 1, 3, 0, 4, 0, 5, 5, 1, 2, 3, 4, 1, 0, 0, 1, 0, 0, 1, 1, 2, 0, 4, 2, 3, 1, 1, 0, 1, 1, 1, 5, 1, 4, 2, 1, 4, 0, 4, 2, 1, 4, 0, 4, 0, 1, 0, 0, 0, 3, 1, 1, 1, 2, 4, 0, 3, 3, 0, 4, 4, 2, 4, 0, 4, 3, 1, 3, 0, 3, 1, 3, 0, 3, 0, 0, 1, 1, 3, 4, 0, 3, 0, 2, 0, 0, 0, 3, 2, 0, 1, 3, 2, 1, 0, 3, 0, 4, 2, 0, 0, 3, 2, 1, 5, 4, 3, 0, 0, 4, 4, 0, 4, 0, 3, 4, 3, 0, 1, 5, 4, 2, 0, 3, 0, 1, 2, 0, 3, 4, 2, 1, 1, 1, 1, 1, 3, 2, 4, 1, 1, 1, 3, 0, 0, 0, 1, 1, 0, 1, 4, 0, 0, 0, 0, 4, 4, 0, 1, 3, 1, 5, 0, 0, 0, 0, 1, 3, 2, 0, 1, 0, 0, 1, 1, 0, 0, 0, 3, 5, 0, 3, 1, 2, 2, 3, 2, 4, 1, 4, 1, 2, 1, 1, 4, 4, 3, 1, 3, 4, 2, 4, 0, 3, 4, 4, 1, 1, 0, 0, 2, 0, 0, 1, 0, 0, 4, 0, 1, 4, 1, 1, 0, 0, 3, 4, 0, 5, 5, 5, 0, 0, 1, 0, 3, 0, 0, 1, 0, 1, 0, 0, 3, 1, 3, 1, 5, 3, 0, 5, 4, 3, 0, 1, 0, 2, 1, 0, 0, 1, 1, 5, 1, 1, 1, 1, 1, 1, 3, 0, 4, 3, 4, 0, 1, 5, 1, 3, 4, 0, 2, 1, 0, 1, 1, 1, 0, 1, 3, 3, 1, 1, 0, 0, 0, 1, 1, 0, 0, 3, 1, 1, 0, 0, 3, 4, 1, 0, 2, 1, 0, 0, 0, 0, 3, 0, 1, 5, 2, 1, 5, 2, 1, 1, 1, 1, 1, 3, 1, 1, 3, 2, 1, 5, 3, 3, 0, 4, 4, 1, 1, 0, 0, 1, 3, 1, 0, 1, 0, 1, 1, 1, 0, 2, 1, 0, 2, 3, 2, 1, 1, 0, 4, 1, 4, 0, 1, 1, 2, 3, 3, 3, 2, 3, 3, 4, 1, 1, 0, 0, 0, 1, 3, 5, 1, 0, 0, 1, 1, 2, 3, 1, 1, 4, 1, 3, 4, 3, 0, 1, 0, 1, 0, 1, 0, 0, 3, 4, 1, 0, 2, 3, 0, 0, 1, 3, 4, 5, 2, 0, 5, 5, 2, 0, 1, 1, 3, 0, 0, 2, 3, 4, 4, 1, 4, 1, 0, 0, 1, 1, 0, 4, 2, 0, 1, 0, 5, 1, 1, 3, 1, 1, 3, 1, 0, 0, 3, 1, 4, 4, 0, 1, 0, 0, 0, 3, 1, 3, 3, 1, 1, 1, 1, 1, 1, 0, 1, 1, 1, 1, 1, 1, 4, 3, 2, 0, 0, 1, 0, 4, 1, 3, 4, 0, 1, 0, 2, 1, 1, 1, 1, 4, 1, 4, 3, 2, 3, 0, 4, 0, 0, 1, 1, 0, 0, 0, 1, 1, 1, 2, 3, 5, 0, 0, 0, 1, 5, 5, 2, 4, 2, 4, 3, 1, 1, 0, 1, 0, 0, 1, 0, 1, 2, 4, 0, 1, 1, 0, 1, 0, 3, 1, 0, 2, 0, 4, 1, 4, 2, 1, 3, 1, 1, 4, 1, 1, 1, 1, 1, 1, 0, 1, 4, 5, 0, 3, 0, 0, 1, 4, 4, 3, 1, 2, 4, 1, 0, 4, 2, 0, 1, 1, 0, 0, 1, 0, 1, 0, 1, 3, 2, 4, 1, 1, 5, 1, 0, 1, 1, 1, 4, 4, 1, 0, 0, 1, 1, 1, 2, 0, 2, 1, 1, 4, 0, 0, 2, 0, 0, 0, 1, 0, 0, 0, 2, 4, 1, 1, 4, 1, 0, 3, 0, 1, 1, 0, 3, 1, 0, 2, 1, 3, 1, 4, 1, 5, 0, 0, 3, 4, 0, 4, 0, 1, 4, 3, 1, 0, 1, 0, 1, 0, 3, 4, 0, 1, 3, 0, 3, 4, 1, 3, 1, 0, 4, 1, 1, 0, 0, 0, 2, 0, 0, 1, 4, 1, 0, 3, 1, 0, 2, 4, 1, 1, 0, 1, 0, 1, 2, 5, 0, 0, 1, 4, 0, 0, 0, 2, 1, 1, 4, 0, 4, 0, 1, 1, 5, 0, 1, 0, 3, 1, 3, 1, 3, 0, 0, 3, 1, 0, 0, 4, 3, 4, 0, 4, 1, 4, 1, 3, 1, 0, 5, 3, 0, 0, 4, 4, 1, 0, 0, 0, 1, 1, 5, 3, 3, 3, 1, 3, 0, 0, 1, 2, 1, 1, 0, 3, 1, 2, 1, 1, 1, 1, 1, 1, 4, 1, 2, 1, 1, 2, 1, 4, 0, 1, 2, 2, 1, 0, 1, 1, 1, 3, 0, 1, 4, 1, 0, 0, 1, 4, 3, 3, 1, 3, 1, 2, 1, 1, 1, 1, 0, 1, 1, 1, 1, 3, 1, 5, 0, 1, 0, 3, 3, 0, 0, 0, 2, 3, 3, 0, 0, 1, 0, 0, 1, 1, 4, 1, 1, 1, 4, 5, 0, 0, 1, 4, 4, 1, 1, 0, 4, 1, 0, 0, 0, 4, 4, 0, 5, 0, 1, 0, 4, 1, 1, 1, 4, 4, 1, 1, 3, 4, 0, 0, 1, 3, 4, 0, 0, 0, 0, 1, 2, 1, 1, 3, 2, 3, 1, 0, 5, 0, 3, 0, 4, 0, 3, 3, 0, 1, 0, 3, 2, 1, 0, 0, 0, 3, 1, 4, 1, 3, 4, 1, 4, 0, 4, 1, 1, 1, 0, 4, 0, 0, 0, 0, 1, 0, 1, 2, 2, 0, 1, 2, 2, 1, 3, 0, 1, 4, 0, 0, 1, 3, 4, 0, 5, 3, 0, 0, 1, 1, 0, 0, 1, 1, 0, 1, 5, 3, 3, 1, 1, 1, 1, 1, 0, 0, 0, 3, 3, 0, 1, 4, 0, 4, 0, 0, 1, 1, 1, 3, 1, 1, 1, 0, 1, 3, 4, 3, 4, 3, 0, 1, 3, 0, 3, 3, 1, 0, 1, 2, 1, 0, 0, 4, 1, 1, 0, 1, 5, 1, 1, 3, 0, 3, 1, 0, 1, 1, 2, 1, 3, 3, 0, 1, 0, 0, 1, 0, 2, 5, 1, 1, 0, 0, 0, 2, 0, 2, 0, 1, 0, 1, 3, 4, 1, 2, 3, 0, 3, 1, 5, 0, 1, 4, 0, 4, 1, 4, 1, 3, 4, 1, 3, 1, 1, 0, 0, 1, 0, 0, 2, 0, 4, 3, 3, 1, 3, 0, 1, 1, 1, 1, 0, 1, 1, 2, 0, 4, 1, 0, 1, 3, 3, 3, 1, 1, 0, 1, 3, 3, 0, 1, 1, 1, 3, 2, 0, 1, 0, 1, 0, 0, 4, 0, 4, 0, 0, 0, 1, 1, 1, 0, 0, 0, 2, 0, 4, 5, 0, 0, 1, 1, 1, 3, 3, 5, 2, 0, 1, 3, 0, 3, 3, 4, 4, 1, 1, 1, 1, 1, 0, 3, 2, 1, 0, 4, 1, 0, 1, 4, 3, 3, 1, 4, 0, 1, 2, 2, 1, 1, 3, 0, 4, 1, 4, 2, 0, 0, 0, 3, 5, 0, 3, 0, 0, 4, 5, 2, 1, 1, 0, 1, 3, 1, 2, 3, 1, 5, 4, 3, 1, 1, 2, 1, 2, 0, 1, 0, 1, 1, 1, 1, 1, 0, 3, 1, 4, 0, 1, 0, 0, 0, 1, 1, 4, 4, 1, 5, 3, 0, 0, 1, 1, 1, 3, 1, 1, 3, 4, 1, 1, 4, 4, 4, 1, 0, 1, 3, 1, 0, 0, 0, 0, 5, 1, 1, 0, 1, 0, 0, 5, 1, 4, 3, 3, 1, 0, 1, 1, 1, 0, 1, 3, 0, 1, 1, 0, 0, 0, 4, 1, 0, 3, 3, 0, 1, 1, 0, 1, 3, 2, 5, 0, 1, 0, 3, 1, 5, 2, 0, 3, 0, 1, 0, 2, 2, 1, 0, 0, 0, 1, 0, 3, 0, 4, 0, 1, 2, 0, 0, 0, 1, 4, 0, 1, 0, 0, 1, 1, 1, 0, 0, 0, 5, 4, 1, 0, 3, 0, 1, 4, 5, 2, 5, 1, 1, 1, 0, 1, 4, 0, 4, 0, 0, 4, 2, 0, 1, 0, 3, 1, 0, 2, 1, 1, 0, 1, 0, 0, 4, 2, 3, 0, 0, 3, 1, 0, 2, 1, 0, 4, 1, 4, 1, 0, 0, 3, 4, 1, 1, 0, 1, 0, 3, 1, 3, 3, 0, 1, 0, 1, 0, 0, 0, 1, 5, 1, 2, 5, 0, 1, 1, 0, 1, 1, 1, 3, 1, 0, 0, 1, 1, 1, 4, 0, 3, 0, 1, 0, 1, 2, 0, 0, 0, 3, 4, 3, 4, 1, 3, 1, 1, 3, 1, 0, 3, 1, 3, 3, 1, 1, 5, 3, 4, 3, 4, 1, 0, 1, 0, 0, 1, 4, 1, 0, 4, 0, 2, 0, 5, 1, 3, 1, 3, 0, 4, 1, 4, 3, 0, 0, 2, 1, 1, 0, 1, 0, 1, 1, 3, 0, 0, 4, 1, 0, 1, 3, 0, 1, 0, 0, 2, 3, 1, 4, 0, 3, 3, 5, 3, 0, 3, 3, 3, 3, 1, 1, 2, 1, 0, 0, 0, 1, 4, 4, 1, 1, 3, 0, 3, 4, 1, 3, 0, 0, 1, 3, 1, 3, 5, 2, 1, 3, 0, 1, 0, 1, 0, 0, 4, 3, 3, 0, 4, 0, 0, 0, 2, 1, 3, 1, 2, 3, 2, 1, 1, 2, 0, 0, 3, 1, 0, 4, 5, 0, 4, 0, 3, 0, 1, 4, 2, 1, 0, 1, 3, 0, 4, 1, 1, 1, 1, 2, 0, 1, 1, 1, 4, 1, 1, 0, 2, 0, 0, 3, 1, 0, 3, 1, 0, 1, 5, 1, 4, 0, 4, 1, 2, 3, 1, 2, 1, 1, 1, 3, 2, 0, 4, 0, 1, 0, 0, 1, 1, 3, 3, 1, 2, 1, 0, 0, 3, 3, 0, 3, 2, 0, 4, 1, 1, 1, 0, 1, 3, 3, 4, 1, 1, 4, 1, 5, 0, 3, 5, 4, 1, 1, 1, 0, 1, 1, 4, 5, 1, 0, 1, 2, 0, 0, 3, 1, 0, 0, 2, 4, 3, 1, 3, 0, 1, 0, 0, 0, 1, 2, 1, 0, 1, 1, 3, 4, 0, 2, 0, 0, 3, 0, 1, 2, 1, 2, 4, 1, 1, 0, 1, 1, 1, 2, 3, 1, 0, 1, 1, 1, 0, 1, 1, 4, 3, 0, 3, 2, 1, 1, 1, 0, 4, 1, 4, 0, 1, 1, 1, 0, 1, 1, 1, 0, 3, 1, 1, 0, 1, 3, 4, 1, 0, 1, 0, 3, 1, 0, 0, 4, 2, 0, 1, 2, 1, 4, 0, 3, 1, 4, 0, 0, 3, 3, 4, 4, 2, 3, 1, 0, 2, 1, 0, 5, 3, 1, 1, 4, 0, 1, 2, 0, 3, 1, 3, 4, 0, 3, 0, 1, 1, 0, 4, 1, 3, 4, 0, 4, 3, 1, 0, 1, 4, 1, 0, 0, 0, 1, 4, 0, 4, 1, 2, 1, 1, 1, 1, 1, 1, 4, 1, 1, 0, 4, 1, 0, 0, 1, 1, 0, 0, 1, 1, 0, 0, 2, 1, 5, 0, 0, 2, 0, 2, 2, 1, 2, 3, 4, 1, 1, 0, 4, 4, 4, 1, 1, 3, 1, 1, 3, 2, 4, 3, 0, 0, 4, 0, 0, 3, 3, 3, 1, 1, 1, 1, 1, 1, 2, 1, 3, 0, 1, 4, 0, 2, 2, 4, 1, 0, 5, 0, 4, 4, 3, 0, 0, 1, 1, 1, 1, 0, 0, 4, 1, 1, 1, 1, 0, 1, 1, 4, 0, 1, 1, 2, 1, 0, 0, 3, 1, 1, 0, 5, 1, 4, 5, 4, 1, 1, 4, 1, 3, 2, 0, 1, 0, 2, 0, 1, 3, 4, 0, 2, 2, 1, 0, 1, 1, 0, 0, 1, 0, 0, 4, 0, 1, 0, 1, 1, 4, 1, 1, 2, 1, 1, 1, 3, 2, 1, 1, 0, 1, 0, 0, 0, 4, 0, 1, 0, 4, 1, 4, 0, 0, 4, 1, 2, 1, 2, 1, 1, 4, 0, 1, 1, 2, 3, 1, 3, 1, 0, 0, 4, 1, 0, 5, 4, 1, 0, 1, 2, 1, 1, 1, 0, 5, 5, 4, 0, 1, 4, 0, 0, 3, 4, 5, 4, 0, 1, 1, 1, 1, 0, 0, 1, 4, 3, 3, 0, 0, 5, 0, 4, 3, 1, 4, 3, 4, 1, 0, 3, 2, 4, 1, 1, 0, 1, 0, 1, 1, 3, 2, 4, 1, 0, 1, 0, 0, 0, 0, 1, 3, 2, 3, 1, 1, 1, 0, 1, 0, 3, 1, 1, 0, 1, 1, 0, 3, 3, 1, 1, 0, 0, 1, 4, 2, 0, 1, 4, 1, 4, 2, 1, 1, 1, 1, 0, 1, 0, 1, 0, 4, 0, 1, 4, 1, 0, 1, 2, 2, 2, 1, 0, 1, 0, 0, 0, 3, 4, 5, 4, 1, 1, 3, 0, 1, 1, 1, 3, 3, 1, 0, 0, 0, 3, 4, 0, 1, 3, 1, 4, 3, 1, 3, 0, 1, 3, 0, 0, 4, 1, 1, 4, 0, 1, 1, 1, 0, 1, 4, 2, 3, 1, 1, 1, 0, 1, 0, 0, 3, 1, 3, 3, 1, 2, 0, 4, 4, 3, 4, 4, 0, 1, 0, 1, 0, 4, 2, 5, 2, 1, 0, 1, 4, 0, 1, 1, 0, 0, 3, 3, 4, 2, 1, 1, 1, 0, 0, 0, 0, 1, 2, 1, 4, 1, 0, 0, 4, 0, 0, 0, 3, 3, 1, 0, 0, 3, 0, 2, 4, 3, 0, 1, 1, 1, 2, 3, 3, 3, 4, 4, 1, 2, 4, 4, 5, 1, 1, 4, 0, 0, 0, 2, 5, 1, 2, 1, 1, 2, 1, 2, 5, 0, 1, 1, 1, 1, 3, 0, 1, 3, 2, 1, 4, 4, 0, 2, 0, 0, 0, 1, 0, 0, 2, 1, 0, 0, 1, 5, 3, 0, 0, 0, 1, 2, 4, 0, 0, 0, 1, 0, 0, 1, 0, 5, 2, 5, 0, 0, 2, 3, 0, 1, 3, 0, 1, 1, 1, 0, 3, 5, 1, 0, 4, 0, 1, 1, 0, 1, 0, 1, 0, 4, 5, 1, 5, 2, 1, 2, 1, 0, 4, 3, 1, 4, 0, 2, 0, 0, 0, 0, 1, 1, 0, 4, 3, 1, 0, 0, 5, 0, 5, 0, 4, 2, 2, 0, 4, 0, 0, 0, 1, 0, 1, 1, 0, 2, 1, 1, 3, 0, 1, 1, 0, 0, 1, 0, 0, 0, 0, 0, 3, 3, 3, 0, 2, 2, 0, 3, 0, 2, 0, 0, 1, 4, 2, 1, 4, 0, 1, 1, 0, 0, 3, 2, 1, 2, 1, 2, 1, 2, 1, 1, 0, 4, 5, 0, 1, 4, 0, 1, 4, 0, 0, 0, 3, 0, 1, 1, 2, 4, 2, 5, 0, 0, 1, 5, 3, 4, 1, 1, 0, 1, 0, 5, 4, 3, 1, 1, 4, 1, 0, 0, 1, 3, 0, 4, 4, 3, 3, 0, 3, 0, 0, 0, 1, 4, 2, 0, 0, 0, 4, 4, 0, 1, 1, 3, 0, 2, 1, 4, 0, 4, 2, 0, 0, 1, 0, 1, 1, 2, 1, 0, 1, 0, 4, 0, 1, 1, 3, 3, 3, 4, 3, 1, 5, 0, 0, 3, 1, 4, 3, 0, 1, 3, 0, 1, 4, 3, 4, 3, 1, 4, 3, 1, 3, 3, 3, 3, 4, 1, 1, 5, 0, 4, 1, 0, 0, 0, 1, 0, 0, 1, 3, 3, 1, 4, 2, 0, 1, 1, 3, 0, 1, 4, 4, 1, 0, 0, 3, 1, 2, 3, 0, 5, 1, 1, 0, 0, 0, 3, 0, 1, 0, 1, 3, 1, 1, 3, 1, 1, 0, 0, 1, 3, 1, 2, 4, 5, 0, 2, 5, 0, 3, 4, 4, 3, 3, 1, 3, 3, 2, 4, 2, 1, 3, 1, 3, 1, 0, 5, 4, 1, 1, 0, 0, 3, 1, 2, 0, 0, 0, 1, 4, 1, 4, 3, 2, 4, 3, 1, 0, 1, 2, 1, 4, 0, 1, 0, 1, 1, 1, 1, 1, 1, 1, 2, 0, 3, 1, 0, 1, 2, 0, 1, 0, 1, 0, 3, 4, 5, 0, 0, 0, 0, 1, 4, 0, 2, 1, 0, 0, 1, 3, 5, 3, 0, 2, 2, 2, 2, 4, 2, 1, 0, 5, 0, 0, 1, 0, 4, 1, 1, 0, 0, 1, 3, 0, 1, 1, 1, 4, 4, 4, 1, 1, 1, 4, 0, 0, 0, 1, 3, 2, 1, 3, 1, 0, 2, 1, 0, 2, 0, 2, 4, 3, 0, 0, 0, 0, 0, 0, 0, 3, 0, 1, 1, 0, 0, 4, 4, 1, 1, 3, 1, 2, 1, 1, 0, 0, 1, 1, 3, 0, 0, 0, 0, 0, 4, 0, 1, 0, 0, 4, 0, 4, 0, 1, 0, 0, 0, 4, 4, 3, 4, 4, 1, 3, 0, 3, 1, 3, 0, 1, 2, 1, 1, 0, 0, 1, 0, 0, 3, 0, 0, 3, 3, 1, 3, 0, 4, 3, 4, 0, 3, 1, 0, 4, 0, 0, 1, 5, 0, 4, 4, 5, 0, 1, 0, 0, 1, 1, 0, 4, 4, 4, 4, 2, 1, 5, 0, 1, 3, 0, 0, 0, 3, 0, 3, 0, 1, 1, 0, 1, 0, 0, 1, 1, 0, 1, 1, 1, 4, 0, 1, 1, 2, 1, 3, 1, 1, 3, 0, 1, 1, 3, 0, 3, 3, 5, 0, 0, 0, 0, 3, 1, 4, 0, 3, 3, 0, 0, 1, 0, 1, 1, 4, 1, 2, 0, 0, 3, 4, 3, 0, 1, 2, 3, 1, 0, 0, 1, 5, 4, 1, 1, 0, 4, 0, 1, 1, 2, 1, 0, 0, 5, 3, 0, 3, 0, 0, 0, 3, 0, 0, 1, 5, 0, 3, 5, 1, 1, 1, 2, 0, 0, 0, 0, 1, 0, 0, 0, 4, 0, 3, 0, 4, 2, 3, 1, 2, 0, 0, 4, 0, 0, 3, 0, 1, 4, 3, 3, 1, 1, 1, 1, 4, 0, 1, 5, 3, 1, 0, 0, 0, 2, 0, 1, 1, 1, 1, 1, 5, 1, 4, 4, 5, 1, 1, 3, 0, 1, 0, 3, 1, 3, 1, 3, 2, 3, 3, 0, 1, 4, 1, 1, 0, 2, 0, 0, 1, 1, 1, 1, 1, 1, 4, 3, 0, 1, 0, 1, 1, 0, 0, 1, 0, 1, 1, 3, 1, 0, 1, 1, 1, 3, 1, 1, 0, 4, 0, 1, 0, 3, 4, 0, 0, 0, 0, 2, 0, 1, 3, 0, 3, 0, 2, 0, 4, 4, 5, 1, 0, 4, 0, 2, 1, 0, 1, 3, 5, 0, 1, 1, 3, 2, 4, 1, 3, 0, 0, 2, 3, 0, 0, 1, 0, 1, 1, 0, 0, 3, 1, 1, 3, 0, 1, 1, 4, 0, 1, 0, 0, 0, 0, 1, 4, 0, 2, 2, 0, 4, 4, 1, 0, 1, 3, 0, 0, 0, 0, 4, 0, 0, 1, 0, 1, 1, 0, 2, 1, 0, 3, 3, 1, 1, 1, 5, 3, 4, 0, 0, 1, 0, 4, 0, 1, 4, 0, 3, 1, 1, 3, 1, 3, 3, 4, 1, 5, 4, 3, 3, 1, 1, 0, 0, 0, 1, 3, 5, 0, 3, 0, 1, 3, 1, 4, 1, 4, 1, 0, 0, 1, 1, 0, 1, 0, 0, 1, 0, 1, 0, 0, 3, 1, 3, 0, 1, 1, 4, 3, 3, 2, 1, 0, 1, 1, 3, 0, 3, 0, 0, 3, 3, 2, 4, 4, 1, 2, 0, 1, 1, 0, 1, 0, 0, 0, 0, 4, 0, 1, 3, 3, 4, 1, 2, 1, 1, 1, 1, 1, 0, 4, 1, 1, 2, 3, 1, 1, 0, 1, 0, 0, 4, 1, 1, 5, 1, 0, 1, 0, 1, 1, 0, 0, 1, 0, 3, 0, 0, 1, 1, 3, 1, 1, 1, 4, 4, 0, 0, 3, 0, 0, 3, 1, 4, 1, 3, 0, 2, 2, 0, 0, 0, 2, 1, 0, 1, 0, 3, 3, 1, 3, 1, 2, 1, 1, 2, 3, 4, 1, 3, 2, 2, 4, 1, 3, 1, 0, 2, 4, 1, 1, 0, 4, 1, 4, 1, 0, 2, 4, 1, 0, 0, 0, 0, 1, 1, 2, 0, 1, 4, 1, 1, 1, 1, 2, 0, 0, 3, 0, 3, 0, 1, 0, 0, 3, 1, 1, 1, 4, 1, 3, 1, 2, 4, 2, 4, 3, 1, 0, 0, 1, 2, 1, 2, 4, 2, 0, 4, 1, 3, 4, 4, 2, 0, 1, 4, 0, 1, 1, 0, 0, 3, 1, 0, 4, 0, 0, 4, 4, 0, 1, 1, 1, 0, 1, 3, 3, 1, 4, 1, 1, 1, 1, 2, 1, 1, 4, 3, 1, 1, 0, 0, 0, 1, 0, 3, 0, 1, 5, 2, 4, 5, 4, 3, 2, 1, 2, 3, 3, 0, 2, 0, 3, 0, 0, 0, 1, 0, 0, 1, 0, 1, 4, 0, 0, 3, 0, 4, 1, 0, 0, 0, 1, 1, 0, 3, 1, 1, 2, 3, 0, 3, 0, 1, 0, 4, 1, 1, 4, 3, 4, 0, 0, 2, 1, 4, 3, 0, 1, 0, 2, 2, 4, 3, 0, 1, 3, 2, 0, 3, 1, 5, 0, 1, 0, 0, 0, 1, 5, 3, 4, 3, 0, 0, 4, 0, 5, 1, 2, 0, 0, 0, 4, 2, 5, 1, 1, 0, 0, 0, 0, 1, 0, 4, 0, 3, 2, 1, 3, 0, 2, 1, 0, 4, 1, 1, 2, 0, 1, 4, 3, 0, 0, 1, 0, 0, 1, 2, 0, 3, 1, 3, 1, 0, 4, 3, 0, 4, 1, 1, 1, 1, 0, 1, 2, 3, 2, 0, 1, 4, 0, 1, 4, 0, 2, 0, 5, 5, 3, 4, 1, 1, 1, 0, 0, 1, 5, 1, 1, 1, 0, 1, 3, 4, 1, 0, 1, 0, 3, 0, 2, 2, 4, 4, 5, 0, 0, 1, 3, 3, 0, 4, 1, 0, 1, 3, 1, 5, 1, 5, 0, 1, 1, 0, 0, 1, 1, 0, 0, 1, 4, 0, 2, 3, 3, 0, 2, 2, 0, 5, 4, 0, 4, 1, 1, 3, 0, 4, 0, 1, 3, 1, 4, 3, 1, 4, 0, 2, 1, 1, 2, 1, 0, 1, 1, 3, 0, 1, 2, 1, 0, 1, 4, 4, 5, 3, 5, 4, 0, 0, 2, 0, 3, 3, 1, 3, 1, 2, 1, 1, 3, 1, 0, 0, 1, 1, 1, 3, 0, 0, 4, 0, 2, 0, 4, 1, 0, 1, 2, 1, 0, 0, 4, 4, 5, 3, 0, 4, 0, 4, 1, 3, 1, 1, 1, 4, 3, 1, 0, 1, 1, 2, 4, 0, 4, 0, 0, 1, 1, 1, 4, 0, 0, 0, 4, 3, 1, 0, 0, 5, 1, 2, 5, 1, 0, 1, 0, 3, 2, 1, 3, 3, 4, 1, 3, 0, 1, 1, 1, 1, 0, 0, 1, 1, 0, 1, 4, 4, 3, 3, 5, 0, 1, 1, 1, 1, 1, 0, 3, 1, 0, 1, 1, 1, 0, 1, 4, 0, 2, 2, 0, 0, 3, 1, 0, 1, 1, 1, 1, 4, 2, 0, 1, 0, 0, 4, 4, 0, 2, 3, 0, 0, 1, 0, 3, 0, 0, 0, 1, 5, 4, 0, 4, 1, 4, 3, 0, 2, 3, 4, 3, 0, 0, 1, 0, 1, 0, 1, 1, 3, 1, 0, 4, 4, 0, 1, 0, 0, 0, 2, 2, 1, 2, 0, 1, 1, 0, 4, 0, 4, 1, 0, 4, 0, 1, 0, 0, 4, 3, 4, 4, 1, 1, 1, 0, 1, 1, 0, 1, 1, 3, 2, 4, 4, 1, 1, 0, 0, 1, 1, 1, 4, 1, 1, 1, 1, 2, 1, 3, 0, 2, 1, 3, 0, 4, 0, 1, 4, 0, 3, 3, 3, 3, 2, 4, 0, 4, 0, 1, 1, 1, 1, 1, 3, 1, 0, 0, 1, 1, 4, 0, 4, 0, 1, 3, 0, 1, 3, 4, 2, 2, 1, 1, 3, 4, 3, 1, 1, 1, 0, 5, 0, 2, 1, 4, 1, 0, 0, 2, 3, 1, 2, 3, 1, 1, 0, 1, 0, 0, 3, 4, 4, 1, 0, 4, 0, 2, 1, 4, 2, 1, 3, 3, 3, 5, 1, 1, 1, 3, 1, 3, 0, 1, 1, 1, 3, 3, 1, 1, 4, 0, 2, 1, 4, 1, 0, 0, 0, 1, 5, 3, 1, 3, 1, 1, 3, 4, 1, 4, 2, 1, 5, 2, 4, 1, 1, 3, 4, 1, 0, 1, 0, 1, 0, 2, 4, 0, 0, 0, 1, 2, 0, 1, 1, 0, 4, 3, 0, 0, 0, 0, 1, 0, 1, 0, 3, 3, 1, 1, 4, 4, 3, 4, 1, 0, 0, 1, 5, 0, 2, 2, 2, 3, 1, 3, 4, 4, 0, 3, 0, 0, 1, 1, 0, 1, 4, 1, 3, 0, 4, 4, 3, 1, 2, 3, 2, 3, 1, 3, 1, 3, 0, 0, 4, 0, 0, 0, 1, 1, 2, 4, 0, 0, 0, 0, 0, 0, 1, 4, 1, 0, 4, 1, 1, 1, 0, 1, 1, 1, 1, 0, 0, 2, 0, 0, 0, 1, 0, 4, 5, 4, 4, 1, 1, 3, 1, 3, 1, 3, 0, 3, 1, 1, 3, 2, 1, 0, 3, 4, 2, 3, 1, 0, 3, 0, 0, 5, 2, 0, 1, 5, 4, 0, 3, 4, 4, 1, 1, 3, 4, 1, 1, 1, 1, 0, 5, 1, 0, 3, 1, 2, 0, 0, 1, 3, 0]\n",
            "16000\n"
          ]
        }
      ],
      "source": [
        "tweets, labels = get_tweet(train)\n",
        "print(type(labels[0]))\n",
        "print(labels)\n",
        "print(len(labels))"
      ]
    },
    {
      "cell_type": "code",
      "execution_count": null,
      "metadata": {
        "id": "6Qzj-lpKQSW-"
      },
      "outputs": [],
      "source": [
        "def change_labels(labels):\n",
        "  for i in range(len(labels)):\n",
        "    if labels[i] == 0:\n",
        "      labels[i] = 'sadness'\n",
        "\n",
        "    elif labels[i] == 1:\n",
        "      labels[i] = 'joy'\n",
        "\n",
        "    elif labels[i] == 2:\n",
        "      labels[i] = 'love'\n",
        "\n",
        "    elif labels[i] == 3:\n",
        "      labels[i] = 'anger'\n",
        "\n",
        "    elif labels[i] == 4:\n",
        "      labels[i] = 'fear'\n",
        "\n",
        "    elif labels[i] == 5:\n",
        "      labels[i] = 'surprise'\n",
        "\n",
        "  return labels"
      ]
    },
    {
      "cell_type": "code",
      "execution_count": null,
      "metadata": {
        "colab": {
          "base_uri": "https://localhost:8080/"
        },
        "id": "jospOXJDp9Gh",
        "outputId": "a430da03-ba73-4231-8855-53ffc3abff5a"
      },
      "outputs": [
        {
          "output_type": "stream",
          "name": "stdout",
          "text": [
            "[0, 0, 3, 2, 3, 0, 5, 4, 1, 2, 0, 1, 3, 0, 1, 1, 0, 0, 0, 4, 3, 4, 1, 1, 3, 0, 0, 0, 3, 1, 1, 4, 5, 3, 1, 1, 1, 1, 3, 1, 1, 1, 1, 1, 0, 0, 1, 2, 1, 3, 1, 0, 3, 4, 1, 0, 0, 5, 1, 1, 1, 2, 4, 4, 5, 3, 3, 0, 2, 1, 0, 0, 1, 0, 0, 0, 1, 1, 1, 3, 0, 3, 3, 3, 1, 1, 1, 1, 0, 4, 2, 3, 0, 3, 2, 0, 1, 1, 0, 3, 2, 1, 1, 1, 0, 1, 1, 1, 1, 0, 1, 1, 2, 0, 0, 1, 1, 0, 1, 1, 4, 4, 4, 0, 2, 1, 1, 2, 4, 5, 1, 1, 1, 1, 3, 4, 1, 3, 2, 3, 0, 1, 0, 3, 1, 5, 0, 3, 3, 0, 1, 4, 1, 1, 4, 0, 5, 5, 1, 3, 4, 3, 0, 3, 0, 4, 0, 1, 5, 4, 1, 3, 1, 3, 1, 4, 4, 0, 1, 1, 0, 5, 1, 4, 1, 0, 1, 1, 1, 4, 1, 5, 1, 3, 0, 0, 1, 3, 0, 1, 1, 5, 1, 4, 1, 4, 0, 4, 2, 0, 4, 2, 0, 0, 3, 1, 2, 3, 0, 5, 3, 1, 0, 3, 1, 1, 1, 1, 1, 0, 1, 2, 1, 0, 3, 5, 1, 3, 1, 2, 0, 0, 1, 0, 0, 1, 0, 1, 1, 1, 4, 0, 3, 0, 3, 2, 1, 2, 0, 1, 1, 1, 0, 1, 0, 3, 2, 0, 2, 0, 0, 0, 0, 0, 0, 4, 1, 0, 0, 1, 2, 0, 3, 0, 2, 1, 1, 1, 0, 1, 0, 1, 1, 1, 0, 0, 0, 2, 4, 0, 4, 1, 1, 4, 1, 3, 3, 2, 0, 5, 1, 3, 0, 0, 3, 2, 5, 0, 2, 1, 3, 1, 0, 0, 1, 1, 4, 0, 3, 1, 2, 1, 1, 1, 1, 1, 2, 1, 4, 4, 1, 1, 3, 1, 1, 1, 0, 5, 1, 1, 0, 5, 1, 4, 1, 3, 2, 3, 4, 5, 1, 3, 0, 0, 0, 4, 1, 4, 1, 3, 0, 2, 3, 0, 2, 2, 1, 0, 1, 1, 3, 1, 2, 1, 1, 0, 5, 1, 1, 0, 5, 3, 1, 1, 2, 1, 2, 2, 1, 0, 1, 0, 4, 3, 0, 3, 1, 4, 5, 2, 0, 0, 1, 5, 2, 0, 0, 1, 4, 1, 1, 1, 2, 4, 0, 0, 4, 2, 1, 0, 1, 0, 1, 0, 1, 0, 1, 1, 3, 0, 4, 0, 0, 3, 5, 5, 1, 5, 4, 2, 3, 1, 4, 0, 3, 0, 1, 4, 1, 1, 1, 1, 5, 3, 0, 1, 0, 3, 2, 0, 2, 3, 2, 2, 1, 1, 0, 1, 0, 1, 3, 1, 4, 0, 1, 0, 5, 1, 1, 2, 1, 0, 3, 1, 0, 0, 0, 1, 1, 1, 0, 0, 3, 3, 1, 0, 5, 1, 1, 0, 3, 1, 3, 1, 1, 2, 3, 1, 1, 1, 1, 1, 1, 1, 4, 1, 4, 0, 3, 3, 0, 2, 0, 0, 0, 5, 4, 0, 0, 1, 4, 1, 0, 0, 3, 0, 3, 3, 2, 1, 1, 0, 1, 1, 1, 2, 2, 2, 1, 5, 4, 0, 3, 0, 4, 1, 3, 1, 1, 0, 1, 4, 1, 3, 0, 3, 1, 2, 2, 0, 4, 0, 0, 0, 4, 0, 3, 1, 1, 0, 4, 4, 3, 3, 0, 0, 3, 3, 1, 4, 0, 0, 4, 1, 4, 0, 0, 1, 0, 3, 0, 2, 5, 1, 1, 1, 1, 1, 0, 0, 2, 4, 3, 1, 2, 1, 1, 4, 3, 4, 0, 3, 3, 3, 4, 1, 2, 3, 4, 3, 1, 4, 0, 0, 3, 1, 3, 4, 4, 5, 0, 1, 1, 1, 2, 0, 1, 0, 3, 1, 1, 4, 4, 1, 4, 3, 3, 3, 1, 0, 1, 1, 1, 3, 4, 3, 1, 0, 1, 4, 1, 0, 3, 0, 0, 1, 1, 0, 2, 1, 0, 3, 2, 0, 1, 1, 4, 3, 1, 1, 2, 5, 4, 4, 3, 3, 2, 0, 0, 1, 2, 3, 1, 3, 1, 1, 1, 4, 4, 2, 0, 2, 1, 1, 0, 0, 3, 3, 3, 3, 0, 1, 0, 1, 4, 0, 1, 0, 1, 5, 4, 1, 1, 4, 4, 0, 0, 3, 0, 2, 1, 5, 1, 5, 1, 4, 1, 1, 1, 1, 5, 2, 0, 2, 1, 0, 1, 1, 0, 1, 1, 1, 1, 4, 4, 4, 4, 3, 2, 0, 1, 1, 0, 0, 0, 0, 1, 0, 0, 4, 1, 3, 1, 1, 4, 3, 1, 3, 3, 3, 3, 3, 1, 4, 0, 2, 0, 4, 2, 1, 5, 1, 1, 1, 1, 0, 5, 1, 3, 3, 3, 1, 1, 0, 2, 0, 1, 3, 3, 3, 4, 1, 1, 4, 0, 5, 1, 2, 0, 1, 1, 0, 0, 0, 3, 1, 0, 0, 0, 0, 1, 5, 1, 3, 2, 1, 3, 0, 1, 3, 0, 4, 4, 0, 0, 4, 0, 2, 4, 1, 1, 4, 1, 3, 1, 1, 3, 1, 1, 2, 3, 1, 1, 1, 3, 1, 2, 4, 3, 2, 0, 4, 0, 0, 2, 1, 4, 2, 1, 1, 0, 1, 0, 4, 1, 0, 2, 0, 2, 0, 0, 3, 2, 3, 1, 3, 0, 0, 1, 1, 3, 0, 5, 1, 2, 0, 3, 4, 2, 1, 1, 3, 1, 0, 1, 1, 1, 2, 1, 0, 2, 4, 0, 1, 0, 3, 1, 1, 0, 1, 2, 1, 1, 1, 3, 4, 0, 1, 0, 0, 2, 3, 1, 2, 0, 1, 4, 0, 1, 1, 0, 0, 2, 1, 0, 0, 0, 0, 3, 0, 1, 0, 1, 0, 2, 3, 1, 4, 0, 0, 1, 1, 3, 4, 2, 1, 0, 3, 0, 1, 0, 1, 1, 0, 2, 1, 1, 0, 3, 0, 3, 0, 1, 0, 3, 1, 5, 0, 4, 0, 4, 0, 3, 3, 1, 3, 1, 1, 1, 0, 4, 1, 1, 3, 1, 4, 1, 2, 0, 0, 0, 0, 1, 2, 4, 1, 3, 0, 1, 4, 1, 1, 0, 4, 0, 1, 0, 0, 0, 0, 2, 0, 4, 4, 1, 2, 0, 0, 2, 1, 0, 0, 0, 0, 2, 1, 1, 0, 4, 1, 1, 1, 1, 1, 3, 4, 2, 1, 3, 2, 2, 1, 0, 0, 3, 1, 1, 4, 1, 1, 0, 0, 2, 1, 1, 1, 1, 1, 0, 1, 2, 1, 4, 1, 0, 1, 1, 4, 1, 0, 4, 1, 0, 1, 0, 4, 1, 1, 4, 0, 0, 1, 1, 1, 1, 4, 1, 1, 4, 1, 4, 5, 1, 4, 5, 4, 1, 1, 5, 0, 0, 1, 1, 1, 1, 1, 1, 1, 1, 4, 0, 3, 1, 0, 1, 4, 2, 2, 4, 0, 0, 1, 4, 0, 2, 3, 1, 0, 1, 1, 0, 4, 0, 1, 0, 0, 1, 0, 0, 0, 4, 1, 3, 0, 0, 1, 1, 1, 1, 2, 1, 4, 1, 1, 1, 4, 0, 0, 1, 0, 0, 1, 0, 0, 0, 1, 0, 4, 3, 0, 1, 4, 1, 0, 1, 1, 4, 4, 0, 1, 5, 1, 3, 2, 0, 0, 2, 3, 4, 4, 1, 0, 2, 0, 0, 1, 1, 0, 2, 1, 1, 1, 1, 3, 5, 2, 3, 0, 0, 1, 0, 1, 1, 1, 0, 3, 0, 0, 0, 1, 3, 1, 0, 0, 1, 3, 1, 1, 2, 0, 1, 0, 5, 3, 1, 0, 4, 1, 1, 3, 1, 1, 0, 3, 2, 1, 0, 5, 2, 2, 0, 0, 0, 2, 0, 2, 1, 1, 0, 2, 1, 3, 0, 1, 3, 0, 3, 1, 2, 1, 4, 3, 1, 0, 4, 0, 0, 0, 0, 0, 4, 2, 0, 0, 1, 0, 2, 3, 1, 5, 1, 4, 0, 4, 0, 1, 3, 3, 5, 1, 2, 0, 5, 1, 1, 5, 0, 2, 1, 3, 4, 0, 0, 0, 0, 0, 3, 1, 1, 1, 0, 5, 5, 3, 1, 1, 4, 1, 0, 4, 3, 3, 4, 2, 4, 3, 3, 3, 0, 4, 1, 1, 4, 4, 3, 1, 3, 1, 1, 2, 3, 0, 4, 1, 3, 0, 3, 0, 2, 3, 4, 1, 4, 0, 0, 3, 1, 4, 0, 2, 2, 0, 3, 3, 1, 0, 3, 0, 0, 4, 1, 0, 0, 1, 3, 0, 1, 1, 3, 1, 1, 3, 3, 0, 1, 3, 0, 4, 0, 4, 1, 4, 1, 1, 1, 1, 0, 3, 0, 1, 4, 1, 0, 1, 4, 1, 1, 1, 1, 0, 1, 3, 1, 1, 1, 1, 4, 1, 4, 0, 2, 1, 1, 1, 1, 3, 1, 4, 0, 3, 1, 1, 0, 5, 5, 1, 0, 0, 2, 4, 1, 2, 2, 1, 0, 0, 1, 3, 1, 1, 1, 4, 4, 1, 0, 5, 1, 1, 1, 1, 1, 0, 3, 4, 3, 0, 1, 3, 4, 2, 0, 2, 1, 0, 2, 0, 1, 1, 2, 0, 2, 3, 1, 2, 1, 4, 0, 0, 5, 0, 1, 1, 1, 3, 0, 1, 1, 0, 1, 1, 0, 0, 1, 3, 1, 4, 3, 1, 1, 1, 4, 0, 1, 4, 0, 0, 3, 0, 1, 1, 3, 0, 0, 0, 0, 1, 1, 1, 0, 1, 1, 1, 0, 4, 2, 4, 4, 4, 3, 3, 0, 1, 0, 0, 0, 0, 4, 1, 0, 1, 4, 4, 0, 3, 4, 0, 0, 1, 3, 0, 0, 1, 0, 4, 3, 3, 1, 1, 0, 1, 1, 0, 0, 1, 0, 4, 1, 0, 0, 0, 4, 1, 5, 0, 1, 2, 1, 3, 5, 1, 1, 0, 0, 1, 1, 4, 1, 3, 1, 1, 1, 4, 1, 3, 1, 3, 0, 1, 0, 0, 1, 4, 1, 1, 4, 0, 0, 2, 0, 3, 0, 0, 3, 3, 0, 2, 0, 2, 1, 0, 1, 2, 4, 1, 4, 1, 3, 1, 0, 1, 1, 4, 5, 0, 1, 0, 5, 0, 0, 0, 0, 1, 4, 0, 0, 3, 1, 0, 2, 4, 3, 0, 4, 0, 1, 1, 1, 5, 1, 0, 1, 3, 1, 1, 3, 3, 0, 5, 4, 5, 1, 4, 0, 2, 1, 1, 3, 0, 2, 0, 0, 1, 3, 0, 0, 3, 5, 1, 3, 0, 3, 3, 0, 1, 5, 4, 1, 1, 4, 1, 3, 0, 0, 1, 1, 0, 1, 0, 4, 3, 0, 1, 3, 3, 2, 1, 1, 1, 1, 3, 1, 1, 0, 1, 1, 1, 1, 4, 0, 0, 0, 1, 1, 0, 0, 1, 1, 2, 0, 3, 0, 2, 1, 0, 1, 0, 1, 3, 1, 0, 0, 0, 5, 3, 1, 0, 0, 3, 1, 1, 0, 4, 1, 2, 0, 3, 4, 4, 2, 0, 2, 1, 2, 0, 0, 1, 2, 4, 0, 1, 1, 0, 0, 2, 1, 4, 4, 3, 1, 4, 4, 5, 0, 1, 4, 1, 4, 1, 0, 2, 1, 1, 3, 0, 1, 1, 3, 0, 0, 1, 1, 4, 1, 4, 1, 1, 1, 4, 1, 3, 3, 1, 4, 0, 1, 0, 0, 3, 0, 3, 0, 0, 1, 0, 4, 0, 2, 4, 1, 0, 4, 2, 1, 4, 0, 0, 0, 1, 1, 1, 1, 0, 3, 4, 1, 1, 1, 0, 5, 4, 1, 1, 0, 1, 2, 1, 0, 4, 1, 3, 1, 1, 3, 4, 2, 5, 3, 1, 0, 0, 0, 0, 0, 3, 5, 4, 1, 0, 0, 1, 0, 1, 2, 3, 0, 4, 0, 1, 0, 2, 1, 0, 2, 2, 0, 4, 1, 1, 2, 1, 1, 0, 1, 0, 2, 2, 3, 0, 1, 0, 4, 1, 0, 1, 4, 0, 1, 5, 5, 1, 0, 3, 4, 3, 0, 0, 5, 1, 0, 3, 0, 4, 2, 1, 1, 5, 1, 0, 3, 4, 0, 1, 1, 4, 1, 1, 1, 0, 3, 1, 3, 0, 1, 0, 0, 4, 2, 4, 1, 1, 1, 1, 4, 3, 5, 1, 0, 0, 1, 4, 0, 1, 0, 1, 0, 1, 1, 1, 2, 4, 1, 0, 0, 5, 2, 4, 3, 3, 0, 0, 1, 2, 1, 2, 1, 4, 0, 2, 0, 0, 0, 0, 3, 0, 0, 1, 0, 0, 0, 2, 3, 3, 0, 0, 1, 4, 3, 0, 1, 1, 5, 2, 1, 3, 1, 1, 0, 5, 0, 1, 5, 3, 1, 0, 1, 2, 1, 1, 4, 5, 1, 4, 1, 3, 4, 1, 0, 0, 0, 1, 3, 1, 2, 0, 0, 1, 3, 0, 1, 1, 5, 0, 1, 0, 0, 2, 3, 3, 1, 5, 3, 2, 2, 3, 0, 3, 0, 3, 1, 0, 4, 1, 2, 4, 1, 1, 1, 1, 0, 0, 4, 1, 3, 0, 0, 3, 0, 3, 0, 4, 5, 0, 1, 1, 1, 3, 0, 1, 0, 1, 1, 0, 4, 0, 1, 5, 1, 2, 1, 4, 3, 0, 1, 1, 1, 3, 0, 0, 3, 4, 0, 3, 0, 0, 3, 1, 5, 0, 4, 0, 4, 4, 4, 0, 1, 2, 1, 1, 0, 3, 3, 3, 5, 1, 5, 4, 1, 3, 0, 4, 1, 4, 1, 2, 0, 0, 0, 0, 5, 0, 1, 1, 0, 1, 1, 4, 1, 2, 3, 4, 1, 0, 3, 0, 2, 1, 1, 5, 3, 0, 1, 1, 1, 0, 1, 2, 3, 1, 1, 3, 3, 0, 2, 0, 1, 1, 3, 1, 1, 0, 2, 2, 1, 3, 1, 1, 5, 0, 0, 1, 3, 0, 3, 0, 1, 1, 1, 1, 0, 4, 1, 0, 0, 3, 3, 1, 1, 0, 4, 0, 0, 3, 4, 3, 3, 1, 0, 1, 1, 5, 4, 1, 0, 1, 4, 5, 3, 1, 0, 4, 4, 3, 2, 1, 3, 1, 0, 5, 0, 3, 0, 5, 4, 0, 0, 0, 3, 0, 1, 4, 1, 1, 0, 0, 2, 3, 1, 0, 2, 0, 1, 1, 1, 4, 2, 1, 1, 4, 1, 3, 0, 2, 0, 3, 3, 1, 2, 0, 0, 1, 0, 1, 5, 1, 3, 4, 3, 1, 0, 1, 0, 3, 4, 0, 0, 0, 3, 1, 4, 3, 0, 3, 1, 0, 4, 4, 1, 0, 2, 5, 4, 1, 3, 1, 1, 0, 1, 1, 1, 0, 3, 1, 3, 1, 3, 2, 2, 2, 5, 0, 1, 1, 0, 1, 4, 1, 2, 1, 0, 0, 1, 4, 1, 0, 1, 4, 0, 1, 0, 5, 1, 4, 1, 0, 0, 0, 0, 0, 4, 1, 1, 3, 4, 3, 1, 1, 1, 3, 3, 0, 0, 0, 3, 2, 0, 3, 1, 3, 0, 1, 1, 1, 1, 0, 1, 0, 0, 1, 0, 1, 4, 1, 3, 1, 0, 0, 5, 1, 1, 1, 3, 1, 3, 1, 1, 1, 1, 5, 0, 1, 2, 1, 0, 0, 5, 3, 3, 2, 1, 3, 3, 3, 4, 0, 4, 1, 4, 2, 1, 3, 0, 2, 0, 5, 0, 1, 1, 0, 1, 1, 0, 1, 1, 4, 1, 1, 3, 1, 1, 0, 0, 0, 1, 0, 0, 4, 4, 2, 1, 1, 1, 4, 0, 3, 0, 0, 0, 1, 0, 0, 0, 0, 0, 1, 1, 3, 3, 3, 0, 3, 1, 0, 0, 4, 0, 1, 1, 3, 0, 4, 4, 0, 2, 0, 1, 0, 0, 4, 5, 0, 1, 5, 3, 0, 3, 3, 0, 3, 5, 1, 1, 0, 0, 1, 1, 1, 0, 1, 1, 1, 0, 0, 1, 2, 1, 4, 0, 1, 1, 0, 3, 1, 1, 1, 0, 0, 1, 0, 1, 1, 0, 0, 0, 1, 3, 5, 4, 1, 4, 0, 1, 0, 0, 0, 1, 4, 1, 0, 1, 1, 1, 0, 0, 1, 1, 4, 1, 3, 3, 1, 0, 1, 0, 0, 0, 0, 1, 4, 0, 0, 0, 3, 1, 2, 2, 1, 0, 0, 2, 0, 3, 0, 4, 1, 0, 0, 2, 0, 1, 0, 3, 5, 1, 5, 4, 1, 4, 0, 3, 1, 1, 1, 3, 4, 1, 0, 3, 0, 1, 0, 1, 1, 1, 3, 0, 1, 0, 0, 3, 1, 4, 1, 3, 4, 0, 3, 1, 3, 1, 1, 0, 1, 2, 5, 1, 4, 4, 1, 0, 1, 1, 1, 2, 0, 2, 3, 0, 0, 4, 1, 1, 3, 0, 1, 4, 4, 2, 3, 3, 2, 0, 3, 0, 2, 1, 4, 1, 1, 0, 1, 1, 3, 1, 1, 1, 1, 3, 1, 3, 0, 0, 0, 1, 0, 3, 0, 2, 3, 1, 0, 1, 3, 4, 2, 3, 1, 1, 0, 4, 4, 0, 0, 5, 1, 0, 1, 2, 3, 0, 2, 0, 0, 5, 1, 0, 0, 0, 3, 0, 0, 1, 3, 0, 0, 4, 0, 1, 0, 1, 3, 1, 0, 0, 3, 0, 3, 2, 1, 4, 0, 4, 4, 0, 4, 2, 0, 5, 3, 3, 4, 4, 4, 4, 0, 1, 0, 4, 0, 3, 1, 0, 2, 1, 0, 0, 3, 0, 1, 1, 4, 3, 0, 0, 0, 0, 1, 0, 1, 1, 0, 1, 3, 1, 1, 0, 0, 0, 3, 4, 0, 0, 3, 1, 1, 1, 0, 0, 0, 4, 1, 1, 4, 1, 0, 1, 1, 1, 3, 5, 3, 1, 1, 2, 0, 1, 0, 2, 1, 0, 3, 2, 3, 0, 0, 0, 1, 1, 1, 4, 2, 1, 1, 2, 3, 1, 4, 0, 2, 1, 1, 1, 5, 0, 1, 0, 0, 1, 0, 1, 1, 4, 0, 0, 0, 1, 1, 0, 1, 1, 1, 1, 0, 2, 3, 1, 2, 0, 1, 3, 0, 1, 5, 4, 2, 1, 1, 0, 3, 0, 1, 0, 1, 4, 4, 1, 1, 4, 3, 1, 1, 0, 0, 3, 0, 1, 1, 3, 0, 1, 1, 0, 1, 1, 0, 3, 1, 3, 3, 0, 4, 5, 4, 1, 0, 0, 1, 0, 0, 2, 4, 2, 4, 0, 1, 0, 1, 0, 2, 1, 0, 0, 3, 1, 3, 4, 0, 0, 0, 2, 1, 1, 0, 4, 0, 3, 0, 1, 2, 1, 1, 3, 1, 4, 0, 1, 1, 4, 3, 4, 1, 0, 0, 4, 0, 0, 1, 5, 4, 4, 1, 0, 1, 4, 0, 4, 0, 3, 1, 3, 1, 2, 2, 1, 1, 1, 0, 0, 2, 4, 1, 0, 3, 4, 1, 0, 1, 1, 0, 4, 0, 1, 0, 3, 4, 4, 4, 0, 2, 5, 3, 2, 3, 0, 0, 1, 1, 0, 2, 4, 4, 1, 4, 0, 4, 2, 0, 4, 0, 3, 3, 0, 0, 0, 4, 1, 3, 1, 4, 0, 1, 4, 2, 4, 0, 1, 4, 1, 5, 1, 1, 1, 0, 1, 1, 1, 0, 3, 3, 1, 5, 3, 1, 4, 2, 0, 3, 5, 0, 1, 3, 1, 3, 0, 1, 4, 0, 5, 1, 3, 0, 1, 3, 0, 0, 2, 3, 0, 3, 0, 4, 3, 0, 1, 2, 3, 4, 1, 2, 0, 3, 0, 1, 1, 0, 4, 2, 4, 1, 2, 2, 1, 2, 1, 1, 1, 0, 3, 0, 1, 0, 1, 4, 1, 0, 0, 0, 0, 2, 5, 1, 1, 0, 0, 3, 2, 1, 1, 0, 5, 4, 2, 1, 1, 4, 0, 1, 0, 3, 0, 0, 0, 1, 0, 4, 0, 1, 1, 1, 1, 1, 1, 1, 1, 0, 3, 3, 0, 1, 1, 2, 3, 2, 3, 1, 0, 2, 0, 0, 0, 0, 3, 1, 1, 0, 1, 1, 4, 0, 1, 1, 0, 4, 2, 1, 1, 4, 0, 2, 4, 4, 4, 0, 2, 1, 1, 0, 2, 1, 4, 1, 1, 1, 1, 3, 4, 0, 0, 0, 3, 1, 1, 4, 1, 4, 3, 0, 0, 1, 4, 1, 1, 0, 1, 0, 0, 2, 1, 0, 0, 3, 1, 5, 0, 0, 0, 1, 0, 1, 1, 0, 0, 2, 1, 1, 1, 1, 2, 3, 1, 1, 4, 1, 0, 1, 1, 1, 0, 1, 0, 0, 4, 1, 1, 1, 3, 1, 4, 1, 3, 2, 0, 0, 1, 1, 3, 0, 1, 4, 1, 3, 3, 0, 0, 1, 0, 0, 3, 1, 3, 0, 0, 0, 0, 3, 1, 0, 0, 1, 1, 1, 0, 0, 5, 0, 0, 0, 3, 1, 1, 0, 0, 1, 0, 0, 0, 0, 4, 2, 3, 1, 5, 5, 4, 0, 3, 1, 0, 4, 0, 4, 5, 4, 0, 0, 3, 0, 0, 2, 3, 1, 1, 1, 4, 0, 0, 1, 0, 1, 1, 0, 4, 0, 1, 3, 0, 4, 4, 4, 1, 0, 1, 0, 0, 1, 0, 0, 1, 1, 4, 2, 1, 1, 0, 0, 3, 0, 1, 1, 1, 1, 4, 1, 0, 0, 5, 1, 2, 3, 4, 3, 3, 1, 0, 1, 5, 1, 1, 0, 0, 2, 1, 0, 2, 0, 4, 1, 0, 1, 1, 1, 1, 0, 0, 3, 1, 0, 0, 0, 2, 0, 2, 4, 0, 1, 3, 3, 4, 1, 2, 1, 4, 5, 0, 1, 4, 4, 3, 0, 0, 4, 1, 1, 0, 0, 3, 2, 1, 4, 2, 1, 3, 1, 3, 1, 0, 3, 4, 1, 0, 2, 2, 1, 0, 3, 1, 1, 0, 1, 3, 4, 3, 5, 3, 5, 0, 4, 2, 2, 3, 2, 2, 1, 0, 0, 2, 0, 0, 3, 5, 0, 1, 4, 5, 0, 3, 2, 0, 4, 0, 3, 1, 0, 0, 2, 0, 2, 1, 4, 2, 1, 2, 0, 0, 0, 4, 1, 4, 4, 2, 1, 0, 4, 0, 1, 4, 0, 0, 3, 1, 1, 1, 2, 2, 1, 0, 1, 1, 3, 1, 1, 0, 1, 2, 0, 1, 0, 1, 0, 3, 1, 1, 1, 0, 1, 0, 1, 1, 4, 0, 4, 0, 3, 0, 0, 4, 0, 4, 1, 0, 4, 3, 0, 5, 1, 3, 1, 3, 1, 5, 0, 1, 1, 4, 2, 2, 1, 0, 0, 1, 4, 1, 3, 0, 4, 3, 0, 3, 0, 1, 1, 3, 1, 4, 2, 0, 2, 1, 0, 3, 1, 0, 4, 1, 1, 3, 4, 1, 1, 3, 1, 1, 1, 3, 4, 3, 1, 1, 1, 1, 3, 5, 1, 1, 1, 0, 1, 3, 1, 1, 0, 3, 0, 1, 3, 1, 1, 0, 1, 1, 1, 1, 1, 3, 4, 4, 4, 0, 0, 2, 2, 4, 4, 0, 1, 1, 1, 4, 0, 3, 3, 0, 3, 0, 0, 1, 0, 0, 4, 0, 3, 2, 0, 0, 1, 2, 0, 0, 3, 0, 1, 1, 0, 1, 1, 2, 3, 1, 0, 0, 2, 4, 5, 0, 3, 1, 0, 0, 3, 2, 3, 0, 1, 2, 0, 0, 1, 1, 4, 0, 1, 1, 3, 4, 4, 1, 1, 1, 0, 5, 4, 3, 3, 3, 0, 0, 1, 0, 0, 0, 0, 0, 5, 0, 3, 3, 0, 1, 1, 1, 5, 4, 1, 3, 1, 3, 2, 1, 0, 0, 1, 0, 0, 2, 4, 0, 1, 1, 0, 1, 0, 1, 2, 4, 1, 4, 0, 1, 1, 2, 2, 0, 1, 1, 0, 0, 1, 3, 1, 4, 3, 1, 4, 3, 1, 1, 4, 4, 0, 3, 3, 0, 2, 4, 1, 3, 1, 4, 1, 4, 4, 0, 1, 1, 1, 1, 3, 0, 1, 0, 3, 1, 3, 1, 1, 1, 1, 3, 1, 4, 1, 1, 3, 0, 0, 2, 3, 0, 1, 1, 1, 0, 5, 4, 1, 0, 0, 0, 1, 5, 0, 1, 0, 5, 0, 1, 3, 1, 5, 1, 1, 1, 3, 1, 0, 1, 5, 5, 1, 1, 0, 1, 0, 4, 4, 0, 1, 0, 0, 4, 0, 1, 1, 1, 1, 1, 1, 5, 4, 2, 4, 0, 1, 0, 4, 0, 3, 0, 0, 0, 0, 0, 1, 2, 1, 1, 0, 4, 1, 1, 2, 2, 0, 1, 5, 2, 0, 1, 1, 0, 3, 1, 3, 1, 1, 4, 4, 0, 0, 4, 1, 3, 0, 0, 1, 4, 0, 1, 1, 0, 2, 2, 1, 1, 5, 3, 5, 1, 1, 5, 0, 5, 0, 0, 4, 0, 2, 0, 1, 1, 0, 3, 0, 4, 4, 1, 3, 1, 1, 0, 1, 2, 1, 2, 3, 1, 4, 0, 1, 1, 2, 0, 1, 0, 4, 1, 1, 1, 0, 3, 0, 4, 1, 2, 3, 0, 0, 1, 0, 0, 4, 3, 0, 1, 1, 1, 2, 3, 1, 4, 3, 4, 1, 1, 1, 3, 0, 0, 0, 4, 1, 4, 1, 0, 1, 2, 1, 1, 1, 1, 1, 1, 1, 0, 3, 0, 2, 0, 2, 0, 1, 0, 4, 1, 3, 1, 4, 3, 0, 0, 0, 0, 1, 1, 1, 0, 1, 1, 3, 0, 1, 1, 4, 3, 0, 0, 0, 0, 0, 3, 1, 0, 1, 0, 0, 0, 0, 1, 1, 4, 0, 2, 3, 3, 1, 0, 0, 1, 3, 2, 1, 4, 1, 3, 1, 1, 1, 0, 0, 0, 3, 1, 2, 1, 1, 3, 5, 1, 0, 1, 1, 4, 5, 0, 0, 1, 3, 4, 1, 1, 0, 1, 5, 0, 5, 2, 2, 1, 0, 4, 0, 5, 0, 1, 5, 0, 2, 1, 1, 1, 1, 1, 1, 0, 2, 1, 0, 5, 4, 3, 0, 1, 1, 0, 3, 2, 0, 0, 4, 1, 1, 3, 4, 0, 0, 0, 2, 0, 1, 4, 1, 1, 0, 0, 1, 2, 0, 1, 0, 0, 3, 4, 0, 4, 4, 1, 4, 0, 3, 1, 1, 0, 1, 1, 4, 3, 0, 3, 2, 0, 4, 4, 4, 1, 2, 4, 3, 1, 3, 1, 2, 0, 1, 4, 4, 1, 1, 0, 1, 1, 4, 3, 0, 3, 4, 1, 0, 2, 1, 0, 1, 2, 0, 1, 1, 0, 3, 2, 1, 3, 0, 1, 0, 1, 0, 1, 0, 5, 3, 1, 1, 1, 3, 0, 2, 0, 4, 1, 0, 1, 4, 1, 1, 4, 4, 3, 0, 1, 3, 1, 0, 0, 0, 1, 1, 1, 2, 1, 4, 1, 0, 2, 1, 4, 0, 1, 0, 4, 2, 3, 0, 1, 1, 0, 1, 0, 1, 1, 0, 0, 1, 1, 1, 0, 1, 0, 0, 0, 1, 0, 1, 1, 4, 0, 0, 1, 3, 0, 5, 2, 0, 4, 5, 0, 3, 1, 4, 3, 0, 3, 1, 4, 1, 1, 2, 1, 0, 0, 1, 1, 4, 1, 1, 0, 3, 3, 3, 1, 2, 0, 4, 5, 0, 3, 1, 1, 0, 1, 0, 1, 1, 1, 4, 3, 1, 1, 1, 5, 4, 4, 0, 1, 2, 2, 1, 4, 0, 0, 0, 0, 1, 0, 1, 0, 3, 0, 2, 1, 2, 4, 0, 0, 1, 1, 2, 0, 1, 2, 4, 1, 0, 1, 1, 1, 4, 0, 1, 0, 1, 1, 4, 0, 2, 0, 1, 4, 2, 0, 0, 0, 2, 2, 3, 1, 4, 1, 1, 3, 1, 5, 0, 1, 2, 4, 0, 3, 3, 0, 0, 1, 0, 0, 2, 0, 0, 1, 0, 1, 4, 1, 1, 3, 1, 0, 1, 3, 5, 0, 1, 3, 1, 0, 4, 0, 0, 3, 0, 3, 1, 1, 1, 3, 4, 4, 0, 1, 3, 1, 2, 0, 0, 1, 1, 3, 0, 0, 1, 0, 0, 1, 0, 0, 1, 0, 0, 4, 0, 1, 0, 2, 1, 5, 3, 0, 1, 0, 5, 3, 4, 3, 0, 2, 0, 3, 1, 1, 4, 2, 4, 5, 0, 4, 0, 1, 0, 1, 1, 5, 3, 0, 3, 1, 3, 0, 0, 1, 0, 5, 2, 3, 0, 4, 1, 1, 0, 0, 0, 1, 1, 0, 0, 4, 4, 4, 0, 3, 3, 0, 3, 0, 0, 0, 0, 1, 0, 5, 1, 3, 2, 0, 3, 3, 1, 1, 3, 1, 0, 3, 0, 3, 0, 3, 1, 5, 5, 0, 0, 4, 3, 4, 1, 1, 1, 1, 1, 5, 1, 3, 0, 1, 4, 1, 1, 1, 0, 4, 0, 0, 1, 1, 3, 0, 1, 1, 3, 1, 0, 1, 0, 1, 2, 3, 2, 0, 2, 3, 3, 3, 4, 4, 2, 1, 3, 1, 0, 1, 0, 3, 2, 0, 0, 0, 1, 2, 3, 5, 5, 2, 0, 3, 0, 1, 0, 0, 0, 0, 2, 1, 0, 3, 1, 1, 0, 0, 1, 3, 4, 0, 2, 2, 3, 1, 0, 5, 5, 3, 1, 1, 5, 1, 2, 3, 1, 0, 3, 1, 1, 2, 1, 0, 1, 1, 2, 1, 0, 3, 4, 1, 1, 1, 3, 5, 4, 3, 4, 4, 3, 1, 3, 1, 1, 1, 0, 3, 4, 1, 1, 1, 0, 1, 1, 4, 0, 1, 1, 3, 5, 1, 3, 5, 0, 5, 0, 0, 1, 0, 1, 5, 4, 0, 1, 5, 0, 0, 1, 1, 1, 1, 1, 3, 1, 1, 2, 0, 1, 1, 1, 0, 1, 1, 0, 1, 0, 0, 0, 0, 0, 1, 0, 2, 1, 2, 0, 2, 5, 3, 2, 4, 0, 1, 0, 4, 4, 4, 0, 0, 0, 4, 0, 0, 5, 2, 1, 4, 3, 1, 0, 1, 1, 4, 3, 3, 2, 1, 0, 0, 0, 5, 1, 1, 1, 3, 3, 1, 3, 1, 4, 0, 0, 0, 0, 4, 0, 0, 4, 4, 3, 0, 0, 1, 0, 1, 4, 1, 0, 0, 4, 0, 1, 2, 0, 0, 1, 1, 1, 3, 1, 0, 0, 1, 4, 5, 1, 0, 0, 0, 0, 1, 4, 1, 3, 0, 0, 1, 1, 0, 3, 4, 1, 3, 4, 3, 1, 1, 1, 1, 0, 3, 0, 0, 1, 3, 3, 3, 3, 1, 1, 3, 1, 4, 1, 3, 1, 0, 1, 0, 5, 4, 1, 5, 4, 0, 2, 1, 1, 4, 2, 1, 5, 5, 1, 0, 1, 0, 0, 3, 0, 1, 1, 0, 5, 1, 2, 3, 1, 3, 1, 0, 1, 0, 1, 1, 3, 0, 2, 0, 3, 1, 1, 0, 0, 0, 0, 4, 0, 0, 1, 1, 4, 0, 1, 5, 2, 0, 2, 5, 0, 0, 1, 4, 1, 1, 1, 2, 0, 0, 5, 4, 1, 0, 1, 4, 1, 0, 1, 0, 2, 4, 4, 0, 1, 3, 3, 0, 3, 1, 1, 1, 1, 0, 1, 4, 0, 3, 3, 0, 4, 0, 1, 1, 1, 1, 1, 4, 1, 4, 5, 5, 0, 0, 1, 1, 0, 4, 2, 1, 0, 5, 4, 1, 0, 0, 0, 1, 1, 0, 2, 2, 2, 1, 5, 2, 1, 1, 0, 5, 1, 0, 1, 1, 0, 1, 3, 1, 0, 0, 4, 0, 4, 1, 1, 4, 0, 0, 3, 3, 0, 0, 1, 4, 0, 1, 0, 0, 2, 3, 4, 0, 1, 1, 1, 1, 1, 1, 0, 0, 3, 1, 0, 0, 1, 3, 5, 5, 0, 1, 1, 0, 4, 0, 3, 1, 1, 0, 0, 5, 2, 1, 2, 1, 1, 0, 3, 2, 0, 3, 0, 4, 0, 3, 1, 2, 1, 0, 1, 5, 1, 1, 1, 4, 1, 0, 0, 5, 2, 3, 0, 0, 0, 4, 3, 0, 4, 3, 4, 0, 3, 0, 1, 5, 0, 1, 1, 2, 0, 0, 3, 3, 2, 0, 0, 1, 2, 1, 1, 1, 1, 0, 0, 1, 1, 1, 4, 3, 4, 1, 1, 1, 0, 0, 5, 0, 0, 1, 2, 3, 2, 1, 0, 4, 3, 3, 0, 4, 1, 1, 0, 1, 1, 3, 5, 0, 1, 0, 0, 0, 1, 1, 4, 0, 0, 0, 1, 4, 1, 1, 4, 1, 0, 0, 4, 1, 1, 0, 1, 0, 1, 0, 4, 0, 0, 2, 0, 1, 4, 3, 4, 4, 1, 2, 1, 5, 1, 1, 2, 0, 0, 4, 1, 1, 1, 3, 3, 0, 3, 1, 1, 2, 4, 1, 0, 2, 2, 0, 4, 1, 1, 5, 0, 1, 2, 2, 1, 2, 1, 0, 3, 1, 4, 1, 3, 5, 1, 4, 0, 0, 3, 0, 4, 2, 0, 1, 0, 5, 1, 0, 0, 2, 0, 3, 2, 0, 1, 1, 1, 4, 1, 1, 1, 1, 3, 1, 4, 3, 0, 0, 3, 3, 0, 2, 1, 1, 3, 1, 0, 1, 3, 0, 2, 3, 1, 1, 1, 3, 0, 1, 0, 0, 0, 0, 0, 1, 5, 4, 4, 3, 1, 0, 3, 0, 5, 1, 1, 2, 4, 3, 0, 2, 0, 0, 5, 1, 1, 1, 1, 0, 0, 1, 4, 3, 3, 4, 1, 5, 0, 4, 1, 1, 4, 1, 1, 0, 4, 3, 3, 1, 0, 0, 5, 1, 3, 1, 2, 1, 4, 3, 4, 4, 1, 0, 0, 3, 1, 4, 4, 3, 4, 4, 1, 1, 3, 5, 2, 0, 0, 1, 1, 1, 0, 4, 2, 3, 1, 5, 1, 4, 2, 4, 3, 0, 1, 0, 1, 0, 5, 2, 1, 3, 3, 4, 3, 0, 1, 3, 1, 1, 3, 4, 1, 0, 5, 1, 1, 0, 1, 0, 0, 0, 3, 3, 3, 1, 0, 0, 1, 0, 4, 1, 3, 4, 1, 5, 0, 3, 0, 1, 4, 0, 4, 3, 0, 1, 4, 1, 1, 4, 2, 0, 0, 4, 4, 1, 1, 1, 3, 0, 1, 2, 0, 0, 3, 0, 0, 2, 2, 0, 3, 1, 3, 3, 3, 1, 2, 0, 2, 1, 2, 1, 2, 2, 0, 2, 1, 0, 2, 1, 0, 2, 1, 0, 4, 1, 0, 4, 1, 1, 3, 4, 0, 1, 1, 4, 4, 2, 0, 1, 1, 4, 0, 1, 3, 1, 3, 3, 0, 3, 0, 4, 4, 5, 4, 1, 3, 5, 0, 0, 0, 1, 2, 2, 3, 1, 0, 3, 0, 3, 1, 4, 0, 0, 3, 1, 1, 2, 1, 3, 4, 3, 0, 0, 0, 0, 1, 2, 1, 2, 0, 1, 1, 2, 0, 0, 0, 1, 0, 0, 0, 2, 0, 0, 0, 1, 0, 3, 3, 1, 0, 1, 1, 0, 4, 1, 4, 0, 2, 0, 0, 1, 5, 0, 1, 4, 0, 4, 1, 1, 1, 4, 3, 0, 0, 1, 1, 3, 1, 1, 4, 1, 1, 1, 0, 0, 0, 3, 1, 3, 1, 0, 4, 3, 2, 4, 3, 1, 5, 3, 4, 3, 0, 0, 0, 1, 2, 0, 1, 1, 2, 0, 0, 3, 1, 0, 0, 0, 1, 2, 1, 1, 2, 1, 0, 1, 4, 0, 1, 4, 3, 1, 0, 3, 4, 1, 5, 0, 4, 4, 4, 0, 0, 1, 1, 0, 0, 4, 0, 1, 0, 1, 1, 1, 2, 5, 1, 0, 0, 2, 0, 1, 1, 1, 1, 3, 1, 0, 1, 0, 4, 5, 0, 1, 1, 4, 0, 3, 1, 1, 1, 2, 5, 1, 1, 2, 1, 2, 2, 0, 0, 2, 5, 3, 0, 0, 0, 1, 3, 1, 1, 1, 3, 0, 1, 0, 1, 4, 1, 1, 4, 4, 0, 1, 3, 3, 1, 2, 1, 0, 3, 1, 5, 0, 4, 1, 1, 1, 0, 2, 0, 1, 4, 5, 0, 1, 3, 1, 4, 1, 0, 3, 2, 4, 1, 3, 5, 1, 1, 4, 4, 0, 1, 0, 1, 1, 3, 1, 1, 0, 1, 1, 2, 0, 2, 1, 0, 0, 2, 1, 4, 1, 1, 0, 3, 1, 0, 1, 0, 0, 1, 1, 0, 3, 1, 0, 0, 4, 4, 2, 1, 1, 1, 4, 0, 2, 4, 2, 1, 1, 0, 0, 5, 1, 0, 3, 0, 5, 0, 1, 4, 2, 0, 3, 1, 1, 0, 2, 2, 0, 4, 4, 1, 0, 0, 4, 1, 0, 0, 3, 0, 0, 3, 1, 4, 0, 3, 0, 0, 2, 1, 1, 2, 0, 3, 0, 1, 3, 0, 4, 1, 3, 0, 1, 4, 0, 1, 4, 0, 1, 1, 3, 0, 3, 4, 3, 0, 5, 3, 4, 4, 1, 3, 1, 1, 0, 4, 1, 1, 1, 0, 3, 4, 1, 3, 1, 0, 2, 4, 4, 4, 3, 3, 0, 3, 4, 1, 1, 0, 2, 0, 1, 1, 1, 4, 2, 0, 4, 0, 4, 0, 0, 1, 4, 1, 3, 1, 0, 1, 1, 1, 5, 0, 5, 4, 0, 0, 2, 0, 2, 4, 2, 1, 1, 3, 1, 1, 3, 0, 4, 3, 0, 0, 3, 3, 0, 0, 3, 2, 1, 0, 1, 3, 2, 0, 3, 4, 1, 0, 1, 3, 1, 1, 4, 0, 1, 0, 1, 4, 0, 0, 1, 5, 1, 3, 5, 5, 1, 1, 0, 0, 3, 4, 1, 0, 2, 4, 0, 0, 1, 2, 4, 3, 1, 4, 0, 4, 5, 0, 0, 1, 0, 4, 3, 2, 0, 4, 1, 1, 2, 0, 3, 4, 0, 0, 4, 1, 0, 0, 4, 1, 0, 0, 1, 0, 0, 3, 0, 1, 3, 4, 0, 1, 0, 1, 1, 4, 3, 1, 5, 3, 0, 1, 4, 0, 2, 2, 0, 5, 1, 4, 2, 3, 5, 0, 3, 3, 1, 1, 4, 1, 1, 3, 0, 0, 1, 3, 0, 1, 0, 2, 3, 4, 0, 1, 4, 3, 1, 1, 1, 0, 1, 1, 1, 1, 3, 1, 0, 1, 0, 1, 0, 0, 0, 0, 4, 3, 1, 1, 3, 2, 0, 4, 1, 1, 1, 4, 0, 0, 2, 0, 0, 4, 0, 1, 3, 4, 1, 0, 0, 3, 1, 1, 4, 0, 4, 4, 0, 3, 1, 3, 4, 4, 1, 1, 1, 4, 0, 1, 1, 3, 0, 1, 0, 5, 3, 1, 4, 3, 0, 3, 4, 0, 2, 4, 0, 2, 2, 4, 3, 1, 1, 0, 1, 2, 0, 2, 5, 0, 3, 2, 1, 0, 4, 5, 1, 0, 2, 1, 0, 0, 1, 1, 4, 3, 1, 0, 1, 0, 2, 1, 4, 0, 1, 0, 0, 5, 5, 0, 0, 1, 1, 3, 0, 0, 3, 0, 4, 4, 1, 1, 0, 1, 0, 3, 0, 2, 0, 1, 0, 3, 1, 1, 3, 1, 1, 3, 1, 2, 3, 1, 3, 0, 4, 0, 2, 0, 4, 3, 3, 3, 0, 1, 0, 1, 1, 5, 0, 2, 0, 1, 4, 2, 1, 3, 5, 1, 5, 3, 1, 0, 3, 1, 2, 3, 1, 3, 0, 2, 0, 1, 0, 0, 0, 3, 0, 0, 1, 1, 1, 2, 0, 4, 0, 4, 0, 1, 1, 0, 0, 1, 0, 4, 0, 1, 4, 4, 0, 1, 0, 0, 0, 3, 1, 1, 3, 0, 0, 0, 3, 0, 1, 0, 1, 0, 2, 3, 0, 5, 0, 1, 1, 3, 3, 0, 4, 4, 0, 0, 1, 2, 3, 1, 1, 1, 2, 2, 0, 3, 4, 1, 5, 4, 1, 0, 1, 3, 3, 0, 3, 0, 4, 0, 0, 0, 2, 5, 1, 3, 1, 1, 2, 3, 1, 0, 0, 4, 1, 4, 3, 1, 3, 3, 3, 1, 2, 1, 1, 3, 3, 0, 4, 1, 4, 0, 1, 3, 1, 4, 3, 1, 0, 3, 1, 3, 1, 0, 2, 1, 1, 3, 0, 2, 1, 3, 1, 0, 1, 4, 3, 1, 0, 1, 0, 1, 0, 5, 1, 3, 0, 4, 1, 3, 1, 1, 1, 0, 1, 0, 3, 0, 0, 1, 3, 0, 0, 1, 1, 4, 1, 5, 3, 3, 1, 1, 4, 4, 1, 1, 4, 3, 3, 1, 0, 4, 1, 2, 4, 0, 4, 4, 5, 0, 1, 4, 1, 0, 0, 1, 4, 3, 0, 3, 1, 1, 1, 0, 1, 1, 1, 3, 2, 2, 0, 2, 3, 0, 3, 0, 3, 1, 0, 1, 4, 4, 4, 2, 0, 3, 0, 4, 0, 4, 0, 2, 1, 1, 5, 1, 4, 2, 1, 1, 0, 4, 1, 2, 4, 3, 1, 3, 1, 1, 0, 1, 2, 0, 3, 1, 4, 0, 0, 1, 1, 1, 1, 1, 0, 0, 1, 2, 5, 1, 1, 4, 1, 2, 0, 2, 0, 4, 0, 1, 0, 0, 1, 0, 0, 1, 5, 1, 1, 3, 3, 1, 0, 0, 1, 1, 1, 0, 1, 0, 1, 0, 0, 1, 0, 0, 1, 4, 0, 0, 0, 1, 3, 0, 4, 3, 0, 1, 0, 0, 1, 1, 1, 1, 0, 0, 2, 2, 0, 1, 2, 3, 5, 1, 0, 0, 4, 0, 0, 4, 0, 3, 1, 3, 1, 5, 0, 0, 0, 4, 3, 1, 3, 3, 1, 0, 1, 0, 1, 3, 0, 4, 3, 2, 0, 1, 3, 4, 1, 0, 2, 1, 2, 0, 1, 3, 3, 0, 4, 0, 4, 3, 1, 5, 3, 4, 4, 1, 3, 1, 1, 4, 5, 4, 1, 1, 3, 1, 1, 2, 0, 0, 3, 1, 0, 0, 2, 2, 4, 0, 0, 1, 1, 1, 3, 0, 1, 3, 1, 1, 0, 3, 0, 1, 1, 3, 1, 1, 3, 0, 3, 0, 4, 0, 1, 2, 0, 3, 0, 1, 2, 1, 1, 1, 1, 3, 0, 1, 0, 2, 1, 1, 3, 1, 1, 1, 1, 3, 4, 0, 0, 0, 2, 2, 3, 0, 4, 3, 1, 2, 0, 3, 2, 0, 3, 4, 0, 4, 1, 1, 5, 1, 1, 2, 0, 0, 4, 2, 1, 5, 0, 5, 1, 0, 1, 3, 0, 1, 3, 0, 3, 5, 0, 0, 3, 1, 0, 4, 3, 4, 1, 0, 1, 5, 2, 0, 2, 1, 5, 1, 3, 1, 3, 5, 0, 1, 1, 1, 4, 1, 1, 1, 1, 0, 1, 1, 0, 1, 1, 5, 1, 1, 5, 4, 1, 1, 4, 1, 1, 5, 0, 0, 2, 1, 3, 3, 4, 1, 0, 0, 2, 1, 0, 1, 1, 5, 1, 0, 0, 1, 0, 0, 0, 0, 3, 2, 0, 1, 1, 1, 1, 3, 2, 0, 4, 2, 2, 1, 1, 1, 1, 3, 0, 1, 3, 0, 4, 3, 1, 4, 0, 1, 1, 1, 0, 1, 1, 1, 0, 1, 4, 1, 0, 4, 4, 2, 4, 2, 1, 2, 4, 3, 0, 0, 3, 4, 1, 1, 0, 0, 5, 1, 4, 0, 3, 1, 3, 3, 0, 0, 0, 1, 4, 0, 0, 0, 0, 1, 1, 1, 0, 3, 3, 1, 1, 0, 1, 3, 0, 4, 2, 0, 3, 1, 5, 1, 1, 1, 1, 2, 2, 0, 1, 1, 2, 0, 1, 0, 0, 0, 1, 1, 1, 1, 1, 1, 0, 1, 0, 2, 2, 0, 0, 4, 0, 3, 1, 0, 3, 1, 0, 1, 0, 1, 0, 0, 3, 3, 3, 0, 4, 0, 3, 0, 4, 4, 0, 4, 0, 1, 0, 1, 1, 1, 4, 2, 1, 1, 4, 0, 1, 0, 4, 0, 0, 3, 4, 1, 1, 1, 2, 3, 4, 0, 1, 4, 1, 2, 2, 0, 2, 3, 0, 0, 0, 5, 1, 3, 1, 0, 4, 3, 1, 5, 1, 1, 1, 1, 0, 1, 0, 0, 2, 0, 2, 0, 0, 1, 1, 3, 3, 0, 4, 3, 1, 0, 1, 3, 2, 1, 4, 1, 1, 1, 3, 3, 4, 5, 1, 3, 3, 1, 4, 0, 4, 2, 0, 2, 1, 1, 4, 0, 3, 1, 0, 4, 1, 0, 1, 4, 1, 3, 1, 1, 1, 5, 1, 3, 0, 4, 0, 0, 1, 1, 0, 3, 0, 1, 5, 1, 1, 0, 1, 1, 1, 0, 1, 0, 0, 3, 3, 3, 3, 3, 0, 3, 0, 1, 3, 2, 3, 1, 1, 2, 2, 2, 0, 0, 0, 2, 1, 0, 3, 1, 2, 1, 1, 2, 2, 1, 0, 4, 1, 0, 1, 3, 0, 1, 1, 3, 4, 4, 3, 2, 0, 4, 4, 1, 0, 2, 0, 1, 1, 0, 3, 0, 1, 2, 0, 1, 1, 3, 0, 3, 1, 1, 1, 1, 2, 0, 1, 4, 1, 0, 2, 0, 0, 1, 0, 1, 1, 0, 4, 1, 4, 0, 0, 0, 1, 0, 4, 5, 0, 1, 0, 3, 0, 2, 0, 1, 1, 0, 3, 0, 2, 0, 1, 0, 1, 3, 0, 1, 1, 0, 0, 3, 1, 5, 4, 0, 3, 0, 1, 0, 3, 3, 5, 3, 1, 3, 0, 2, 1, 0, 1, 4, 0, 1, 3, 3, 0, 1, 3, 1, 0, 1, 1, 1, 2, 1, 2, 1, 1, 1, 3, 1, 1, 3, 1, 3, 1, 1, 1, 1, 3, 0, 1, 0, 0, 1, 0, 1, 0, 4, 1, 4, 0, 0, 4, 5, 3, 5, 0, 1, 3, 1, 5, 0, 3, 0, 2, 0, 0, 3, 1, 0, 0, 0, 4, 3, 1, 5, 1, 5, 1, 3, 2, 0, 3, 4, 1, 2, 0, 1, 1, 1, 1, 3, 0, 3, 1, 1, 3, 0, 0, 3, 1, 0, 3, 3, 1, 0, 0, 0, 1, 4, 3, 0, 2, 1, 5, 4, 4, 0, 2, 1, 0, 4, 2, 1, 4, 1, 0, 4, 1, 1, 4, 1, 1, 1, 0, 0, 0, 1, 4, 3, 0, 0, 2, 0, 5, 5, 2, 1, 2, 0, 0, 3, 1, 1, 0, 4, 1, 0, 1, 0, 4, 3, 4, 4, 1, 0, 1, 3, 3, 1, 1, 2, 1, 1, 1, 1, 4, 1, 0, 0, 1, 1, 2, 1, 1, 0, 3, 1, 1, 0, 1, 1, 1, 1, 5, 0, 1, 2, 3, 1, 1, 2, 2, 0, 1, 1, 0, 5, 0, 1, 0, 2, 3, 4, 0, 3, 1, 2, 0, 0, 0, 4, 0, 0, 2, 0, 1, 1, 4, 1, 0, 1, 0, 1, 1, 4, 0, 0, 0, 0, 3, 0, 1, 5, 4, 0, 3, 2, 3, 0, 4, 5, 0, 1, 4, 1, 0, 0, 2, 3, 1, 1, 3, 5, 2, 1, 1, 1, 1, 4, 1, 1, 0, 1, 2, 0, 2, 0, 4, 4, 1, 0, 0, 5, 0, 3, 0, 0, 1, 2, 4, 0, 0, 0, 3, 1, 3, 4, 0, 0, 4, 0, 3, 0, 0, 3, 2, 4, 2, 5, 0, 3, 1, 1, 0, 2, 0, 0, 3, 1, 0, 1, 1, 2, 3, 1, 0, 2, 3, 0, 0, 0, 1, 1, 1, 1, 3, 1, 0, 3, 1, 0, 0, 0, 3, 2, 4, 4, 4, 0, 0, 0, 4, 0, 1, 0, 5, 2, 0, 0, 3, 2, 5, 0, 4, 3, 0, 1, 1, 1, 1, 3, 2, 2, 1, 1, 1, 3, 4, 0, 0, 0, 4, 1, 5, 1, 1, 1, 1, 0, 0, 0, 4, 0, 1, 1, 1, 0, 0, 1, 1, 0, 2, 1, 0, 2, 1, 1, 4, 0, 2, 3, 1, 2, 3, 1, 2, 3, 3, 2, 0, 3, 2, 0, 1, 1, 2, 0, 4, 1, 0, 1, 1, 0, 0, 1, 5, 0, 2, 1, 5, 0, 4, 5, 0, 1, 2, 0, 1, 2, 1, 1, 3, 1, 1, 0, 1, 0, 3, 1, 1, 3, 1, 1, 1, 1, 1, 4, 2, 1, 1, 3, 1, 1, 0, 0, 1, 5, 4, 0, 4, 0, 0, 4, 0, 2, 4, 1, 1, 1, 0, 3, 3, 0, 1, 4, 0, 1, 0, 1, 0, 3, 4, 1, 0, 3, 4, 0, 1, 1, 0, 0, 0, 3, 3, 4, 0, 1, 1, 1, 3, 3, 2, 4, 3, 0, 1, 5, 1, 4, 1, 1, 1, 0, 1, 1, 1, 0, 0, 4, 0, 1, 1, 0, 1, 1, 2, 1, 3, 3, 4, 1, 0, 4, 1, 1, 3, 0, 2, 1, 1, 2, 1, 0, 1, 1, 1, 0, 1, 5, 1, 0, 2, 0, 0, 3, 0, 1, 2, 2, 1, 1, 1, 0, 1, 1, 3, 0, 1, 3, 0, 1, 4, 3, 1, 2, 2, 1, 2, 1, 1, 1, 1, 3, 1, 4, 3, 4, 1, 3, 4, 0, 1, 0, 4, 0, 0, 1, 1, 1, 1, 1, 0, 3, 1, 1, 5, 0, 0, 1, 1, 0, 0, 1, 1, 3, 1, 1, 0, 0, 0, 4, 4, 0, 5, 1, 1, 1, 4, 1, 0, 1, 1, 0, 0, 4, 3, 0, 1, 4, 3, 1, 1, 0, 1, 2, 0, 4, 3, 4, 2, 1, 3, 0, 1, 5, 3, 0, 3, 1, 0, 1, 0, 4, 0, 1, 0, 1, 5, 0, 3, 0, 1, 1, 1, 1, 1, 1, 0, 1, 4, 2, 1, 0, 1, 0, 1, 1, 1, 4, 0, 3, 4, 3, 1, 3, 0, 2, 0, 0, 4, 1, 1, 0, 1, 5, 3, 1, 0, 0, 2, 0, 0, 1, 0, 1, 3, 0, 4, 0, 0, 3, 3, 1, 4, 1, 0, 4, 4, 1, 0, 3, 3, 0, 2, 3, 3, 0, 0, 1, 5, 3, 0, 5, 4, 3, 3, 3, 0, 0, 3, 2, 0, 4, 0, 1, 4, 0, 1, 3, 1, 2, 1, 1, 0, 1, 4, 0, 0, 0, 1, 1, 1, 1, 1, 4, 0, 4, 0, 2, 3, 1, 1, 3, 1, 3, 1, 0, 0, 0, 5, 4, 2, 0, 1, 2, 5, 0, 4, 1, 2, 0, 3, 0, 1, 0, 0, 1, 4, 0, 0, 2, 1, 1, 1, 1, 0, 2, 4, 2, 0, 4, 0, 0, 0, 3, 0, 4, 1, 0, 0, 1, 1, 0, 1, 4, 0, 1, 0, 0, 2, 0, 1, 1, 3, 0, 0, 1, 1, 4, 0, 1, 1, 1, 4, 0, 0, 0, 1, 1, 4, 0, 1, 4, 3, 1, 1, 1, 0, 5, 3, 1, 1, 0, 4, 2, 1, 4, 1, 3, 0, 0, 1, 4, 4, 3, 0, 4, 0, 0, 4, 4, 1, 2, 3, 4, 1, 1, 4, 2, 2, 0, 1, 5, 1, 0, 3, 2, 0, 1, 1, 1, 1, 1, 1, 1, 0, 0, 3, 0, 4, 3, 0, 3, 2, 4, 1, 0, 1, 0, 2, 1, 3, 2, 4, 3, 1, 4, 0, 2, 0, 0, 0, 1, 0, 1, 1, 3, 1, 3, 1, 3, 0, 3, 4, 5, 1, 1, 1, 3, 1, 1, 4, 5, 0, 4, 1, 1, 3, 4, 1, 2, 0, 1, 4, 1, 5, 1, 0, 1, 5, 3, 0, 3, 0, 1, 1, 1, 1, 1, 2, 2, 3, 1, 2, 2, 2, 4, 0, 0, 1, 0, 0, 1, 0, 1, 0, 3, 1, 0, 1, 1, 0, 1, 1, 3, 2, 1, 1, 1, 4, 0, 3, 3, 0, 1, 0, 1, 1, 0, 1, 3, 0, 0, 0, 1, 2, 3, 1, 1, 1, 1, 0, 4, 1, 1, 1, 0, 0, 1, 1, 0, 1, 1, 0, 0, 1, 1, 1, 3, 4, 1, 1, 1, 0, 0, 1, 0, 1, 1, 1, 2, 2, 0, 0, 1, 2, 4, 1, 1, 0, 1, 0, 1, 1, 1, 1, 3, 1, 0, 1, 0, 1, 0, 3, 1, 1, 0, 2, 4, 4, 4, 0, 4, 1, 0, 1, 2, 4, 2, 4, 3, 0, 1, 2, 0, 0, 1, 3, 5, 0, 0, 3, 1, 1, 4, 1, 0, 1, 1, 0, 1, 3, 0, 1, 0, 1, 1, 0, 0, 1, 1, 0, 1, 0, 0, 2, 0, 1, 0, 1, 2, 0, 2, 2, 0, 0, 2, 0, 4, 3, 1, 1, 3, 3, 1, 1, 3, 1, 0, 1, 1, 2, 1, 2, 5, 0, 0, 1, 0, 1, 0, 3, 1, 4, 1, 4, 4, 4, 1, 0, 3, 0, 5, 0, 0, 1, 1, 0, 0, 1, 4, 0, 3, 2, 3, 3, 3, 0, 1, 0, 5, 3, 0, 0, 0, 0, 0, 2, 0, 3, 1, 1, 0, 1, 2, 1, 3, 2, 1, 1, 1, 5, 1, 1, 0, 1, 4, 1, 5, 1, 1, 4, 1, 3, 4, 0, 3, 0, 2, 1, 3, 1, 3, 4, 2, 0, 0, 2, 4, 0, 0, 3, 0, 3, 1, 1, 0, 1, 0, 3, 1, 0, 5, 3, 3, 1, 1, 0, 0, 0, 0, 1, 3, 0, 1, 0, 0, 4, 3, 3, 2, 0, 0, 0, 4, 1, 4, 1, 5, 1, 0, 0, 4, 0, 2, 0, 1, 0, 3, 0, 1, 3, 2, 1, 1, 0, 0, 1, 0, 3, 1, 0, 0, 0, 3, 2, 3, 3, 0, 1, 2, 0, 1, 4, 1, 1, 2, 0, 2, 1, 1, 3, 5, 1, 0, 4, 0, 0, 4, 4, 1, 0, 0, 0, 0, 0, 3, 4, 0, 4, 0, 1, 1, 0, 4, 4, 1, 3, 3, 4, 1, 1, 0, 1, 1, 0, 0, 2, 0, 1, 4, 3, 4, 3, 1, 4, 0, 3, 0, 0, 1, 0, 3, 1, 1, 0, 0, 0, 4, 1, 0, 1, 0, 0, 0, 0, 2, 4, 0, 5, 2, 4, 4, 1, 0, 1, 0, 3, 1, 5, 4, 4, 0, 1, 0, 0, 3, 0, 4, 4, 1, 1, 0, 3, 1, 4, 3, 1, 1, 1, 4, 1, 1, 1, 4, 0, 3, 1, 4, 0, 3, 1, 1, 0, 0, 2, 1, 3, 3, 0, 1, 4, 1, 1, 1, 1, 4, 0, 1, 2, 1, 1, 2, 0, 1, 4, 1, 0, 1, 3, 0, 0, 1, 1, 1, 1, 4, 0, 0, 1, 3, 0, 1, 1, 0, 1, 0, 0, 1, 1, 3, 1, 4, 0, 0, 2, 1, 3, 0, 3, 4, 4, 1, 0, 0, 0, 0, 1, 1, 3, 0, 4, 2, 5, 0, 4, 3, 4, 0, 2, 0, 0, 4, 1, 2, 0, 0, 2, 5, 0, 2, 1, 1, 2, 0, 2, 1, 1, 1, 0, 1, 1, 0, 0, 0, 1, 2, 1, 2, 1, 4, 1, 4, 1, 1, 1, 0, 0, 4, 1, 1, 0, 1, 1, 0, 1, 3, 4, 0, 0, 0, 0, 4, 1, 1, 2, 4, 1, 1, 0, 4, 5, 1, 0, 0, 0, 1, 0, 2, 2, 4, 1, 4, 3, 3, 4, 3, 3, 1, 0, 0, 2, 1, 1, 2, 1, 2, 0, 5, 1, 0, 1, 3, 0, 4, 0, 4, 1, 4, 1, 3, 4, 4, 0, 0, 1, 3, 3, 1, 1, 1, 0, 1, 4, 1, 0, 0, 0, 1, 2, 3, 1, 3, 1, 3, 1, 4, 1, 3, 3, 1, 4, 0, 1, 4, 0, 4, 1, 1, 1, 1, 1, 0, 3, 0, 1, 3, 3, 1, 1, 0, 0, 4, 1, 4, 1, 0, 0, 2, 1, 1, 4, 4, 0, 1, 4, 1, 0, 2, 3, 1, 0, 2, 2, 1, 1, 4, 4, 0, 1, 1, 0, 3, 4, 0, 4, 1, 5, 0, 0, 4, 0, 1, 0, 3, 0, 4, 1, 4, 0, 2, 0, 0, 1, 1, 1, 0, 1, 0, 5, 0, 3, 1, 0, 1, 1, 0, 3, 2, 3, 4, 1, 0, 1, 4, 2, 0, 1, 0, 0, 1, 4, 0, 2, 0, 0, 1, 2, 0, 2, 1, 4, 3, 4, 0, 4, 4, 0, 0, 4, 1, 1, 1, 3, 2, 4, 0, 1, 0, 3, 0, 1, 2, 1, 0, 1, 0, 0, 0, 0, 1, 3, 2, 0, 1, 0, 2, 1, 1, 1, 0, 4, 1, 0, 1, 1, 5, 1, 4, 4, 3, 4, 0, 0, 0, 4, 0, 3, 1, 3, 0, 0, 3, 4, 3, 4, 2, 3, 2, 1, 4, 3, 1, 2, 1, 0, 2, 1, 2, 4, 1, 4, 4, 0, 0, 1, 2, 0, 1, 0, 0, 2, 0, 0, 4, 1, 0, 1, 3, 1, 4, 0, 1, 1, 2, 5, 1, 3, 2, 3, 0, 1, 1, 1, 2, 0, 2, 1, 0, 1, 1, 3, 3, 1, 0, 4, 0, 1, 4, 1, 3, 0, 1, 1, 1, 4, 4, 0, 1, 0, 0, 1, 1, 0, 1, 4, 3, 1, 0, 4, 1, 0, 2, 3, 0, 1, 5, 1, 1, 4, 3, 4, 4, 3, 1, 3, 3, 5, 3, 4, 0, 1, 1, 1, 0, 2, 0, 1, 0, 1, 4, 0, 1, 4, 3, 1, 3, 0, 1, 3, 1, 0, 4, 1, 1, 0, 0, 3, 2, 0, 0, 1, 1, 3, 2, 3, 0, 0, 1, 0, 5, 5, 0, 4, 1, 1, 1, 4, 0, 1, 4, 0, 1, 4, 1, 1, 0, 4, 1, 3, 4, 0, 1, 3, 0, 1, 0, 0, 0, 0, 0, 2, 0, 3, 4, 0, 1, 0, 0, 2, 4, 3, 3, 1, 4, 1, 1, 0, 0, 0, 0, 0, 3, 4, 0, 2, 1, 0, 1, 1, 4, 4, 1, 0, 2, 0, 0, 2, 4, 3, 3, 1, 0, 0, 1, 3, 1, 0, 0, 0, 0, 4, 0, 3, 1, 1, 3, 3, 2, 1, 4, 1, 0, 0, 5, 1, 1, 1, 0, 1, 0, 3, 3, 1, 0, 0, 0, 1, 0, 2, 1, 5, 0, 0, 1, 3, 0, 0, 4, 4, 0, 0, 1, 1, 1, 2, 2, 2, 1, 4, 4, 1, 0, 3, 1, 1, 3, 3, 3, 0, 2, 1, 0, 5, 0, 0, 0, 0, 0, 3, 0, 3, 2, 3, 1, 3, 4, 4, 0, 4, 4, 1, 3, 1, 1, 0, 0, 1, 0, 0, 4, 0, 1, 1, 5, 0, 2, 0, 2, 1, 0, 1, 3, 1, 3, 4, 1, 2, 0, 0, 2, 0, 1, 1, 3, 1, 3, 2, 0, 3, 1, 0, 1, 0, 1, 3, 3, 0, 2, 1, 1, 0, 2, 2, 5, 1, 1, 1, 1, 1, 0, 1, 3, 4, 3, 2, 0, 1, 0, 1, 1, 1, 5, 1, 1, 5, 0, 0, 2, 3, 1, 2, 4, 2, 4, 1, 0, 3, 0, 1, 1, 0, 1, 1, 1, 1, 1, 0, 0, 0, 2, 0, 0, 3, 1, 1, 3, 1, 1, 1, 4, 0, 2, 0, 3, 0, 1, 1, 0, 0, 0, 0, 1, 3, 1, 1, 0, 0, 3, 3, 0, 1, 4, 0, 4, 1, 0, 3, 1, 1, 4, 1, 0, 0, 0, 1, 1, 0, 0, 4, 0, 1, 2, 0, 0, 0, 1, 4, 4, 0, 3, 3, 1, 1, 0, 4, 1, 3, 4, 3, 0, 1, 0, 1, 0, 3, 0, 1, 1, 1, 3, 0, 5, 0, 2, 1, 1, 4, 0, 2, 1, 1, 0, 2, 1, 4, 5, 1, 1, 1, 4, 1, 3, 0, 1, 0, 0, 0, 1, 1, 4, 4, 0, 0, 3, 1, 0, 1, 0, 5, 1, 3, 2, 4, 0, 2, 3, 1, 2, 0, 1, 1, 0, 2, 2, 2, 3, 0, 4, 0, 1, 4, 1, 2, 0, 0, 1, 1, 2, 3, 3, 4, 1, 1, 1, 3, 0, 1, 4, 4, 0, 4, 3, 2, 1, 0, 0, 4, 1, 1, 0, 1, 1, 1, 1, 2, 3, 1, 1, 0, 4, 4, 4, 1, 1, 1, 3, 1, 1, 4, 0, 0, 0, 0, 3, 0, 4, 0, 5, 0, 4, 3, 3, 4, 0, 4, 2, 2, 1, 5, 0, 1, 3, 3, 0, 3, 4, 4, 2, 5, 0, 1, 1, 1, 0, 0, 0, 4, 0, 1, 1, 4, 1, 4, 2, 5, 1, 3, 1, 2, 4, 4, 0, 5, 1, 4, 0, 1, 0, 1, 0, 2, 5, 3, 1, 1, 0, 0, 1, 3, 1, 1, 1, 1, 4, 1, 3, 2, 4, 0, 0, 1, 3, 5, 1, 3, 0, 1, 2, 1, 3, 0, 1, 1, 0, 4, 0, 3, 0, 2, 0, 1, 5, 0, 1, 4, 1, 1, 1, 0, 4, 4, 0, 0, 3, 3, 1, 1, 1, 1, 0, 1, 1, 3, 1, 1, 3, 1, 3, 1, 0, 4, 0, 1, 3, 2, 4, 1, 3, 4, 4, 1, 0, 0, 3, 1, 3, 1, 1, 1, 4, 0, 0, 0, 4, 1, 3, 0, 4, 0, 1, 0, 3, 3, 3, 1, 0, 0, 1, 0, 4, 0, 0, 0, 0, 0, 5, 1, 1, 0, 2, 1, 1, 1, 3, 3, 1, 1, 0, 1, 2, 1, 2, 0, 3, 4, 1, 0, 0, 5, 2, 1, 1, 1, 4, 0, 1, 0, 1, 5, 1, 4, 1, 1, 5, 0, 0, 0, 3, 0, 1, 0, 2, 3, 1, 0, 1, 1, 2, 0, 0, 1, 4, 2, 1, 0, 2, 1, 1, 4, 1, 1, 1, 3, 2, 0, 1, 1, 1, 0, 1, 0, 5, 0, 1, 1, 1, 2, 4, 0, 1, 0, 1, 0, 2, 1, 2, 0, 4, 3, 5, 1, 0, 4, 0, 0, 1, 0, 1, 1, 0, 1, 3, 0, 4, 1, 1, 1, 5, 0, 1, 4, 1, 0, 0, 0, 1, 3, 0, 1, 4, 1, 1, 1, 1, 0, 0, 0, 2, 1, 4, 2, 0, 3, 0, 1, 1, 2, 0, 2, 1, 1, 1, 1, 0, 0, 4, 0, 0, 1, 0, 1, 2, 2, 2, 1, 2, 1, 1, 1, 1, 1, 2, 0, 1, 0, 1, 3, 0, 1, 1, 4, 4, 1, 1, 3, 0, 2, 4, 0, 1, 1, 3, 4, 4, 3, 4, 4, 3, 1, 4, 5, 4, 0, 1, 2, 1, 3, 4, 1, 1, 1, 1, 1, 4, 0, 0, 0, 4, 1, 5, 3, 1, 1, 4, 0, 1, 1, 3, 4, 4, 1, 0, 1, 1, 0, 4, 1, 0, 1, 0, 1, 0, 3, 1, 2, 0, 0, 4, 1, 0, 0, 2, 0, 4, 3, 0, 3, 1, 0, 3, 3, 1, 4, 2, 1, 0, 1, 0, 1, 1, 0, 0, 0, 4, 4, 2, 4, 1, 2, 3, 0, 0, 1, 3, 1, 0, 1, 1, 2, 3, 3, 2, 0, 3, 1, 3, 1, 4, 1, 1, 4, 0, 0, 1, 1, 1, 1, 1, 1, 0, 0, 0, 1, 5, 1, 2, 1, 3, 2, 0, 1, 1, 1, 1, 0, 0, 0, 2, 0, 3, 1, 0, 0, 1, 1, 0, 0, 2, 4, 1, 0, 0, 1, 0, 2, 3, 2, 3, 0, 1, 3, 3, 2, 4, 0, 0, 1, 1, 1, 0, 1, 0, 0, 1, 1, 0, 1, 1, 1, 1, 0, 0, 5, 1, 3, 4, 1, 1, 0, 1, 1, 1, 1, 5, 1, 5, 1, 4, 0, 1, 1, 5, 3, 4, 0, 3, 4, 1, 0, 4, 2, 1, 0, 0, 0, 0, 1, 0, 1, 4, 0, 0, 0, 1, 3, 1, 0, 1, 0, 1, 0, 0, 1, 0, 1, 1, 3, 0, 1, 1, 3, 3, 1, 2, 1, 3, 4, 0, 2, 0, 2, 0, 0, 0, 1, 0, 4, 1, 3, 0, 0, 0, 2, 1, 3, 1, 1, 4, 1, 0, 1, 0, 4, 2, 2, 1, 1, 0, 1, 1, 1, 0, 4, 1, 1, 0, 4, 1, 0, 3, 2, 3, 0, 5, 4, 3, 5, 5, 0, 3, 4, 1, 1, 1, 3, 4, 0, 1, 1, 2, 1, 3, 1, 4, 1, 0, 1, 1, 0, 1, 0, 3, 3, 1, 0, 1, 1, 0, 3, 3, 0, 1, 1, 2, 1, 1, 1, 2, 2, 1, 4, 0, 4, 0, 0, 3, 0, 1, 3, 4, 3, 3, 3, 2, 1, 0, 0, 0, 4, 1, 1, 3, 0, 3, 1, 3, 1, 1, 3, 1, 0, 1, 4, 1, 2, 2, 0, 0, 4, 3, 1, 3, 1, 1, 3, 0, 1, 1, 5, 4, 1, 2, 2, 0, 0, 0, 0, 3, 0, 0, 1, 4, 2, 3, 3, 4, 1, 4, 0, 0, 3, 0, 1, 1, 0, 4, 3, 0, 3, 0, 1, 0, 1, 4, 0, 0, 1, 0, 0, 1, 1, 1, 1, 0, 4, 0, 2, 1, 1, 1, 1, 0, 0, 1, 0, 1, 1, 3, 1, 1, 1, 1, 4, 1, 0, 1, 0, 0, 1, 1, 4, 0, 4, 0, 0, 0, 0, 3, 1, 4, 1, 1, 4, 1, 0, 0, 1, 3, 0, 1, 4, 0, 1, 1, 4, 3, 1, 3, 0, 3, 2, 0, 1, 3, 0, 0, 1, 1, 1, 1, 0, 4, 0, 4, 1, 3, 3, 1, 0, 1, 1, 3, 0, 0, 1, 0, 2, 4, 4, 1, 2, 1, 1, 4, 0, 0, 4, 2, 0, 1, 1, 4, 2, 4, 0, 1, 0, 2, 4, 0, 1, 1, 0, 0, 2, 1, 1, 1, 4, 0, 4, 0, 0, 4, 4, 2, 0, 5, 0, 1, 4, 2, 2, 1, 2, 4, 0, 3, 1, 0, 0, 2, 1, 0, 0, 1, 2, 0, 3, 0, 4, 0, 0, 1, 1, 1, 1, 4, 1, 0, 0, 4, 1, 4, 0, 3, 0, 1, 0, 0, 1, 0, 1, 0, 1, 1, 1, 1, 4, 0, 3, 1, 4, 1, 1, 0, 0, 0, 0, 4, 3, 1, 0, 1, 4, 3, 0, 3, 0, 0, 1, 0, 2, 0, 4, 1, 1, 1, 1, 1, 3, 0, 0, 3, 0, 0, 1, 3, 3, 1, 1, 4, 2, 3, 0, 0, 4, 0, 1, 4, 5, 0, 4, 0, 2, 4, 0, 0, 0, 1, 0, 2, 4, 3, 3, 1, 1, 1, 1, 0, 0, 1, 1, 3, 1, 3, 1, 0, 1, 1, 3, 0, 0, 1, 0, 1, 2, 3, 1, 3, 1, 3, 0, 0, 2, 0, 3, 1, 2, 1, 3, 0, 1, 0, 3, 3, 0, 1, 4, 3, 2, 0, 3, 0, 4, 1, 0, 0, 3, 3, 4, 5, 4, 0, 1, 1, 2, 1, 2, 1, 0, 2, 1, 1, 1, 0, 1, 0, 1, 3, 1, 2, 1, 0, 0, 0, 3, 4, 2, 1, 3, 0, 0, 1, 4, 1, 4, 2, 2, 3, 3, 0, 4, 0, 0, 5, 2, 1, 1, 2, 0, 1, 1, 4, 0, 3, 3, 0, 2, 4, 4, 3, 3, 1, 0, 0, 1, 1, 4, 0, 1, 2, 4, 3, 0, 1, 3, 5, 4, 1, 1, 2, 4, 0, 1, 3, 4, 3, 0, 0, 0, 3, 0, 4, 1, 3, 3, 0, 4, 1, 3, 4, 0, 1, 4, 1, 2, 3, 4, 4, 4, 4, 1, 3, 3, 0, 1, 0, 1, 0, 0, 1, 0, 4, 4, 1, 0, 1, 0, 1, 4, 3, 0, 1, 3, 1, 1, 0, 1, 1, 3, 3, 1, 1, 1, 0, 1, 1, 1, 3, 3, 1, 2, 1, 2, 1, 1, 1, 0, 1, 0, 5, 0, 3, 3, 3, 4, 4, 1, 4, 4, 1, 3, 1, 1, 1, 2, 1, 4, 0, 0, 5, 0, 0, 3, 1, 2, 4, 1, 3, 1, 5, 3, 4, 0, 1, 0, 1, 0, 2, 4, 0, 0, 5, 1, 3, 3, 0, 5, 3, 1, 4, 0, 4, 1, 1, 4, 0, 1, 1, 1, 4, 0, 2, 4, 2, 0, 3, 2, 0, 1, 1, 1, 4, 0, 3, 4, 2, 1, 2, 3, 0, 1, 1, 2, 0, 1, 0, 1, 0, 0, 4, 3, 1, 0, 1, 0, 1, 1, 0, 5, 1, 1, 3, 1, 1, 4, 1, 0, 0, 4, 3, 0, 1, 0, 0, 1, 3, 0, 0, 4, 0, 1, 5, 0, 1, 0, 3, 3, 4, 1, 1, 4, 4, 2, 0, 2, 1, 0, 1, 1, 1, 3, 5, 1, 3, 3, 3, 1, 0, 4, 3, 1, 0, 0, 4, 1, 1, 3, 0, 1, 4, 1, 0, 0, 1, 1, 0, 0, 0, 5, 2, 5, 1, 1, 1, 1, 2, 1, 0, 4, 4, 0, 3, 1, 1, 4, 0, 0, 0, 4, 1, 2, 3, 0, 1, 1, 1, 0, 2, 0, 1, 1, 0, 1, 1, 0, 0, 1, 4, 0, 1, 1, 0, 1, 0, 0, 1, 2, 1, 0, 0, 0, 2, 1, 1, 1, 5, 1, 3, 1, 0, 1, 1, 4, 3, 1, 0, 1, 0, 0, 0, 1, 1, 0, 1, 5, 1, 0, 5, 4, 1, 1, 0, 0, 5, 0, 4, 4, 3, 5, 2, 5, 3, 1, 1, 1, 0, 1, 1, 0, 3, 0, 0, 0, 1, 4, 1, 1, 1, 0, 1, 0, 1, 0, 0, 4, 1, 1, 0, 1, 1, 3, 1, 1, 0, 1, 0, 4, 3, 1, 1, 3, 1, 0, 2, 3, 1, 0, 2, 4, 3, 1, 0, 0, 1, 1, 4, 0, 0, 2, 0, 3, 1, 0, 3, 0, 0, 1, 4, 5, 4, 1, 0, 1, 3, 5, 0, 3, 3, 4, 0, 0, 1, 0, 4, 0, 3, 0, 1, 3, 1, 2, 3, 4, 2, 2, 0, 0, 3, 1, 2, 0, 1, 0, 0, 4, 4, 4, 0, 2, 1, 2, 0, 4, 1, 4, 1, 1, 3, 1, 4, 1, 1, 0, 3, 0, 1, 3, 4, 5, 1, 0, 4, 0, 1, 1, 3, 0, 2, 4, 3, 0, 0, 2, 0, 2, 1, 1, 0, 0, 4, 1, 1, 1, 1, 1, 0, 1, 1, 2, 3, 1, 4, 4, 2, 4, 0, 1, 0, 0, 1, 3, 1, 1, 1, 0, 0, 2, 0, 0, 0, 4, 3, 3, 3, 0, 0, 2, 3, 4, 1, 1, 2, 1, 4, 0, 3, 2, 1, 1, 5, 0, 1, 0, 0, 0, 0, 1, 1, 0, 2, 0, 0, 4, 1, 0, 1, 1, 0, 4, 4, 1, 1, 1, 1, 3, 0, 0, 4, 4, 0, 0, 3, 1, 1, 0, 1, 4, 4, 0, 3, 1, 1, 4, 1, 1, 3, 0, 3, 4, 0, 5, 1, 0, 5, 0, 3, 1, 0, 4, 4, 4, 1, 3, 2, 3, 3, 3, 1, 3, 3, 1, 3, 4, 1, 0, 2, 0, 3, 4, 0, 1, 1, 3, 1, 1, 1, 3, 0, 0, 0, 1, 0, 2, 0, 1, 4, 1, 3, 0, 3, 4, 0, 3, 1, 3, 0, 1, 4, 0, 0, 4, 1, 4, 4, 4, 0, 1, 5, 1, 1, 0, 1, 2, 4, 1, 4, 1, 2, 0, 0, 3, 2, 1, 0, 2, 3, 1, 3, 0, 4, 0, 5, 5, 1, 2, 3, 4, 1, 0, 0, 1, 0, 0, 1, 1, 2, 0, 4, 2, 3, 1, 1, 0, 1, 1, 1, 5, 1, 4, 2, 1, 4, 0, 4, 2, 1, 4, 0, 4, 0, 1, 0, 0, 0, 3, 1, 1, 1, 2, 4, 0, 3, 3, 0, 4, 4, 2, 4, 0, 4, 3, 1, 3, 0, 3, 1, 3, 0, 3, 0, 0, 1, 1, 3, 4, 0, 3, 0, 2, 0, 0, 0, 3, 2, 0, 1, 3, 2, 1, 0, 3, 0, 4, 2, 0, 0, 3, 2, 1, 5, 4, 3, 0, 0, 4, 4, 0, 4, 0, 3, 4, 3, 0, 1, 5, 4, 2, 0, 3, 0, 1, 2, 0, 3, 4, 2, 1, 1, 1, 1, 1, 3, 2, 4, 1, 1, 1, 3, 0, 0, 0, 1, 1, 0, 1, 4, 0, 0, 0, 0, 4, 4, 0, 1, 3, 1, 5, 0, 0, 0, 0, 1, 3, 2, 0, 1, 0, 0, 1, 1, 0, 0, 0, 3, 5, 0, 3, 1, 2, 2, 3, 2, 4, 1, 4, 1, 2, 1, 1, 4, 4, 3, 1, 3, 4, 2, 4, 0, 3, 4, 4, 1, 1, 0, 0, 2, 0, 0, 1, 0, 0, 4, 0, 1, 4, 1, 1, 0, 0, 3, 4, 0, 5, 5, 5, 0, 0, 1, 0, 3, 0, 0, 1, 0, 1, 0, 0, 3, 1, 3, 1, 5, 3, 0, 5, 4, 3, 0, 1, 0, 2, 1, 0, 0, 1, 1, 5, 1, 1, 1, 1, 1, 1, 3, 0, 4, 3, 4, 0, 1, 5, 1, 3, 4, 0, 2, 1, 0, 1, 1, 1, 0, 1, 3, 3, 1, 1, 0, 0, 0, 1, 1, 0, 0, 3, 1, 1, 0, 0, 3, 4, 1, 0, 2, 1, 0, 0, 0, 0, 3, 0, 1, 5, 2, 1, 5, 2, 1, 1, 1, 1, 1, 3, 1, 1, 3, 2, 1, 5, 3, 3, 0, 4, 4, 1, 1, 0, 0, 1, 3, 1, 0, 1, 0, 1, 1, 1, 0, 2, 1, 0, 2, 3, 2, 1, 1, 0, 4, 1, 4, 0, 1, 1, 2, 3, 3, 3, 2, 3, 3, 4, 1, 1, 0, 0, 0, 1, 3, 5, 1, 0, 0, 1, 1, 2, 3, 1, 1, 4, 1, 3, 4, 3, 0, 1, 0, 1, 0, 1, 0, 0, 3, 4, 1, 0, 2, 3, 0, 0, 1, 3, 4, 5, 2, 0, 5, 5, 2, 0, 1, 1, 3, 0, 0, 2, 3, 4, 4, 1, 4, 1, 0, 0, 1, 1, 0, 4, 2, 0, 1, 0, 5, 1, 1, 3, 1, 1, 3, 1, 0, 0, 3, 1, 4, 4, 0, 1, 0, 0, 0, 3, 1, 3, 3, 1, 1, 1, 1, 1, 1, 0, 1, 1, 1, 1, 1, 1, 4, 3, 2, 0, 0, 1, 0, 4, 1, 3, 4, 0, 1, 0, 2, 1, 1, 1, 1, 4, 1, 4, 3, 2, 3, 0, 4, 0, 0, 1, 1, 0, 0, 0, 1, 1, 1, 2, 3, 5, 0, 0, 0, 1, 5, 5, 2, 4, 2, 4, 3, 1, 1, 0, 1, 0, 0, 1, 0, 1, 2, 4, 0, 1, 1, 0, 1, 0, 3, 1, 0, 2, 0, 4, 1, 4, 2, 1, 3, 1, 1, 4, 1, 1, 1, 1, 1, 1, 0, 1, 4, 5, 0, 3, 0, 0, 1, 4, 4, 3, 1, 2, 4, 1, 0, 4, 2, 0, 1, 1, 0, 0, 1, 0, 1, 0, 1, 3, 2, 4, 1, 1, 5, 1, 0, 1, 1, 1, 4, 4, 1, 0, 0, 1, 1, 1, 2, 0, 2, 1, 1, 4, 0, 0, 2, 0, 0, 0, 1, 0, 0, 0, 2, 4, 1, 1, 4, 1, 0, 3, 0, 1, 1, 0, 3, 1, 0, 2, 1, 3, 1, 4, 1, 5, 0, 0, 3, 4, 0, 4, 0, 1, 4, 3, 1, 0, 1, 0, 1, 0, 3, 4, 0, 1, 3, 0, 3, 4, 1, 3, 1, 0, 4, 1, 1, 0, 0, 0, 2, 0, 0, 1, 4, 1, 0, 3, 1, 0, 2, 4, 1, 1, 0, 1, 0, 1, 2, 5, 0, 0, 1, 4, 0, 0, 0, 2, 1, 1, 4, 0, 4, 0, 1, 1, 5, 0, 1, 0, 3, 1, 3, 1, 3, 0, 0, 3, 1, 0, 0, 4, 3, 4, 0, 4, 1, 4, 1, 3, 1, 0, 5, 3, 0, 0, 4, 4, 1, 0, 0, 0, 1, 1, 5, 3, 3, 3, 1, 3, 0, 0, 1, 2, 1, 1, 0, 3, 1, 2, 1, 1, 1, 1, 1, 1, 4, 1, 2, 1, 1, 2, 1, 4, 0, 1, 2, 2, 1, 0, 1, 1, 1, 3, 0, 1, 4, 1, 0, 0, 1, 4, 3, 3, 1, 3, 1, 2, 1, 1, 1, 1, 0, 1, 1, 1, 1, 3, 1, 5, 0, 1, 0, 3, 3, 0, 0, 0, 2, 3, 3, 0, 0, 1, 0, 0, 1, 1, 4, 1, 1, 1, 4, 5, 0, 0, 1, 4, 4, 1, 1, 0, 4, 1, 0, 0, 0, 4, 4, 0, 5, 0, 1, 0, 4, 1, 1, 1, 4, 4, 1, 1, 3, 4, 0, 0, 1, 3, 4, 0, 0, 0, 0, 1, 2, 1, 1, 3, 2, 3, 1, 0, 5, 0, 3, 0, 4, 0, 3, 3, 0, 1, 0, 3, 2, 1, 0, 0, 0, 3, 1, 4, 1, 3, 4, 1, 4, 0, 4, 1, 1, 1, 0, 4, 0, 0, 0, 0, 1, 0, 1, 2, 2, 0, 1, 2, 2, 1, 3, 0, 1, 4, 0, 0, 1, 3, 4, 0, 5, 3, 0, 0, 1, 1, 0, 0, 1, 1, 0, 1, 5, 3, 3, 1, 1, 1, 1, 1, 0, 0, 0, 3, 3, 0, 1, 4, 0, 4, 0, 0, 1, 1, 1, 3, 1, 1, 1, 0, 1, 3, 4, 3, 4, 3, 0, 1, 3, 0, 3, 3, 1, 0, 1, 2, 1, 0, 0, 4, 1, 1, 0, 1, 5, 1, 1, 3, 0, 3, 1, 0, 1, 1, 2, 1, 3, 3, 0, 1, 0, 0, 1, 0, 2, 5, 1, 1, 0, 0, 0, 2, 0, 2, 0, 1, 0, 1, 3, 4, 1, 2, 3, 0, 3, 1, 5, 0, 1, 4, 0, 4, 1, 4, 1, 3, 4, 1, 3, 1, 1, 0, 0, 1, 0, 0, 2, 0, 4, 3, 3, 1, 3, 0, 1, 1, 1, 1, 0, 1, 1, 2, 0, 4, 1, 0, 1, 3, 3, 3, 1, 1, 0, 1, 3, 3, 0, 1, 1, 1, 3, 2, 0, 1, 0, 1, 0, 0, 4, 0, 4, 0, 0, 0, 1, 1, 1, 0, 0, 0, 2, 0, 4, 5, 0, 0, 1, 1, 1, 3, 3, 5, 2, 0, 1, 3, 0, 3, 3, 4, 4, 1, 1, 1, 1, 1, 0, 3, 2, 1, 0, 4, 1, 0, 1, 4, 3, 3, 1, 4, 0, 1, 2, 2, 1, 1, 3, 0, 4, 1, 4, 2, 0, 0, 0, 3, 5, 0, 3, 0, 0, 4, 5, 2, 1, 1, 0, 1, 3, 1, 2, 3, 1, 5, 4, 3, 1, 1, 2, 1, 2, 0, 1, 0, 1, 1, 1, 1, 1, 0, 3, 1, 4, 0, 1, 0, 0, 0, 1, 1, 4, 4, 1, 5, 3, 0, 0, 1, 1, 1, 3, 1, 1, 3, 4, 1, 1, 4, 4, 4, 1, 0, 1, 3, 1, 0, 0, 0, 0, 5, 1, 1, 0, 1, 0, 0, 5, 1, 4, 3, 3, 1, 0, 1, 1, 1, 0, 1, 3, 0, 1, 1, 0, 0, 0, 4, 1, 0, 3, 3, 0, 1, 1, 0, 1, 3, 2, 5, 0, 1, 0, 3, 1, 5, 2, 0, 3, 0, 1, 0, 2, 2, 1, 0, 0, 0, 1, 0, 3, 0, 4, 0, 1, 2, 0, 0, 0, 1, 4, 0, 1, 0, 0, 1, 1, 1, 0, 0, 0, 5, 4, 1, 0, 3, 0, 1, 4, 5, 2, 5, 1, 1, 1, 0, 1, 4, 0, 4, 0, 0, 4, 2, 0, 1, 0, 3, 1, 0, 2, 1, 1, 0, 1, 0, 0, 4, 2, 3, 0, 0, 3, 1, 0, 2, 1, 0, 4, 1, 4, 1, 0, 0, 3, 4, 1, 1, 0, 1, 0, 3, 1, 3, 3, 0, 1, 0, 1, 0, 0, 0, 1, 5, 1, 2, 5, 0, 1, 1, 0, 1, 1, 1, 3, 1, 0, 0, 1, 1, 1, 4, 0, 3, 0, 1, 0, 1, 2, 0, 0, 0, 3, 4, 3, 4, 1, 3, 1, 1, 3, 1, 0, 3, 1, 3, 3, 1, 1, 5, 3, 4, 3, 4, 1, 0, 1, 0, 0, 1, 4, 1, 0, 4, 0, 2, 0, 5, 1, 3, 1, 3, 0, 4, 1, 4, 3, 0, 0, 2, 1, 1, 0, 1, 0, 1, 1, 3, 0, 0, 4, 1, 0, 1, 3, 0, 1, 0, 0, 2, 3, 1, 4, 0, 3, 3, 5, 3, 0, 3, 3, 3, 3, 1, 1, 2, 1, 0, 0, 0, 1, 4, 4, 1, 1, 3, 0, 3, 4, 1, 3, 0, 0, 1, 3, 1, 3, 5, 2, 1, 3, 0, 1, 0, 1, 0, 0, 4, 3, 3, 0, 4, 0, 0, 0, 2, 1, 3, 1, 2, 3, 2, 1, 1, 2, 0, 0, 3, 1, 0, 4, 5, 0, 4, 0, 3, 0, 1, 4, 2, 1, 0, 1, 3, 0, 4, 1, 1, 1, 1, 2, 0, 1, 1, 1, 4, 1, 1, 0, 2, 0, 0, 3, 1, 0, 3, 1, 0, 1, 5, 1, 4, 0, 4, 1, 2, 3, 1, 2, 1, 1, 1, 3, 2, 0, 4, 0, 1, 0, 0, 1, 1, 3, 3, 1, 2, 1, 0, 0, 3, 3, 0, 3, 2, 0, 4, 1, 1, 1, 0, 1, 3, 3, 4, 1, 1, 4, 1, 5, 0, 3, 5, 4, 1, 1, 1, 0, 1, 1, 4, 5, 1, 0, 1, 2, 0, 0, 3, 1, 0, 0, 2, 4, 3, 1, 3, 0, 1, 0, 0, 0, 1, 2, 1, 0, 1, 1, 3, 4, 0, 2, 0, 0, 3, 0, 1, 2, 1, 2, 4, 1, 1, 0, 1, 1, 1, 2, 3, 1, 0, 1, 1, 1, 0, 1, 1, 4, 3, 0, 3, 2, 1, 1, 1, 0, 4, 1, 4, 0, 1, 1, 1, 0, 1, 1, 1, 0, 3, 1, 1, 0, 1, 3, 4, 1, 0, 1, 0, 3, 1, 0, 0, 4, 2, 0, 1, 2, 1, 4, 0, 3, 1, 4, 0, 0, 3, 3, 4, 4, 2, 3, 1, 0, 2, 1, 0, 5, 3, 1, 1, 4, 0, 1, 2, 0, 3, 1, 3, 4, 0, 3, 0, 1, 1, 0, 4, 1, 3, 4, 0, 4, 3, 1, 0, 1, 4, 1, 0, 0, 0, 1, 4, 0, 4, 1, 2, 1, 1, 1, 1, 1, 1, 4, 1, 1, 0, 4, 1, 0, 0, 1, 1, 0, 0, 1, 1, 0, 0, 2, 1, 5, 0, 0, 2, 0, 2, 2, 1, 2, 3, 4, 1, 1, 0, 4, 4, 4, 1, 1, 3, 1, 1, 3, 2, 4, 3, 0, 0, 4, 0, 0, 3, 3, 3, 1, 1, 1, 1, 1, 1, 2, 1, 3, 0, 1, 4, 0, 2, 2, 4, 1, 0, 5, 0, 4, 4, 3, 0, 0, 1, 1, 1, 1, 0, 0, 4, 1, 1, 1, 1, 0, 1, 1, 4, 0, 1, 1, 2, 1, 0, 0, 3, 1, 1, 0, 5, 1, 4, 5, 4, 1, 1, 4, 1, 3, 2, 0, 1, 0, 2, 0, 1, 3, 4, 0, 2, 2, 1, 0, 1, 1, 0, 0, 1, 0, 0, 4, 0, 1, 0, 1, 1, 4, 1, 1, 2, 1, 1, 1, 3, 2, 1, 1, 0, 1, 0, 0, 0, 4, 0, 1, 0, 4, 1, 4, 0, 0, 4, 1, 2, 1, 2, 1, 1, 4, 0, 1, 1, 2, 3, 1, 3, 1, 0, 0, 4, 1, 0, 5, 4, 1, 0, 1, 2, 1, 1, 1, 0, 5, 5, 4, 0, 1, 4, 0, 0, 3, 4, 5, 4, 0, 1, 1, 1, 1, 0, 0, 1, 4, 3, 3, 0, 0, 5, 0, 4, 3, 1, 4, 3, 4, 1, 0, 3, 2, 4, 1, 1, 0, 1, 0, 1, 1, 3, 2, 4, 1, 0, 1, 0, 0, 0, 0, 1, 3, 2, 3, 1, 1, 1, 0, 1, 0, 3, 1, 1, 0, 1, 1, 0, 3, 3, 1, 1, 0, 0, 1, 4, 2, 0, 1, 4, 1, 4, 2, 1, 1, 1, 1, 0, 1, 0, 1, 0, 4, 0, 1, 4, 1, 0, 1, 2, 2, 2, 1, 0, 1, 0, 0, 0, 3, 4, 5, 4, 1, 1, 3, 0, 1, 1, 1, 3, 3, 1, 0, 0, 0, 3, 4, 0, 1, 3, 1, 4, 3, 1, 3, 0, 1, 3, 0, 0, 4, 1, 1, 4, 0, 1, 1, 1, 0, 1, 4, 2, 3, 1, 1, 1, 0, 1, 0, 0, 3, 1, 3, 3, 1, 2, 0, 4, 4, 3, 4, 4, 0, 1, 0, 1, 0, 4, 2, 5, 2, 1, 0, 1, 4, 0, 1, 1, 0, 0, 3, 3, 4, 2, 1, 1, 1, 0, 0, 0, 0, 1, 2, 1, 4, 1, 0, 0, 4, 0, 0, 0, 3, 3, 1, 0, 0, 3, 0, 2, 4, 3, 0, 1, 1, 1, 2, 3, 3, 3, 4, 4, 1, 2, 4, 4, 5, 1, 1, 4, 0, 0, 0, 2, 5, 1, 2, 1, 1, 2, 1, 2, 5, 0, 1, 1, 1, 1, 3, 0, 1, 3, 2, 1, 4, 4, 0, 2, 0, 0, 0, 1, 0, 0, 2, 1, 0, 0, 1, 5, 3, 0, 0, 0, 1, 2, 4, 0, 0, 0, 1, 0, 0, 1, 0, 5, 2, 5, 0, 0, 2, 3, 0, 1, 3, 0, 1, 1, 1, 0, 3, 5, 1, 0, 4, 0, 1, 1, 0, 1, 0, 1, 0, 4, 5, 1, 5, 2, 1, 2, 1, 0, 4, 3, 1, 4, 0, 2, 0, 0, 0, 0, 1, 1, 0, 4, 3, 1, 0, 0, 5, 0, 5, 0, 4, 2, 2, 0, 4, 0, 0, 0, 1, 0, 1, 1, 0, 2, 1, 1, 3, 0, 1, 1, 0, 0, 1, 0, 0, 0, 0, 0, 3, 3, 3, 0, 2, 2, 0, 3, 0, 2, 0, 0, 1, 4, 2, 1, 4, 0, 1, 1, 0, 0, 3, 2, 1, 2, 1, 2, 1, 2, 1, 1, 0, 4, 5, 0, 1, 4, 0, 1, 4, 0, 0, 0, 3, 0, 1, 1, 2, 4, 2, 5, 0, 0, 1, 5, 3, 4, 1, 1, 0, 1, 0, 5, 4, 3, 1, 1, 4, 1, 0, 0, 1, 3, 0, 4, 4, 3, 3, 0, 3, 0, 0, 0, 1, 4, 2, 0, 0, 0, 4, 4, 0, 1, 1, 3, 0, 2, 1, 4, 0, 4, 2, 0, 0, 1, 0, 1, 1, 2, 1, 0, 1, 0, 4, 0, 1, 1, 3, 3, 3, 4, 3, 1, 5, 0, 0, 3, 1, 4, 3, 0, 1, 3, 0, 1, 4, 3, 4, 3, 1, 4, 3, 1, 3, 3, 3, 3, 4, 1, 1, 5, 0, 4, 1, 0, 0, 0, 1, 0, 0, 1, 3, 3, 1, 4, 2, 0, 1, 1, 3, 0, 1, 4, 4, 1, 0, 0, 3, 1, 2, 3, 0, 5, 1, 1, 0, 0, 0, 3, 0, 1, 0, 1, 3, 1, 1, 3, 1, 1, 0, 0, 1, 3, 1, 2, 4, 5, 0, 2, 5, 0, 3, 4, 4, 3, 3, 1, 3, 3, 2, 4, 2, 1, 3, 1, 3, 1, 0, 5, 4, 1, 1, 0, 0, 3, 1, 2, 0, 0, 0, 1, 4, 1, 4, 3, 2, 4, 3, 1, 0, 1, 2, 1, 4, 0, 1, 0, 1, 1, 1, 1, 1, 1, 1, 2, 0, 3, 1, 0, 1, 2, 0, 1, 0, 1, 0, 3, 4, 5, 0, 0, 0, 0, 1, 4, 0, 2, 1, 0, 0, 1, 3, 5, 3, 0, 2, 2, 2, 2, 4, 2, 1, 0, 5, 0, 0, 1, 0, 4, 1, 1, 0, 0, 1, 3, 0, 1, 1, 1, 4, 4, 4, 1, 1, 1, 4, 0, 0, 0, 1, 3, 2, 1, 3, 1, 0, 2, 1, 0, 2, 0, 2, 4, 3, 0, 0, 0, 0, 0, 0, 0, 3, 0, 1, 1, 0, 0, 4, 4, 1, 1, 3, 1, 2, 1, 1, 0, 0, 1, 1, 3, 0, 0, 0, 0, 0, 4, 0, 1, 0, 0, 4, 0, 4, 0, 1, 0, 0, 0, 4, 4, 3, 4, 4, 1, 3, 0, 3, 1, 3, 0, 1, 2, 1, 1, 0, 0, 1, 0, 0, 3, 0, 0, 3, 3, 1, 3, 0, 4, 3, 4, 0, 3, 1, 0, 4, 0, 0, 1, 5, 0, 4, 4, 5, 0, 1, 0, 0, 1, 1, 0, 4, 4, 4, 4, 2, 1, 5, 0, 1, 3, 0, 0, 0, 3, 0, 3, 0, 1, 1, 0, 1, 0, 0, 1, 1, 0, 1, 1, 1, 4, 0, 1, 1, 2, 1, 3, 1, 1, 3, 0, 1, 1, 3, 0, 3, 3, 5, 0, 0, 0, 0, 3, 1, 4, 0, 3, 3, 0, 0, 1, 0, 1, 1, 4, 1, 2, 0, 0, 3, 4, 3, 0, 1, 2, 3, 1, 0, 0, 1, 5, 4, 1, 1, 0, 4, 0, 1, 1, 2, 1, 0, 0, 5, 3, 0, 3, 0, 0, 0, 3, 0, 0, 1, 5, 0, 3, 5, 1, 1, 1, 2, 0, 0, 0, 0, 1, 0, 0, 0, 4, 0, 3, 0, 4, 2, 3, 1, 2, 0, 0, 4, 0, 0, 3, 0, 1, 4, 3, 3, 1, 1, 1, 1, 4, 0, 1, 5, 3, 1, 0, 0, 0, 2, 0, 1, 1, 1, 1, 1, 5, 1, 4, 4, 5, 1, 1, 3, 0, 1, 0, 3, 1, 3, 1, 3, 2, 3, 3, 0, 1, 4, 1, 1, 0, 2, 0, 0, 1, 1, 1, 1, 1, 1, 4, 3, 0, 1, 0, 1, 1, 0, 0, 1, 0, 1, 1, 3, 1, 0, 1, 1, 1, 3, 1, 1, 0, 4, 0, 1, 0, 3, 4, 0, 0, 0, 0, 2, 0, 1, 3, 0, 3, 0, 2, 0, 4, 4, 5, 1, 0, 4, 0, 2, 1, 0, 1, 3, 5, 0, 1, 1, 3, 2, 4, 1, 3, 0, 0, 2, 3, 0, 0, 1, 0, 1, 1, 0, 0, 3, 1, 1, 3, 0, 1, 1, 4, 0, 1, 0, 0, 0, 0, 1, 4, 0, 2, 2, 0, 4, 4, 1, 0, 1, 3, 0, 0, 0, 0, 4, 0, 0, 1, 0, 1, 1, 0, 2, 1, 0, 3, 3, 1, 1, 1, 5, 3, 4, 0, 0, 1, 0, 4, 0, 1, 4, 0, 3, 1, 1, 3, 1, 3, 3, 4, 1, 5, 4, 3, 3, 1, 1, 0, 0, 0, 1, 3, 5, 0, 3, 0, 1, 3, 1, 4, 1, 4, 1, 0, 0, 1, 1, 0, 1, 0, 0, 1, 0, 1, 0, 0, 3, 1, 3, 0, 1, 1, 4, 3, 3, 2, 1, 0, 1, 1, 3, 0, 3, 0, 0, 3, 3, 2, 4, 4, 1, 2, 0, 1, 1, 0, 1, 0, 0, 0, 0, 4, 0, 1, 3, 3, 4, 1, 2, 1, 1, 1, 1, 1, 0, 4, 1, 1, 2, 3, 1, 1, 0, 1, 0, 0, 4, 1, 1, 5, 1, 0, 1, 0, 1, 1, 0, 0, 1, 0, 3, 0, 0, 1, 1, 3, 1, 1, 1, 4, 4, 0, 0, 3, 0, 0, 3, 1, 4, 1, 3, 0, 2, 2, 0, 0, 0, 2, 1, 0, 1, 0, 3, 3, 1, 3, 1, 2, 1, 1, 2, 3, 4, 1, 3, 2, 2, 4, 1, 3, 1, 0, 2, 4, 1, 1, 0, 4, 1, 4, 1, 0, 2, 4, 1, 0, 0, 0, 0, 1, 1, 2, 0, 1, 4, 1, 1, 1, 1, 2, 0, 0, 3, 0, 3, 0, 1, 0, 0, 3, 1, 1, 1, 4, 1, 3, 1, 2, 4, 2, 4, 3, 1, 0, 0, 1, 2, 1, 2, 4, 2, 0, 4, 1, 3, 4, 4, 2, 0, 1, 4, 0, 1, 1, 0, 0, 3, 1, 0, 4, 0, 0, 4, 4, 0, 1, 1, 1, 0, 1, 3, 3, 1, 4, 1, 1, 1, 1, 2, 1, 1, 4, 3, 1, 1, 0, 0, 0, 1, 0, 3, 0, 1, 5, 2, 4, 5, 4, 3, 2, 1, 2, 3, 3, 0, 2, 0, 3, 0, 0, 0, 1, 0, 0, 1, 0, 1, 4, 0, 0, 3, 0, 4, 1, 0, 0, 0, 1, 1, 0, 3, 1, 1, 2, 3, 0, 3, 0, 1, 0, 4, 1, 1, 4, 3, 4, 0, 0, 2, 1, 4, 3, 0, 1, 0, 2, 2, 4, 3, 0, 1, 3, 2, 0, 3, 1, 5, 0, 1, 0, 0, 0, 1, 5, 3, 4, 3, 0, 0, 4, 0, 5, 1, 2, 0, 0, 0, 4, 2, 5, 1, 1, 0, 0, 0, 0, 1, 0, 4, 0, 3, 2, 1, 3, 0, 2, 1, 0, 4, 1, 1, 2, 0, 1, 4, 3, 0, 0, 1, 0, 0, 1, 2, 0, 3, 1, 3, 1, 0, 4, 3, 0, 4, 1, 1, 1, 1, 0, 1, 2, 3, 2, 0, 1, 4, 0, 1, 4, 0, 2, 0, 5, 5, 3, 4, 1, 1, 1, 0, 0, 1, 5, 1, 1, 1, 0, 1, 3, 4, 1, 0, 1, 0, 3, 0, 2, 2, 4, 4, 5, 0, 0, 1, 3, 3, 0, 4, 1, 0, 1, 3, 1, 5, 1, 5, 0, 1, 1, 0, 0, 1, 1, 0, 0, 1, 4, 0, 2, 3, 3, 0, 2, 2, 0, 5, 4, 0, 4, 1, 1, 3, 0, 4, 0, 1, 3, 1, 4, 3, 1, 4, 0, 2, 1, 1, 2, 1, 0, 1, 1, 3, 0, 1, 2, 1, 0, 1, 4, 4, 5, 3, 5, 4, 0, 0, 2, 0, 3, 3, 1, 3, 1, 2, 1, 1, 3, 1, 0, 0, 1, 1, 1, 3, 0, 0, 4, 0, 2, 0, 4, 1, 0, 1, 2, 1, 0, 0, 4, 4, 5, 3, 0, 4, 0, 4, 1, 3, 1, 1, 1, 4, 3, 1, 0, 1, 1, 2, 4, 0, 4, 0, 0, 1, 1, 1, 4, 0, 0, 0, 4, 3, 1, 0, 0, 5, 1, 2, 5, 1, 0, 1, 0, 3, 2, 1, 3, 3, 4, 1, 3, 0, 1, 1, 1, 1, 0, 0, 1, 1, 0, 1, 4, 4, 3, 3, 5, 0, 1, 1, 1, 1, 1, 0, 3, 1, 0, 1, 1, 1, 0, 1, 4, 0, 2, 2, 0, 0, 3, 1, 0, 1, 1, 1, 1, 4, 2, 0, 1, 0, 0, 4, 4, 0, 2, 3, 0, 0, 1, 0, 3, 0, 0, 0, 1, 5, 4, 0, 4, 1, 4, 3, 0, 2, 3, 4, 3, 0, 0, 1, 0, 1, 0, 1, 1, 3, 1, 0, 4, 4, 0, 1, 0, 0, 0, 2, 2, 1, 2, 0, 1, 1, 0, 4, 0, 4, 1, 0, 4, 0, 1, 0, 0, 4, 3, 4, 4, 1, 1, 1, 0, 1, 1, 0, 1, 1, 3, 2, 4, 4, 1, 1, 0, 0, 1, 1, 1, 4, 1, 1, 1, 1, 2, 1, 3, 0, 2, 1, 3, 0, 4, 0, 1, 4, 0, 3, 3, 3, 3, 2, 4, 0, 4, 0, 1, 1, 1, 1, 1, 3, 1, 0, 0, 1, 1, 4, 0, 4, 0, 1, 3, 0, 1, 3, 4, 2, 2, 1, 1, 3, 4, 3, 1, 1, 1, 0, 5, 0, 2, 1, 4, 1, 0, 0, 2, 3, 1, 2, 3, 1, 1, 0, 1, 0, 0, 3, 4, 4, 1, 0, 4, 0, 2, 1, 4, 2, 1, 3, 3, 3, 5, 1, 1, 1, 3, 1, 3, 0, 1, 1, 1, 3, 3, 1, 1, 4, 0, 2, 1, 4, 1, 0, 0, 0, 1, 5, 3, 1, 3, 1, 1, 3, 4, 1, 4, 2, 1, 5, 2, 4, 1, 1, 3, 4, 1, 0, 1, 0, 1, 0, 2, 4, 0, 0, 0, 1, 2, 0, 1, 1, 0, 4, 3, 0, 0, 0, 0, 1, 0, 1, 0, 3, 3, 1, 1, 4, 4, 3, 4, 1, 0, 0, 1, 5, 0, 2, 2, 2, 3, 1, 3, 4, 4, 0, 3, 0, 0, 1, 1, 0, 1, 4, 1, 3, 0, 4, 4, 3, 1, 2, 3, 2, 3, 1, 3, 1, 3, 0, 0, 4, 0, 0, 0, 1, 1, 2, 4, 0, 0, 0, 0, 0, 0, 1, 4, 1, 0, 4, 1, 1, 1, 0, 1, 1, 1, 1, 0, 0, 2, 0, 0, 0, 1, 0, 4, 5, 4, 4, 1, 1, 3, 1, 3, 1, 3, 0, 3, 1, 1, 3, 2, 1, 0, 3, 4, 2, 3, 1, 0, 3, 0, 0, 5, 2, 0, 1, 5, 4, 0, 3, 4, 4, 1, 1, 3, 4, 1, 1, 1, 1, 0, 5, 1, 0, 3, 1, 2, 0, 0, 1, 3, 0]\n"
          ]
        }
      ],
      "source": [
        "#labels = change_labels(labels)\n",
        "print(labels)"
      ]
    },
    {
      "cell_type": "code",
      "execution_count": null,
      "metadata": {
        "colab": {
          "base_uri": "https://localhost:8080/"
        },
        "id": "9yiYhwrvBBzg",
        "outputId": "044938cc-0623-464d-e749-332ed5ffe3dd"
      },
      "outputs": [
        {
          "output_type": "execute_result",
          "data": {
            "text/plain": [
              "('i didnt feel humiliated', 0)"
            ]
          },
          "metadata": {},
          "execution_count": 11
        }
      ],
      "source": [
        "tweets[0], labels[0]"
      ]
    },
    {
      "cell_type": "code",
      "execution_count": null,
      "metadata": {
        "id": "xmzDfj4bOcHA"
      },
      "outputs": [],
      "source": [
        "from collections import Counter"
      ]
    },
    {
      "cell_type": "code",
      "execution_count": null,
      "metadata": {
        "colab": {
          "base_uri": "https://localhost:8080/"
        },
        "id": "yD37_CzoBB30",
        "outputId": "8284ae0e-e090-4c51-daa5-0167306fade9"
      },
      "outputs": [
        {
          "output_type": "stream",
          "name": "stdout",
          "text": [
            "Counter({1: 5362, 0: 4666, 3: 2159, 4: 1937, 2: 1304, 5: 572})\n"
          ]
        }
      ],
      "source": [
        "dic = Counter(labels)\n",
        "print(dic)"
      ]
    },
    {
      "cell_type": "markdown",
      "metadata": {
        "id": "gcAflLv6xIgp"
      },
      "source": [
        "## Tokenizer\n",
        "\n",
        "Tokenizing the tweets"
      ]
    },
    {
      "cell_type": "code",
      "execution_count": null,
      "metadata": {
        "id": "qfX5-ResxIgq"
      },
      "outputs": [],
      "source": [
        "from tensorflow.keras.preprocessing.text import Tokenizer"
      ]
    },
    {
      "cell_type": "code",
      "execution_count": null,
      "metadata": {
        "id": "cckUvwBo5eif"
      },
      "outputs": [],
      "source": [
        "tokenizer = Tokenizer(num_words = 10000, oov_token= '<UNK>')\n",
        "tokenizer.fit_on_texts(tweets)"
      ]
    },
    {
      "cell_type": "code",
      "execution_count": null,
      "metadata": {
        "colab": {
          "base_uri": "https://localhost:8080/"
        },
        "id": "BrbE5h2vFDvh",
        "outputId": "d343fda0-3914-42ed-ffde-708189493d85"
      },
      "outputs": [
        {
          "output_type": "execute_result",
          "data": {
            "text/plain": [
              "[[2, 139, 3, 679]]"
            ]
          },
          "metadata": {},
          "execution_count": 16
        }
      ],
      "source": [
        "tokenizer.texts_to_sequences([tweets[0]])"
      ]
    },
    {
      "cell_type": "code",
      "execution_count": null,
      "metadata": {
        "id": "tTuglYvxFD2U"
      },
      "outputs": [],
      "source": []
    },
    {
      "cell_type": "markdown",
      "metadata": {
        "id": "i3Bqm7b2xIgu"
      },
      "source": [
        "## Padding and Truncating Sequences\n",
        "\n",
        "1. Checking length of the tweets\n",
        "2. Creating padded sequences"
      ]
    },
    {
      "cell_type": "code",
      "execution_count": null,
      "metadata": {
        "colab": {
          "base_uri": "https://localhost:8080/",
          "height": 430
        },
        "id": "mLvf_WFZxIgu",
        "outputId": "c2cf4ff5-6115-461c-b771-307f45eaf45c"
      },
      "outputs": [
        {
          "output_type": "display_data",
          "data": {
            "text/plain": [
              "<Figure size 640x480 with 1 Axes>"
            ],
            "image/png": "[encoded data removed]"
          },
          "metadata": {}
        }
      ],
      "source": [
        "lengths = [len(t.split(' ')) for t in tweets]\n",
        "plt.hist(lengths, bins = len(set(lengths)))\n",
        "plt.show()\n"
      ]
    },
    {
      "cell_type": "code",
      "execution_count": null,
      "metadata": {
        "id": "EOi5lIE3xIgx"
      },
      "outputs": [],
      "source": [
        "maxlen = 50\n",
        "\n",
        "from tensorflow.keras.preprocessing.sequence import pad_sequences"
      ]
    },
    {
      "cell_type": "code",
      "execution_count": null,
      "metadata": {
        "id": "Q9J_Iemf5eiq"
      },
      "outputs": [],
      "source": [
        "def get_sequences(tokenizer, tweets):\n",
        "  sequences = tokenizer.texts_to_sequences(tweets)\n",
        "  padded = pad_sequences(sequences, truncating = 'post', padding = 'post', maxlen = maxlen)\n",
        "  return padded"
      ]
    },
    {
      "cell_type": "code",
      "execution_count": null,
      "metadata": {
        "colab": {
          "base_uri": "https://localhost:8080/"
        },
        "id": "eglH77ky5ei0",
        "outputId": "1d0cc85e-74c7-4e47-89a2-5b524bd4ab38"
      },
      "outputs": [
        {
          "output_type": "stream",
          "name": "stdout",
          "text": [
            "[   2   40  101   60    8   15  494    5   15 3496  553   32   60   61\n",
            "  128  148   76 1480    4   22 1255    0    0    0    0    0    0    0\n",
            "    0    0    0    0    0    0    0    0    0    0    0    0    0    0\n",
            "    0    0    0    0    0    0    0    0]\n",
            "50\n"
          ]
        }
      ],
      "source": [
        "padded_train_seq = get_sequences(tokenizer, tweets)\n",
        "print(padded_train_seq[1])\n",
        "print(len(padded_train_seq[1]))"
      ]
    },
    {
      "cell_type": "markdown",
      "metadata": {
        "id": "BURhOX_KxIg8"
      },
      "source": [
        "## Preparing the Labels\n",
        "\n",
        "1. Creating classes to index and index to classes dictionaries\n",
        "2. Converting text labels to numeric labels"
      ]
    },
    {
      "cell_type": "code",
      "execution_count": null,
      "metadata": {
        "colab": {
          "base_uri": "https://localhost:8080/"
        },
        "id": "SufT2bpD5ejE",
        "outputId": "0beb7733-91aa-49cc-dd58-5f9a1f14035c"
      },
      "outputs": [
        {
          "output_type": "execute_result",
          "data": {
            "text/plain": [
              "{0, 1, 2, 3, 4, 5}"
            ]
          },
          "metadata": {},
          "execution_count": 21
        }
      ],
      "source": [
        "classes = set(labels)\n",
        "classes"
      ]
    },
    {
      "cell_type": "code",
      "execution_count": null,
      "metadata": {
        "colab": {
          "base_uri": "https://localhost:8080/",
          "height": 430
        },
        "id": "rpwzL88I7YSm",
        "outputId": "fee406ba-d206-4b63-f6ad-3f84c71fb04e"
      },
      "outputs": [
        {
          "output_type": "display_data",
          "data": {
            "text/plain": [
              "<Figure size 640x480 with 1 Axes>"
            ],
            "image/png": "[encoded data removed]"
          },
          "metadata": {}
        }
      ],
      "source": [
        "plt.hist(labels, bins= 11)\n",
        "plt.show()"
      ]
    },
    {
      "cell_type": "code",
      "execution_count": null,
      "metadata": {
        "id": "dNLF6rXL5ejN"
      },
      "outputs": [],
      "source": [
        "train_labels = np.array(labels)"
      ]
    },
    {
      "cell_type": "code",
      "execution_count": null,
      "metadata": {
        "colab": {
          "base_uri": "https://localhost:8080/"
        },
        "id": "_08InVyM5ejc",
        "outputId": "27065985-2dd8-4a8e-ff97-be02979443a7"
      },
      "outputs": [
        {
          "output_type": "execute_result",
          "data": {
            "text/plain": [
              "0"
            ]
          },
          "metadata": {},
          "execution_count": 24
        }
      ],
      "source": [
        "train_labels[0]"
      ]
    },
    {
      "cell_type": "code",
      "execution_count": null,
      "metadata": {
        "colab": {
          "base_uri": "https://localhost:8080/"
        },
        "id": "gpeDoA6gxIhE",
        "outputId": "456bcd4d-4bbd-45d4-9a71-126c2a240718"
      },
      "outputs": [
        {
          "output_type": "execute_result",
          "data": {
            "text/plain": [
              "16000"
            ]
          },
          "metadata": {},
          "execution_count": 25
        }
      ],
      "source": [
        "len(train_labels)"
      ]
    },
    {
      "cell_type": "code",
      "execution_count": null,
      "metadata": {
        "id": "Jq0WJYsP5ejR"
      },
      "outputs": [],
      "source": []
    },
    {
      "cell_type": "code",
      "execution_count": null,
      "metadata": {
        "id": "v15KnrNC5ejW"
      },
      "outputs": [],
      "source": []
    },
    {
      "cell_type": "markdown",
      "metadata": {
        "id": "c-v0Mnh8xIhP"
      },
      "source": [
        "## Creating the Model\n",
        "\n",
        "1. Creating the model\n",
        "2. Compiling the model"
      ]
    },
    {
      "cell_type": "code",
      "execution_count": null,
      "metadata": {
        "id": "OpewXxPQ5eji"
      },
      "outputs": [],
      "source": [
        "# model = tf.keras.models.Sequential([\n",
        "#         tf.keras.layers.Embedding(10000, 16, input_length = maxlen),\n",
        "#         tf.keras.layers.Bidirectional(tf.keras.layers.LSTM(20, return_sequences = True)),\n",
        "#         tf.keras.layers.Bidirectional(tf.keras.layers.LSTM(20)),\n",
        "#         tf.keras.layers.Dense(6, activation = 'softmax')\n",
        "\n",
        "# ])\n",
        "\n",
        "# model.compile(\n",
        "\n",
        "#     loss = 'sparse_categorical_crossentropy',\n",
        "#     optimizer = 'adam',\n",
        "#     metrics = ['accuracy']\n",
        "# )"
      ]
    },
    {
      "cell_type": "code",
      "source": [
        "from tensorflow.keras.layers import Embedding, Bidirectional, LSTM, Dense, Dropout\n",
        "\n",
        "model = tf.keras.models.Sequential([\n",
        "    Embedding(10000, 32, input_length=maxlen),  # Experiment with embedding dimension\n",
        "    Bidirectional(LSTM(64, return_sequences=True)),  # Experiment with units and architecture\n",
        "    Bidirectional(LSTM(32)),\n",
        "    Dropout(0.3),  # Add dropout for regularization\n",
        "    Dense(6, activation='softmax')\n",
        "])\n",
        "\n",
        "model.compile(loss='sparse_categorical_crossentropy',\n",
        "              optimizer=tf.keras.optimizers.RMSprop(learning_rate=0.001),  # Experiment with optimizer\n",
        "              metrics=['accuracy'])\n"
      ],
      "metadata": {
        "id": "KyP2Y6NEw0So"
      },
      "execution_count": null,
      "outputs": []
    },
    {
      "cell_type": "code",
      "execution_count": null,
      "metadata": {
        "colab": {
          "base_uri": "https://localhost:8080/"
        },
        "id": "lIAWfMfor9w3",
        "outputId": "4fa485d0-4abd-4558-94d5-5625fa2b2f70"
      },
      "outputs": [
        {
          "output_type": "stream",
          "name": "stdout",
          "text": [
            "Model: \"sequential_2\"\n",
            "_________________________________________________________________\n",
            " Layer (type)                Output Shape              Param #   \n",
            "=================================================================\n",
            " embedding_2 (Embedding)     (None, 50, 32)            320000    \n",
            "                                                                 \n",
            " bidirectional_5 (Bidirecti  (None, 50, 128)           49664     \n",
            " onal)                                                           \n",
            "                                                                 \n",
            " bidirectional_6 (Bidirecti  (None, 64)                41216     \n",
            " onal)                                                           \n",
            "                                                                 \n",
            " dropout (Dropout)           (None, 64)                0         \n",
            "                                                                 \n",
            " dense_2 (Dense)             (None, 6)                 390       \n",
            "                                                                 \n",
            "=================================================================\n",
            "Total params: 411270 (1.57 MB)\n",
            "Trainable params: 411270 (1.57 MB)\n",
            "Non-trainable params: 0 (0.00 Byte)\n",
            "_________________________________________________________________\n"
          ]
        }
      ],
      "source": [
        "model.summary()"
      ]
    },
    {
      "cell_type": "markdown",
      "metadata": {
        "id": "1HST_CHjxIhR"
      },
      "source": [
        "## Training the Model\n",
        "\n",
        "1. Preparing a validation set\n",
        "2. Training the model"
      ]
    },
    {
      "cell_type": "code",
      "execution_count": null,
      "metadata": {
        "colab": {
          "base_uri": "https://localhost:8080/"
        },
        "id": "Ff7F3hCK5ejm",
        "outputId": "e6f8b843-577d-4ce2-c889-28ef97398c38"
      },
      "outputs": [
        {
          "output_type": "execute_result",
          "data": {
            "text/plain": [
              "2000"
            ]
          },
          "metadata": {},
          "execution_count": 32
        }
      ],
      "source": [
        "val_tweets, val_labels = get_tweet(val)\n",
        "#val_labels = change_labels(val_labels)\n",
        "val_seq = get_sequences(tokenizer, val_tweets)\n",
        "val_labels = np.array(val_labels)\n",
        "len(val_labels)"
      ]
    },
    {
      "cell_type": "code",
      "execution_count": null,
      "metadata": {
        "colab": {
          "base_uri": "https://localhost:8080/"
        },
        "id": "hlMKaZ3H5ejr",
        "outputId": "6811c72a-6e6b-4d22-807d-56c9a78a351a"
      },
      "outputs": [
        {
          "output_type": "execute_result",
          "data": {
            "text/plain": [
              "('i start to feel more appreciative of what god has done for me', 1)"
            ]
          },
          "metadata": {},
          "execution_count": 33
        }
      ],
      "source": [
        "val_tweets[5], val_labels[5]"
      ]
    },
    {
      "cell_type": "code",
      "execution_count": null,
      "metadata": {
        "colab": {
          "base_uri": "https://localhost:8080/"
        },
        "id": "UcTXMgk3v6wc",
        "outputId": "db230db0-b783-45be-87f6-4d5361ec9dfd"
      },
      "outputs": [
        {
          "output_type": "stream",
          "name": "stdout",
          "text": [
            "<class 'numpy.ndarray'>\n",
            "<class 'numpy.ndarray'>\n"
          ]
        }
      ],
      "source": [
        "print(type(padded_train_seq))\n",
        "print(type(train_labels))"
      ]
    },
    {
      "cell_type": "code",
      "execution_count": null,
      "metadata": {
        "colab": {
          "base_uri": "https://localhost:8080/"
        },
        "id": "bzBqnWQ-5ejw",
        "outputId": "5aae0ca7-b0a5-4f77-d212-c98f6c84e3d9"
      },
      "outputs": [
        {
          "output_type": "stream",
          "name": "stdout",
          "text": [
            "Epoch 1/20\n",
            "500/500 [==============================] - 26s 39ms/step - loss: 1.4829 - accuracy: 0.4173 - val_loss: 1.1967 - val_accuracy: 0.5595\n",
            "Epoch 2/20\n",
            "500/500 [==============================] - 7s 15ms/step - loss: 0.9203 - accuracy: 0.6638 - val_loss: 0.7426 - val_accuracy: 0.7485\n",
            "Epoch 3/20\n",
            "500/500 [==============================] - 7s 13ms/step - loss: 0.5676 - accuracy: 0.8055 - val_loss: 0.4779 - val_accuracy: 0.8455\n",
            "Epoch 4/20\n",
            "500/500 [==============================] - 7s 14ms/step - loss: 0.4020 - accuracy: 0.8696 - val_loss: 0.3873 - val_accuracy: 0.8735\n",
            "Epoch 5/20\n",
            "500/500 [==============================] - 6s 13ms/step - loss: 0.2969 - accuracy: 0.9051 - val_loss: 0.3381 - val_accuracy: 0.8855\n",
            "Epoch 6/20\n",
            "500/500 [==============================] - 6s 12ms/step - loss: 0.2312 - accuracy: 0.9231 - val_loss: 0.2915 - val_accuracy: 0.8985\n",
            "Epoch 7/20\n",
            "500/500 [==============================] - 6s 12ms/step - loss: 0.1924 - accuracy: 0.9381 - val_loss: 0.2870 - val_accuracy: 0.9005\n",
            "Epoch 8/20\n",
            "500/500 [==============================] - 7s 14ms/step - loss: 0.1583 - accuracy: 0.9467 - val_loss: 0.2793 - val_accuracy: 0.9070\n",
            "Epoch 9/20\n",
            "500/500 [==============================] - 6s 12ms/step - loss: 0.1397 - accuracy: 0.9540 - val_loss: 0.2740 - val_accuracy: 0.9100\n",
            "Epoch 10/20\n",
            "500/500 [==============================] - 6s 13ms/step - loss: 0.1196 - accuracy: 0.9607 - val_loss: 0.2805 - val_accuracy: 0.9135\n",
            "Epoch 11/20\n",
            "500/500 [==============================] - 6s 11ms/step - loss: 0.1042 - accuracy: 0.9658 - val_loss: 0.2687 - val_accuracy: 0.9170\n",
            "Epoch 12/20\n",
            "500/500 [==============================] - 6s 13ms/step - loss: 0.0956 - accuracy: 0.9684 - val_loss: 0.2846 - val_accuracy: 0.9080\n",
            "Epoch 13/20\n",
            "500/500 [==============================] - 6s 12ms/step - loss: 0.0838 - accuracy: 0.9707 - val_loss: 0.2758 - val_accuracy: 0.9225\n",
            "Epoch 14/20\n",
            "500/500 [==============================] - 7s 14ms/step - loss: 0.0765 - accuracy: 0.9737 - val_loss: 0.3193 - val_accuracy: 0.9180\n",
            "Epoch 15/20\n",
            "500/500 [==============================] - 6s 12ms/step - loss: 0.0734 - accuracy: 0.9756 - val_loss: 0.3135 - val_accuracy: 0.9135\n"
          ]
        }
      ],
      "source": [
        "h = model.fit(\n",
        "    padded_train_seq, train_labels,\n",
        "    validation_data = (val_seq, val_labels),\n",
        "    epochs = 20,\n",
        "    callbacks = [\n",
        "                  tf.keras.callbacks.EarlyStopping(monitor = 'val_accuracy', patience = 2)\n",
        "    ]\n",
        ")"
      ]
    },
    {
      "cell_type": "markdown",
      "metadata": {
        "id": "EdsJyMTLxIhX"
      },
      "source": [
        "## Evaluating the Model\n",
        "\n",
        "1. Visualizing training history\n",
        "2. Prepraring a test set\n",
        "3. A look at individual predictions on the test set\n",
        "4. A look at all predictions on the test set"
      ]
    },
    {
      "cell_type": "code",
      "execution_count": null,
      "metadata": {
        "colab": {
          "base_uri": "https://localhost:8080/",
          "height": 484
        },
        "id": "ENCfvXeLxIhX",
        "outputId": "c218991e-fceb-4c39-dedd-5f57054764d8"
      },
      "outputs": [
        {
          "output_type": "display_data",
          "data": {
            "text/plain": [
              "<Figure size 1600x600 with 2 Axes>"
            ],
            "image/png": "[encoded data removed]"
          },
          "metadata": {}
        }
      ],
      "source": [
        "show_history(h)"
      ]
    },
    {
      "cell_type": "code",
      "execution_count": null,
      "metadata": {
        "id": "kWuzoz8uxIha"
      },
      "outputs": [],
      "source": [
        "test_tweets, test_labels = get_tweet(test)\n",
        "test_seq = get_sequences(tokenizer, test_tweets)\n",
        "test_labels = np.array(test_labels)"
      ]
    },
    {
      "cell_type": "code",
      "execution_count": null,
      "metadata": {
        "colab": {
          "base_uri": "https://localhost:8080/"
        },
        "id": "7vRVJ_2SxIhc",
        "outputId": "8b9f20de-7038-4885-f1e6-09f69595f319"
      },
      "outputs": [
        {
          "output_type": "stream",
          "name": "stdout",
          "text": [
            "63/63 [==============================] - 0s 5ms/step - loss: 0.3176 - accuracy: 0.9075\n"
          ]
        }
      ],
      "source": [
        "i = model.evaluate(test_seq, test_labels)"
      ]
    },
    {
      "cell_type": "code",
      "execution_count": null,
      "metadata": {
        "colab": {
          "base_uri": "https://localhost:8080/"
        },
        "id": "rh638vHG5ej6",
        "outputId": "5c7fe440-a08b-4be2-e897-218416b5ec57"
      },
      "outputs": [
        {
          "output_type": "stream",
          "name": "stdout",
          "text": [
            "sentence: i was so impressed with the show especially for hs and i was moved by these talented kids but then again i feel very passionate about productions and music and theatre in schools so i am always happy to endorse many hs productions throughout their seasons during this time\n",
            "emotion: 2\n",
            "1/1 [==============================] - 2s 2s/step\n",
            "pred emotion: 2\n"
          ]
        }
      ],
      "source": [
        "j = random.randint(0, len(test_labels)-1)\n",
        "\n",
        "print('sentence:', test_tweets[j])\n",
        "print('emotion:', test_labels[j])\n",
        "\n",
        "p = model.predict(np.expand_dims(test_seq[j], axis = 0))[0]\n",
        "pred_class = np.argmax(p).astype('uint8')\n",
        "\n",
        "print('pred emotion:', pred_class)"
      ]
    },
    {
      "cell_type": "code",
      "execution_count": null,
      "metadata": {
        "colab": {
          "base_uri": "https://localhost:8080/"
        },
        "id": "hHl5SVCFxIhh",
        "outputId": "c3d64996-2521-4da8-ba69-b0fe052152cf"
      },
      "outputs": [
        {
          "output_type": "stream",
          "name": "stdout",
          "text": [
            "63/63 [==============================] - 0s 6ms/step\n"
          ]
        }
      ],
      "source": [
        "preds = model.predict(test_seq)\n",
        "preds_ = np.argmax(preds, axis = 1)"
      ]
    },
    {
      "cell_type": "code",
      "execution_count": null,
      "metadata": {
        "colab": {
          "base_uri": "https://localhost:8080/",
          "height": 661
        },
        "id": "NC8YQ0OexIhj",
        "outputId": "11901b31-79c4-43ce-d48e-cea0bf3062d9"
      },
      "outputs": [
        {
          "output_type": "display_data",
          "data": {
            "text/plain": [
              "<Figure size 800x800 with 2 Axes>"
            ],
            "image/png": "[encoded data removed]"
          },
          "metadata": {}
        }
      ],
      "source": [
        "show_confusion_matrix(test_labels, preds_, list(classes))"
      ]
    },
    {
      "cell_type": "code",
      "execution_count": null,
      "metadata": {
        "id": "lEb6MyVC3-WB"
      },
      "outputs": [],
      "source": []
    }
  ],
  "metadata": {
    "accelerator": "GPU",
    "colab": {
      "gpuType": "T4",
      "provenance": []
    },
    "kernelspec": {
      "display_name": "Python 3",
      "name": "python3"
    },
    "language_info": {
      "codemirror_mode": {
        "name": "ipython",
        "version": 3
      },
      "file_extension": ".py",
      "mimetype": "text/x-python",
      "name": "python",
      "nbconvert_exporter": "python",
      "pygments_lexer": "ipython3",
      "version": "3.8.3"
    },
    "widgets": {
      "application/vnd.jupyter.widget-state+json": {
        "2cd38d3fe0b04064912dd8dbd06ac63c": {
          "model_module": "@jupyter-widgets/controls",
          "model_name": "HBoxModel",
          "model_module_version": "1.5.0",
          "state": {
            "_dom_classes": [],
            "_model_module": "@jupyter-widgets/controls",
            "_model_module_version": "1.5.0",
            "_model_name": "HBoxModel",
            "_view_count": null,
            "_view_module": "@jupyter-widgets/controls",
            "_view_module_version": "1.5.0",
            "_view_name": "HBoxView",
            "box_style": "",
            "children": [
              "IPY_MODEL_cff164cf18f74109982b09b6d15feabf",
              "IPY_MODEL_119a92f3a33a4d63884831ecd1f46f9b",
              "IPY_MODEL_13365076b0dd4169acc4053cb35823d8"
            ],
            "layout": "IPY_MODEL_364ab49107444bbdb271df1fe93ec883"
          }
        },
        "cff164cf18f74109982b09b6d15feabf": {
          "model_module": "@jupyter-widgets/controls",
          "model_name": "HTMLModel",
          "model_module_version": "1.5.0",
          "state": {
            "_dom_classes": [],
            "_model_module": "@jupyter-widgets/controls",
            "_model_module_version": "1.5.0",
            "_model_name": "HTMLModel",
            "_view_count": null,
            "_view_module": "@jupyter-widgets/controls",
            "_view_module_version": "1.5.0",
            "_view_name": "HTMLView",
            "description": "",
            "description_tooltip": null,
            "layout": "IPY_MODEL_f2d2797748494c1d9c59c6cb7b0a39a5",
            "placeholder": "​",
            "style": "IPY_MODEL_5fb511491e394bacb9e9dbb5a29a1a75",
            "value": "Downloading builder script: 100%"
          }
        },
        "119a92f3a33a4d63884831ecd1f46f9b": {
          "model_module": "@jupyter-widgets/controls",
          "model_name": "FloatProgressModel",
          "model_module_version": "1.5.0",
          "state": {
            "_dom_classes": [],
            "_model_module": "@jupyter-widgets/controls",
            "_model_module_version": "1.5.0",
            "_model_name": "FloatProgressModel",
            "_view_count": null,
            "_view_module": "@jupyter-widgets/controls",
            "_view_module_version": "1.5.0",
            "_view_name": "ProgressView",
            "bar_style": "success",
            "description": "",
            "description_tooltip": null,
            "layout": "IPY_MODEL_4901bdd027ff401ea96a6211e02373be",
            "max": 3968,
            "min": 0,
            "orientation": "horizontal",
            "style": "IPY_MODEL_9a1165658c3149b8bd69a13274c107e5",
            "value": 3968
          }
        },
        "13365076b0dd4169acc4053cb35823d8": {
          "model_module": "@jupyter-widgets/controls",
          "model_name": "HTMLModel",
          "model_module_version": "1.5.0",
          "state": {
            "_dom_classes": [],
            "_model_module": "@jupyter-widgets/controls",
            "_model_module_version": "1.5.0",
            "_model_name": "HTMLModel",
            "_view_count": null,
            "_view_module": "@jupyter-widgets/controls",
            "_view_module_version": "1.5.0",
            "_view_name": "HTMLView",
            "description": "",
            "description_tooltip": null,
            "layout": "IPY_MODEL_aad0e7bce75141708953f5e2b16b0efc",
            "placeholder": "​",
            "style": "IPY_MODEL_c57f42f6cc0647b2ab1f076d20f04fe2",
            "value": " 3.97k/3.97k [00:00&lt;00:00, 304kB/s]"
          }
        },
        "364ab49107444bbdb271df1fe93ec883": {
          "model_module": "@jupyter-widgets/base",
          "model_name": "LayoutModel",
          "model_module_version": "1.2.0",
          "state": {
            "_model_module": "@jupyter-widgets/base",
            "_model_module_version": "1.2.0",
            "_model_name": "LayoutModel",
            "_view_count": null,
            "_view_module": "@jupyter-widgets/base",
            "_view_module_version": "1.2.0",
            "_view_name": "LayoutView",
            "align_content": null,
            "align_items": null,
            "align_self": null,
            "border": null,
            "bottom": null,
            "display": null,
            "flex": null,
            "flex_flow": null,
            "grid_area": null,
            "grid_auto_columns": null,
            "grid_auto_flow": null,
            "grid_auto_rows": null,
            "grid_column": null,
            "grid_gap": null,
            "grid_row": null,
            "grid_template_areas": null,
            "grid_template_columns": null,
            "grid_template_rows": null,
            "height": null,
            "justify_content": null,
            "justify_items": null,
            "left": null,
            "margin": null,
            "max_height": null,
            "max_width": null,
            "min_height": null,
            "min_width": null,
            "object_fit": null,
            "object_position": null,
            "order": null,
            "overflow": null,
            "overflow_x": null,
            "overflow_y": null,
            "padding": null,
            "right": null,
            "top": null,
            "visibility": null,
            "width": null
          }
        },
        "f2d2797748494c1d9c59c6cb7b0a39a5": {
          "model_module": "@jupyter-widgets/base",
          "model_name": "LayoutModel",
          "model_module_version": "1.2.0",
          "state": {
            "_model_module": "@jupyter-widgets/base",
            "_model_module_version": "1.2.0",
            "_model_name": "LayoutModel",
            "_view_count": null,
            "_view_module": "@jupyter-widgets/base",
            "_view_module_version": "1.2.0",
            "_view_name": "LayoutView",
            "align_content": null,
            "align_items": null,
            "align_self": null,
            "border": null,
            "bottom": null,
            "display": null,
            "flex": null,
            "flex_flow": null,
            "grid_area": null,
            "grid_auto_columns": null,
            "grid_auto_flow": null,
            "grid_auto_rows": null,
            "grid_column": null,
            "grid_gap": null,
            "grid_row": null,
            "grid_template_areas": null,
            "grid_template_columns": null,
            "grid_template_rows": null,
            "height": null,
            "justify_content": null,
            "justify_items": null,
            "left": null,
            "margin": null,
            "max_height": null,
            "max_width": null,
            "min_height": null,
            "min_width": null,
            "object_fit": null,
            "object_position": null,
            "order": null,
            "overflow": null,
            "overflow_x": null,
            "overflow_y": null,
            "padding": null,
            "right": null,
            "top": null,
            "visibility": null,
            "width": null
          }
        },
        "5fb511491e394bacb9e9dbb5a29a1a75": {
          "model_module": "@jupyter-widgets/controls",
          "model_name": "DescriptionStyleModel",
          "model_module_version": "1.5.0",
          "state": {
            "_model_module": "@jupyter-widgets/controls",
            "_model_module_version": "1.5.0",
            "_model_name": "DescriptionStyleModel",
            "_view_count": null,
            "_view_module": "@jupyter-widgets/base",
            "_view_module_version": "1.2.0",
            "_view_name": "StyleView",
            "description_width": ""
          }
        },
        "4901bdd027ff401ea96a6211e02373be": {
          "model_module": "@jupyter-widgets/base",
          "model_name": "LayoutModel",
          "model_module_version": "1.2.0",
          "state": {
            "_model_module": "@jupyter-widgets/base",
            "_model_module_version": "1.2.0",
            "_model_name": "LayoutModel",
            "_view_count": null,
            "_view_module": "@jupyter-widgets/base",
            "_view_module_version": "1.2.0",
            "_view_name": "LayoutView",
            "align_content": null,
            "align_items": null,
            "align_self": null,
            "border": null,
            "bottom": null,
            "display": null,
            "flex": null,
            "flex_flow": null,
            "grid_area": null,
            "grid_auto_columns": null,
            "grid_auto_flow": null,
            "grid_auto_rows": null,
            "grid_column": null,
            "grid_gap": null,
            "grid_row": null,
            "grid_template_areas": null,
            "grid_template_columns": null,
            "grid_template_rows": null,
            "height": null,
            "justify_content": null,
            "justify_items": null,
            "left": null,
            "margin": null,
            "max_height": null,
            "max_width": null,
            "min_height": null,
            "min_width": null,
            "object_fit": null,
            "object_position": null,
            "order": null,
            "overflow": null,
            "overflow_x": null,
            "overflow_y": null,
            "padding": null,
            "right": null,
            "top": null,
            "visibility": null,
            "width": null
          }
        },
        "9a1165658c3149b8bd69a13274c107e5": {
          "model_module": "@jupyter-widgets/controls",
          "model_name": "ProgressStyleModel",
          "model_module_version": "1.5.0",
          "state": {
            "_model_module": "@jupyter-widgets/controls",
            "_model_module_version": "1.5.0",
            "_model_name": "ProgressStyleModel",
            "_view_count": null,
            "_view_module": "@jupyter-widgets/base",
            "_view_module_version": "1.2.0",
            "_view_name": "StyleView",
            "bar_color": null,
            "description_width": ""
          }
        },
        "aad0e7bce75141708953f5e2b16b0efc": {
          "model_module": "@jupyter-widgets/base",
          "model_name": "LayoutModel",
          "model_module_version": "1.2.0",
          "state": {
            "_model_module": "@jupyter-widgets/base",
            "_model_module_version": "1.2.0",
            "_model_name": "LayoutModel",
            "_view_count": null,
            "_view_module": "@jupyter-widgets/base",
            "_view_module_version": "1.2.0",
            "_view_name": "LayoutView",
            "align_content": null,
            "align_items": null,
            "align_self": null,
            "border": null,
            "bottom": null,
            "display": null,
            "flex": null,
            "flex_flow": null,
            "grid_area": null,
            "grid_auto_columns": null,
            "grid_auto_flow": null,
            "grid_auto_rows": null,
            "grid_column": null,
            "grid_gap": null,
            "grid_row": null,
            "grid_template_areas": null,
            "grid_template_columns": null,
            "grid_template_rows": null,
            "height": null,
            "justify_content": null,
            "justify_items": null,
            "left": null,
            "margin": null,
            "max_height": null,
            "max_width": null,
            "min_height": null,
            "min_width": null,
            "object_fit": null,
            "object_position": null,
            "order": null,
            "overflow": null,
            "overflow_x": null,
            "overflow_y": null,
            "padding": null,
            "right": null,
            "top": null,
            "visibility": null,
            "width": null
          }
        },
        "c57f42f6cc0647b2ab1f076d20f04fe2": {
          "model_module": "@jupyter-widgets/controls",
          "model_name": "DescriptionStyleModel",
          "model_module_version": "1.5.0",
          "state": {
            "_model_module": "@jupyter-widgets/controls",
            "_model_module_version": "1.5.0",
            "_model_name": "DescriptionStyleModel",
            "_view_count": null,
            "_view_module": "@jupyter-widgets/base",
            "_view_module_version": "1.2.0",
            "_view_name": "StyleView",
            "description_width": ""
          }
        },
        "43c9448fbe10411c980488477db95b2e": {
          "model_module": "@jupyter-widgets/controls",
          "model_name": "HBoxModel",
          "model_module_version": "1.5.0",
          "state": {
            "_dom_classes": [],
            "_model_module": "@jupyter-widgets/controls",
            "_model_module_version": "1.5.0",
            "_model_name": "HBoxModel",
            "_view_count": null,
            "_view_module": "@jupyter-widgets/controls",
            "_view_module_version": "1.5.0",
            "_view_name": "HBoxView",
            "box_style": "",
            "children": [
              "IPY_MODEL_29cb73b44c884766ad1b98a7ec014cf5",
              "IPY_MODEL_1833308cf99d43b6bd32016a8aa1fa7e",
              "IPY_MODEL_081cc285b7e7469681b6940c794f4c97"
            ],
            "layout": "IPY_MODEL_7bdb39546f7b48f791f55347d452cba1"
          }
        },
        "29cb73b44c884766ad1b98a7ec014cf5": {
          "model_module": "@jupyter-widgets/controls",
          "model_name": "HTMLModel",
          "model_module_version": "1.5.0",
          "state": {
            "_dom_classes": [],
            "_model_module": "@jupyter-widgets/controls",
            "_model_module_version": "1.5.0",
            "_model_name": "HTMLModel",
            "_view_count": null,
            "_view_module": "@jupyter-widgets/controls",
            "_view_module_version": "1.5.0",
            "_view_name": "HTMLView",
            "description": "",
            "description_tooltip": null,
            "layout": "IPY_MODEL_3aa58a97eaf94d4a83f240ce48b77194",
            "placeholder": "​",
            "style": "IPY_MODEL_f2a1da03cb4f463fae676134942d87ed",
            "value": "Downloading metadata: 100%"
          }
        },
        "1833308cf99d43b6bd32016a8aa1fa7e": {
          "model_module": "@jupyter-widgets/controls",
          "model_name": "FloatProgressModel",
          "model_module_version": "1.5.0",
          "state": {
            "_dom_classes": [],
            "_model_module": "@jupyter-widgets/controls",
            "_model_module_version": "1.5.0",
            "_model_name": "FloatProgressModel",
            "_view_count": null,
            "_view_module": "@jupyter-widgets/controls",
            "_view_module_version": "1.5.0",
            "_view_name": "ProgressView",
            "bar_style": "success",
            "description": "",
            "description_tooltip": null,
            "layout": "IPY_MODEL_6f21635daecb4079bd1a3252eef66117",
            "max": 3280,
            "min": 0,
            "orientation": "horizontal",
            "style": "IPY_MODEL_c10cdd257c1946c6a689f78142a0b8af",
            "value": 3280
          }
        },
        "081cc285b7e7469681b6940c794f4c97": {
          "model_module": "@jupyter-widgets/controls",
          "model_name": "HTMLModel",
          "model_module_version": "1.5.0",
          "state": {
            "_dom_classes": [],
            "_model_module": "@jupyter-widgets/controls",
            "_model_module_version": "1.5.0",
            "_model_name": "HTMLModel",
            "_view_count": null,
            "_view_module": "@jupyter-widgets/controls",
            "_view_module_version": "1.5.0",
            "_view_name": "HTMLView",
            "description": "",
            "description_tooltip": null,
            "layout": "IPY_MODEL_3a68bc21733f4c4cb501c309ca1f70dc",
            "placeholder": "​",
            "style": "IPY_MODEL_9044b5f31d90437f8dbbd52312c7c814",
            "value": " 3.28k/3.28k [00:00&lt;00:00, 147kB/s]"
          }
        },
        "7bdb39546f7b48f791f55347d452cba1": {
          "model_module": "@jupyter-widgets/base",
          "model_name": "LayoutModel",
          "model_module_version": "1.2.0",
          "state": {
            "_model_module": "@jupyter-widgets/base",
            "_model_module_version": "1.2.0",
            "_model_name": "LayoutModel",
            "_view_count": null,
            "_view_module": "@jupyter-widgets/base",
            "_view_module_version": "1.2.0",
            "_view_name": "LayoutView",
            "align_content": null,
            "align_items": null,
            "align_self": null,
            "border": null,
            "bottom": null,
            "display": null,
            "flex": null,
            "flex_flow": null,
            "grid_area": null,
            "grid_auto_columns": null,
            "grid_auto_flow": null,
            "grid_auto_rows": null,
            "grid_column": null,
            "grid_gap": null,
            "grid_row": null,
            "grid_template_areas": null,
            "grid_template_columns": null,
            "grid_template_rows": null,
            "height": null,
            "justify_content": null,
            "justify_items": null,
            "left": null,
            "margin": null,
            "max_height": null,
            "max_width": null,
            "min_height": null,
            "min_width": null,
            "object_fit": null,
            "object_position": null,
            "order": null,
            "overflow": null,
            "overflow_x": null,
            "overflow_y": null,
            "padding": null,
            "right": null,
            "top": null,
            "visibility": null,
            "width": null
          }
        },
        "3aa58a97eaf94d4a83f240ce48b77194": {
          "model_module": "@jupyter-widgets/base",
          "model_name": "LayoutModel",
          "model_module_version": "1.2.0",
          "state": {
            "_model_module": "@jupyter-widgets/base",
            "_model_module_version": "1.2.0",
            "_model_name": "LayoutModel",
            "_view_count": null,
            "_view_module": "@jupyter-widgets/base",
            "_view_module_version": "1.2.0",
            "_view_name": "LayoutView",
            "align_content": null,
            "align_items": null,
            "align_self": null,
            "border": null,
            "bottom": null,
            "display": null,
            "flex": null,
            "flex_flow": null,
            "grid_area": null,
            "grid_auto_columns": null,
            "grid_auto_flow": null,
            "grid_auto_rows": null,
            "grid_column": null,
            "grid_gap": null,
            "grid_row": null,
            "grid_template_areas": null,
            "grid_template_columns": null,
            "grid_template_rows": null,
            "height": null,
            "justify_content": null,
            "justify_items": null,
            "left": null,
            "margin": null,
            "max_height": null,
            "max_width": null,
            "min_height": null,
            "min_width": null,
            "object_fit": null,
            "object_position": null,
            "order": null,
            "overflow": null,
            "overflow_x": null,
            "overflow_y": null,
            "padding": null,
            "right": null,
            "top": null,
            "visibility": null,
            "width": null
          }
        },
        "f2a1da03cb4f463fae676134942d87ed": {
          "model_module": "@jupyter-widgets/controls",
          "model_name": "DescriptionStyleModel",
          "model_module_version": "1.5.0",
          "state": {
            "_model_module": "@jupyter-widgets/controls",
            "_model_module_version": "1.5.0",
            "_model_name": "DescriptionStyleModel",
            "_view_count": null,
            "_view_module": "@jupyter-widgets/base",
            "_view_module_version": "1.2.0",
            "_view_name": "StyleView",
            "description_width": ""
          }
        },
        "6f21635daecb4079bd1a3252eef66117": {
          "model_module": "@jupyter-widgets/base",
          "model_name": "LayoutModel",
          "model_module_version": "1.2.0",
          "state": {
            "_model_module": "@jupyter-widgets/base",
            "_model_module_version": "1.2.0",
            "_model_name": "LayoutModel",
            "_view_count": null,
            "_view_module": "@jupyter-widgets/base",
            "_view_module_version": "1.2.0",
            "_view_name": "LayoutView",
            "align_content": null,
            "align_items": null,
            "align_self": null,
            "border": null,
            "bottom": null,
            "display": null,
            "flex": null,
            "flex_flow": null,
            "grid_area": null,
            "grid_auto_columns": null,
            "grid_auto_flow": null,
            "grid_auto_rows": null,
            "grid_column": null,
            "grid_gap": null,
            "grid_row": null,
            "grid_template_areas": null,
            "grid_template_columns": null,
            "grid_template_rows": null,
            "height": null,
            "justify_content": null,
            "justify_items": null,
            "left": null,
            "margin": null,
            "max_height": null,
            "max_width": null,
            "min_height": null,
            "min_width": null,
            "object_fit": null,
            "object_position": null,
            "order": null,
            "overflow": null,
            "overflow_x": null,
            "overflow_y": null,
            "padding": null,
            "right": null,
            "top": null,
            "visibility": null,
            "width": null
          }
        },
        "c10cdd257c1946c6a689f78142a0b8af": {
          "model_module": "@jupyter-widgets/controls",
          "model_name": "ProgressStyleModel",
          "model_module_version": "1.5.0",
          "state": {
            "_model_module": "@jupyter-widgets/controls",
            "_model_module_version": "1.5.0",
            "_model_name": "ProgressStyleModel",
            "_view_count": null,
            "_view_module": "@jupyter-widgets/base",
            "_view_module_version": "1.2.0",
            "_view_name": "StyleView",
            "bar_color": null,
            "description_width": ""
          }
        },
        "3a68bc21733f4c4cb501c309ca1f70dc": {
          "model_module": "@jupyter-widgets/base",
          "model_name": "LayoutModel",
          "model_module_version": "1.2.0",
          "state": {
            "_model_module": "@jupyter-widgets/base",
            "_model_module_version": "1.2.0",
            "_model_name": "LayoutModel",
            "_view_count": null,
            "_view_module": "@jupyter-widgets/base",
            "_view_module_version": "1.2.0",
            "_view_name": "LayoutView",
            "align_content": null,
            "align_items": null,
            "align_self": null,
            "border": null,
            "bottom": null,
            "display": null,
            "flex": null,
            "flex_flow": null,
            "grid_area": null,
            "grid_auto_columns": null,
            "grid_auto_flow": null,
            "grid_auto_rows": null,
            "grid_column": null,
            "grid_gap": null,
            "grid_row": null,
            "grid_template_areas": null,
            "grid_template_columns": null,
            "grid_template_rows": null,
            "height": null,
            "justify_content": null,
            "justify_items": null,
            "left": null,
            "margin": null,
            "max_height": null,
            "max_width": null,
            "min_height": null,
            "min_width": null,
            "object_fit": null,
            "object_position": null,
            "order": null,
            "overflow": null,
            "overflow_x": null,
            "overflow_y": null,
            "padding": null,
            "right": null,
            "top": null,
            "visibility": null,
            "width": null
          }
        },
        "9044b5f31d90437f8dbbd52312c7c814": {
          "model_module": "@jupyter-widgets/controls",
          "model_name": "DescriptionStyleModel",
          "model_module_version": "1.5.0",
          "state": {
            "_model_module": "@jupyter-widgets/controls",
            "_model_module_version": "1.5.0",
            "_model_name": "DescriptionStyleModel",
            "_view_count": null,
            "_view_module": "@jupyter-widgets/base",
            "_view_module_version": "1.2.0",
            "_view_name": "StyleView",
            "description_width": ""
          }
        },
        "825523c1897244dba872e2889386e679": {
          "model_module": "@jupyter-widgets/controls",
          "model_name": "HBoxModel",
          "model_module_version": "1.5.0",
          "state": {
            "_dom_classes": [],
            "_model_module": "@jupyter-widgets/controls",
            "_model_module_version": "1.5.0",
            "_model_name": "HBoxModel",
            "_view_count": null,
            "_view_module": "@jupyter-widgets/controls",
            "_view_module_version": "1.5.0",
            "_view_name": "HBoxView",
            "box_style": "",
            "children": [
              "IPY_MODEL_3e4dff9d4b044a949e2a8d3ef4fa91bb",
              "IPY_MODEL_20662d97e88b43eab63e1f6fceb7d9df",
              "IPY_MODEL_d9348988591b407a90a6a55a57fd5b09"
            ],
            "layout": "IPY_MODEL_7b5011fe50524470adc366c9cf1d522e"
          }
        },
        "3e4dff9d4b044a949e2a8d3ef4fa91bb": {
          "model_module": "@jupyter-widgets/controls",
          "model_name": "HTMLModel",
          "model_module_version": "1.5.0",
          "state": {
            "_dom_classes": [],
            "_model_module": "@jupyter-widgets/controls",
            "_model_module_version": "1.5.0",
            "_model_name": "HTMLModel",
            "_view_count": null,
            "_view_module": "@jupyter-widgets/controls",
            "_view_module_version": "1.5.0",
            "_view_name": "HTMLView",
            "description": "",
            "description_tooltip": null,
            "layout": "IPY_MODEL_34a4f8c186ce46c2b98dd4d6532fa495",
            "placeholder": "​",
            "style": "IPY_MODEL_3bf5d0e1a99b4caf9764e1ee451c285a",
            "value": "Downloading readme: 100%"
          }
        },
        "20662d97e88b43eab63e1f6fceb7d9df": {
          "model_module": "@jupyter-widgets/controls",
          "model_name": "FloatProgressModel",
          "model_module_version": "1.5.0",
          "state": {
            "_dom_classes": [],
            "_model_module": "@jupyter-widgets/controls",
            "_model_module_version": "1.5.0",
            "_model_name": "FloatProgressModel",
            "_view_count": null,
            "_view_module": "@jupyter-widgets/controls",
            "_view_module_version": "1.5.0",
            "_view_name": "ProgressView",
            "bar_style": "success",
            "description": "",
            "description_tooltip": null,
            "layout": "IPY_MODEL_821f144019d748f4b63b84141774c306",
            "max": 8780,
            "min": 0,
            "orientation": "horizontal",
            "style": "IPY_MODEL_529f3599fb7049d9a0a71cc60fef33c8",
            "value": 8780
          }
        },
        "d9348988591b407a90a6a55a57fd5b09": {
          "model_module": "@jupyter-widgets/controls",
          "model_name": "HTMLModel",
          "model_module_version": "1.5.0",
          "state": {
            "_dom_classes": [],
            "_model_module": "@jupyter-widgets/controls",
            "_model_module_version": "1.5.0",
            "_model_name": "HTMLModel",
            "_view_count": null,
            "_view_module": "@jupyter-widgets/controls",
            "_view_module_version": "1.5.0",
            "_view_name": "HTMLView",
            "description": "",
            "description_tooltip": null,
            "layout": "IPY_MODEL_c96a41d6c8c94da8b2163d4cd5d23852",
            "placeholder": "​",
            "style": "IPY_MODEL_ae035e3b1aee4a30b5d572f3cbe7371e",
            "value": " 8.78k/8.78k [00:00&lt;00:00, 464kB/s]"
          }
        },
        "7b5011fe50524470adc366c9cf1d522e": {
          "model_module": "@jupyter-widgets/base",
          "model_name": "LayoutModel",
          "model_module_version": "1.2.0",
          "state": {
            "_model_module": "@jupyter-widgets/base",
            "_model_module_version": "1.2.0",
            "_model_name": "LayoutModel",
            "_view_count": null,
            "_view_module": "@jupyter-widgets/base",
            "_view_module_version": "1.2.0",
            "_view_name": "LayoutView",
            "align_content": null,
            "align_items": null,
            "align_self": null,
            "border": null,
            "bottom": null,
            "display": null,
            "flex": null,
            "flex_flow": null,
            "grid_area": null,
            "grid_auto_columns": null,
            "grid_auto_flow": null,
            "grid_auto_rows": null,
            "grid_column": null,
            "grid_gap": null,
            "grid_row": null,
            "grid_template_areas": null,
            "grid_template_columns": null,
            "grid_template_rows": null,
            "height": null,
            "justify_content": null,
            "justify_items": null,
            "left": null,
            "margin": null,
            "max_height": null,
            "max_width": null,
            "min_height": null,
            "min_width": null,
            "object_fit": null,
            "object_position": null,
            "order": null,
            "overflow": null,
            "overflow_x": null,
            "overflow_y": null,
            "padding": null,
            "right": null,
            "top": null,
            "visibility": null,
            "width": null
          }
        },
        "34a4f8c186ce46c2b98dd4d6532fa495": {
          "model_module": "@jupyter-widgets/base",
          "model_name": "LayoutModel",
          "model_module_version": "1.2.0",
          "state": {
            "_model_module": "@jupyter-widgets/base",
            "_model_module_version": "1.2.0",
            "_model_name": "LayoutModel",
            "_view_count": null,
            "_view_module": "@jupyter-widgets/base",
            "_view_module_version": "1.2.0",
            "_view_name": "LayoutView",
            "align_content": null,
            "align_items": null,
            "align_self": null,
            "border": null,
            "bottom": null,
            "display": null,
            "flex": null,
            "flex_flow": null,
            "grid_area": null,
            "grid_auto_columns": null,
            "grid_auto_flow": null,
            "grid_auto_rows": null,
            "grid_column": null,
            "grid_gap": null,
            "grid_row": null,
            "grid_template_areas": null,
            "grid_template_columns": null,
            "grid_template_rows": null,
            "height": null,
            "justify_content": null,
            "justify_items": null,
            "left": null,
            "margin": null,
            "max_height": null,
            "max_width": null,
            "min_height": null,
            "min_width": null,
            "object_fit": null,
            "object_position": null,
            "order": null,
            "overflow": null,
            "overflow_x": null,
            "overflow_y": null,
            "padding": null,
            "right": null,
            "top": null,
            "visibility": null,
            "width": null
          }
        },
        "3bf5d0e1a99b4caf9764e1ee451c285a": {
          "model_module": "@jupyter-widgets/controls",
          "model_name": "DescriptionStyleModel",
          "model_module_version": "1.5.0",
          "state": {
            "_model_module": "@jupyter-widgets/controls",
            "_model_module_version": "1.5.0",
            "_model_name": "DescriptionStyleModel",
            "_view_count": null,
            "_view_module": "@jupyter-widgets/base",
            "_view_module_version": "1.2.0",
            "_view_name": "StyleView",
            "description_width": ""
          }
        },
        "821f144019d748f4b63b84141774c306": {
          "model_module": "@jupyter-widgets/base",
          "model_name": "LayoutModel",
          "model_module_version": "1.2.0",
          "state": {
            "_model_module": "@jupyter-widgets/base",
            "_model_module_version": "1.2.0",
            "_model_name": "LayoutModel",
            "_view_count": null,
            "_view_module": "@jupyter-widgets/base",
            "_view_module_version": "1.2.0",
            "_view_name": "LayoutView",
            "align_content": null,
            "align_items": null,
            "align_self": null,
            "border": null,
            "bottom": null,
            "display": null,
            "flex": null,
            "flex_flow": null,
            "grid_area": null,
            "grid_auto_columns": null,
            "grid_auto_flow": null,
            "grid_auto_rows": null,
            "grid_column": null,
            "grid_gap": null,
            "grid_row": null,
            "grid_template_areas": null,
            "grid_template_columns": null,
            "grid_template_rows": null,
            "height": null,
            "justify_content": null,
            "justify_items": null,
            "left": null,
            "margin": null,
            "max_height": null,
            "max_width": null,
            "min_height": null,
            "min_width": null,
            "object_fit": null,
            "object_position": null,
            "order": null,
            "overflow": null,
            "overflow_x": null,
            "overflow_y": null,
            "padding": null,
            "right": null,
            "top": null,
            "visibility": null,
            "width": null
          }
        },
        "529f3599fb7049d9a0a71cc60fef33c8": {
          "model_module": "@jupyter-widgets/controls",
          "model_name": "ProgressStyleModel",
          "model_module_version": "1.5.0",
          "state": {
            "_model_module": "@jupyter-widgets/controls",
            "_model_module_version": "1.5.0",
            "_model_name": "ProgressStyleModel",
            "_view_count": null,
            "_view_module": "@jupyter-widgets/base",
            "_view_module_version": "1.2.0",
            "_view_name": "StyleView",
            "bar_color": null,
            "description_width": ""
          }
        },
        "c96a41d6c8c94da8b2163d4cd5d23852": {
          "model_module": "@jupyter-widgets/base",
          "model_name": "LayoutModel",
          "model_module_version": "1.2.0",
          "state": {
            "_model_module": "@jupyter-widgets/base",
            "_model_module_version": "1.2.0",
            "_model_name": "LayoutModel",
            "_view_count": null,
            "_view_module": "@jupyter-widgets/base",
            "_view_module_version": "1.2.0",
            "_view_name": "LayoutView",
            "align_content": null,
            "align_items": null,
            "align_self": null,
            "border": null,
            "bottom": null,
            "display": null,
            "flex": null,
            "flex_flow": null,
            "grid_area": null,
            "grid_auto_columns": null,
            "grid_auto_flow": null,
            "grid_auto_rows": null,
            "grid_column": null,
            "grid_gap": null,
            "grid_row": null,
            "grid_template_areas": null,
            "grid_template_columns": null,
            "grid_template_rows": null,
            "height": null,
            "justify_content": null,
            "justify_items": null,
            "left": null,
            "margin": null,
            "max_height": null,
            "max_width": null,
            "min_height": null,
            "min_width": null,
            "object_fit": null,
            "object_position": null,
            "order": null,
            "overflow": null,
            "overflow_x": null,
            "overflow_y": null,
            "padding": null,
            "right": null,
            "top": null,
            "visibility": null,
            "width": null
          }
        },
        "ae035e3b1aee4a30b5d572f3cbe7371e": {
          "model_module": "@jupyter-widgets/controls",
          "model_name": "DescriptionStyleModel",
          "model_module_version": "1.5.0",
          "state": {
            "_model_module": "@jupyter-widgets/controls",
            "_model_module_version": "1.5.0",
            "_model_name": "DescriptionStyleModel",
            "_view_count": null,
            "_view_module": "@jupyter-widgets/base",
            "_view_module_version": "1.2.0",
            "_view_name": "StyleView",
            "description_width": ""
          }
        },
        "f8b3b94fb4a64a7b9bb4054c921af7ec": {
          "model_module": "@jupyter-widgets/controls",
          "model_name": "HBoxModel",
          "model_module_version": "1.5.0",
          "state": {
            "_dom_classes": [],
            "_model_module": "@jupyter-widgets/controls",
            "_model_module_version": "1.5.0",
            "_model_name": "HBoxModel",
            "_view_count": null,
            "_view_module": "@jupyter-widgets/controls",
            "_view_module_version": "1.5.0",
            "_view_name": "HBoxView",
            "box_style": "",
            "children": [
              "IPY_MODEL_c0ac454113ab4383bcbd4765b3c82f96",
              "IPY_MODEL_cb171a177f514d0ebf3f13da9f463638",
              "IPY_MODEL_e772acaa25f643cfa8734a98bb231c7a"
            ],
            "layout": "IPY_MODEL_91e5b49fd49a492c843522a136e930e7"
          }
        },
        "c0ac454113ab4383bcbd4765b3c82f96": {
          "model_module": "@jupyter-widgets/controls",
          "model_name": "HTMLModel",
          "model_module_version": "1.5.0",
          "state": {
            "_dom_classes": [],
            "_model_module": "@jupyter-widgets/controls",
            "_model_module_version": "1.5.0",
            "_model_name": "HTMLModel",
            "_view_count": null,
            "_view_module": "@jupyter-widgets/controls",
            "_view_module_version": "1.5.0",
            "_view_name": "HTMLView",
            "description": "",
            "description_tooltip": null,
            "layout": "IPY_MODEL_7f838836884d42a6880c36d87b5592a3",
            "placeholder": "​",
            "style": "IPY_MODEL_8825b29834e8427f8569c7042882a711",
            "value": "Downloading data: 100%"
          }
        },
        "cb171a177f514d0ebf3f13da9f463638": {
          "model_module": "@jupyter-widgets/controls",
          "model_name": "FloatProgressModel",
          "model_module_version": "1.5.0",
          "state": {
            "_dom_classes": [],
            "_model_module": "@jupyter-widgets/controls",
            "_model_module_version": "1.5.0",
            "_model_name": "FloatProgressModel",
            "_view_count": null,
            "_view_module": "@jupyter-widgets/controls",
            "_view_module_version": "1.5.0",
            "_view_name": "ProgressView",
            "bar_style": "success",
            "description": "",
            "description_tooltip": null,
            "layout": "IPY_MODEL_48290ca828b14599b9e5a1aef0458e59",
            "max": 591930,
            "min": 0,
            "orientation": "horizontal",
            "style": "IPY_MODEL_ef7308b785bf49efb969ec25eef19540",
            "value": 591930
          }
        },
        "e772acaa25f643cfa8734a98bb231c7a": {
          "model_module": "@jupyter-widgets/controls",
          "model_name": "HTMLModel",
          "model_module_version": "1.5.0",
          "state": {
            "_dom_classes": [],
            "_model_module": "@jupyter-widgets/controls",
            "_model_module_version": "1.5.0",
            "_model_name": "HTMLModel",
            "_view_count": null,
            "_view_module": "@jupyter-widgets/controls",
            "_view_module_version": "1.5.0",
            "_view_name": "HTMLView",
            "description": "",
            "description_tooltip": null,
            "layout": "IPY_MODEL_ea9aa00b58ab44568eb5d72af2dca815",
            "placeholder": "​",
            "style": "IPY_MODEL_9e177ebfdcfd497ca3dc1ad123cb678f",
            "value": " 592k/592k [00:00&lt;00:00, 1.62MB/s]"
          }
        },
        "91e5b49fd49a492c843522a136e930e7": {
          "model_module": "@jupyter-widgets/base",
          "model_name": "LayoutModel",
          "model_module_version": "1.2.0",
          "state": {
            "_model_module": "@jupyter-widgets/base",
            "_model_module_version": "1.2.0",
            "_model_name": "LayoutModel",
            "_view_count": null,
            "_view_module": "@jupyter-widgets/base",
            "_view_module_version": "1.2.0",
            "_view_name": "LayoutView",
            "align_content": null,
            "align_items": null,
            "align_self": null,
            "border": null,
            "bottom": null,
            "display": null,
            "flex": null,
            "flex_flow": null,
            "grid_area": null,
            "grid_auto_columns": null,
            "grid_auto_flow": null,
            "grid_auto_rows": null,
            "grid_column": null,
            "grid_gap": null,
            "grid_row": null,
            "grid_template_areas": null,
            "grid_template_columns": null,
            "grid_template_rows": null,
            "height": null,
            "justify_content": null,
            "justify_items": null,
            "left": null,
            "margin": null,
            "max_height": null,
            "max_width": null,
            "min_height": null,
            "min_width": null,
            "object_fit": null,
            "object_position": null,
            "order": null,
            "overflow": null,
            "overflow_x": null,
            "overflow_y": null,
            "padding": null,
            "right": null,
            "top": null,
            "visibility": null,
            "width": null
          }
        },
        "7f838836884d42a6880c36d87b5592a3": {
          "model_module": "@jupyter-widgets/base",
          "model_name": "LayoutModel",
          "model_module_version": "1.2.0",
          "state": {
            "_model_module": "@jupyter-widgets/base",
            "_model_module_version": "1.2.0",
            "_model_name": "LayoutModel",
            "_view_count": null,
            "_view_module": "@jupyter-widgets/base",
            "_view_module_version": "1.2.0",
            "_view_name": "LayoutView",
            "align_content": null,
            "align_items": null,
            "align_self": null,
            "border": null,
            "bottom": null,
            "display": null,
            "flex": null,
            "flex_flow": null,
            "grid_area": null,
            "grid_auto_columns": null,
            "grid_auto_flow": null,
            "grid_auto_rows": null,
            "grid_column": null,
            "grid_gap": null,
            "grid_row": null,
            "grid_template_areas": null,
            "grid_template_columns": null,
            "grid_template_rows": null,
            "height": null,
            "justify_content": null,
            "justify_items": null,
            "left": null,
            "margin": null,
            "max_height": null,
            "max_width": null,
            "min_height": null,
            "min_width": null,
            "object_fit": null,
            "object_position": null,
            "order": null,
            "overflow": null,
            "overflow_x": null,
            "overflow_y": null,
            "padding": null,
            "right": null,
            "top": null,
            "visibility": null,
            "width": null
          }
        },
        "8825b29834e8427f8569c7042882a711": {
          "model_module": "@jupyter-widgets/controls",
          "model_name": "DescriptionStyleModel",
          "model_module_version": "1.5.0",
          "state": {
            "_model_module": "@jupyter-widgets/controls",
            "_model_module_version": "1.5.0",
            "_model_name": "DescriptionStyleModel",
            "_view_count": null,
            "_view_module": "@jupyter-widgets/base",
            "_view_module_version": "1.2.0",
            "_view_name": "StyleView",
            "description_width": ""
          }
        },
        "48290ca828b14599b9e5a1aef0458e59": {
          "model_module": "@jupyter-widgets/base",
          "model_name": "LayoutModel",
          "model_module_version": "1.2.0",
          "state": {
            "_model_module": "@jupyter-widgets/base",
            "_model_module_version": "1.2.0",
            "_model_name": "LayoutModel",
            "_view_count": null,
            "_view_module": "@jupyter-widgets/base",
            "_view_module_version": "1.2.0",
            "_view_name": "LayoutView",
            "align_content": null,
            "align_items": null,
            "align_self": null,
            "border": null,
            "bottom": null,
            "display": null,
            "flex": null,
            "flex_flow": null,
            "grid_area": null,
            "grid_auto_columns": null,
            "grid_auto_flow": null,
            "grid_auto_rows": null,
            "grid_column": null,
            "grid_gap": null,
            "grid_row": null,
            "grid_template_areas": null,
            "grid_template_columns": null,
            "grid_template_rows": null,
            "height": null,
            "justify_content": null,
            "justify_items": null,
            "left": null,
            "margin": null,
            "max_height": null,
            "max_width": null,
            "min_height": null,
            "min_width": null,
            "object_fit": null,
            "object_position": null,
            "order": null,
            "overflow": null,
            "overflow_x": null,
            "overflow_y": null,
            "padding": null,
            "right": null,
            "top": null,
            "visibility": null,
            "width": null
          }
        },
        "ef7308b785bf49efb969ec25eef19540": {
          "model_module": "@jupyter-widgets/controls",
          "model_name": "ProgressStyleModel",
          "model_module_version": "1.5.0",
          "state": {
            "_model_module": "@jupyter-widgets/controls",
            "_model_module_version": "1.5.0",
            "_model_name": "ProgressStyleModel",
            "_view_count": null,
            "_view_module": "@jupyter-widgets/base",
            "_view_module_version": "1.2.0",
            "_view_name": "StyleView",
            "bar_color": null,
            "description_width": ""
          }
        },
        "ea9aa00b58ab44568eb5d72af2dca815": {
          "model_module": "@jupyter-widgets/base",
          "model_name": "LayoutModel",
          "model_module_version": "1.2.0",
          "state": {
            "_model_module": "@jupyter-widgets/base",
            "_model_module_version": "1.2.0",
            "_model_name": "LayoutModel",
            "_view_count": null,
            "_view_module": "@jupyter-widgets/base",
            "_view_module_version": "1.2.0",
            "_view_name": "LayoutView",
            "align_content": null,
            "align_items": null,
            "align_self": null,
            "border": null,
            "bottom": null,
            "display": null,
            "flex": null,
            "flex_flow": null,
            "grid_area": null,
            "grid_auto_columns": null,
            "grid_auto_flow": null,
            "grid_auto_rows": null,
            "grid_column": null,
            "grid_gap": null,
            "grid_row": null,
            "grid_template_areas": null,
            "grid_template_columns": null,
            "grid_template_rows": null,
            "height": null,
            "justify_content": null,
            "justify_items": null,
            "left": null,
            "margin": null,
            "max_height": null,
            "max_width": null,
            "min_height": null,
            "min_width": null,
            "object_fit": null,
            "object_position": null,
            "order": null,
            "overflow": null,
            "overflow_x": null,
            "overflow_y": null,
            "padding": null,
            "right": null,
            "top": null,
            "visibility": null,
            "width": null
          }
        },
        "9e177ebfdcfd497ca3dc1ad123cb678f": {
          "model_module": "@jupyter-widgets/controls",
          "model_name": "DescriptionStyleModel",
          "model_module_version": "1.5.0",
          "state": {
            "_model_module": "@jupyter-widgets/controls",
            "_model_module_version": "1.5.0",
            "_model_name": "DescriptionStyleModel",
            "_view_count": null,
            "_view_module": "@jupyter-widgets/base",
            "_view_module_version": "1.2.0",
            "_view_name": "StyleView",
            "description_width": ""
          }
        },
        "33b4889f605847009651054b8e9ecc44": {
          "model_module": "@jupyter-widgets/controls",
          "model_name": "HBoxModel",
          "model_module_version": "1.5.0",
          "state": {
            "_dom_classes": [],
            "_model_module": "@jupyter-widgets/controls",
            "_model_module_version": "1.5.0",
            "_model_name": "HBoxModel",
            "_view_count": null,
            "_view_module": "@jupyter-widgets/controls",
            "_view_module_version": "1.5.0",
            "_view_name": "HBoxView",
            "box_style": "",
            "children": [
              "IPY_MODEL_40f8d93705f34b068fb8495146116375",
              "IPY_MODEL_1f92de0d1d4e453f8cfecd5772a0348d",
              "IPY_MODEL_b66e94b41fab4dd888589001d0e179bf"
            ],
            "layout": "IPY_MODEL_bcba21bdff5943eaa2093e15c1600712"
          }
        },
        "40f8d93705f34b068fb8495146116375": {
          "model_module": "@jupyter-widgets/controls",
          "model_name": "HTMLModel",
          "model_module_version": "1.5.0",
          "state": {
            "_dom_classes": [],
            "_model_module": "@jupyter-widgets/controls",
            "_model_module_version": "1.5.0",
            "_model_name": "HTMLModel",
            "_view_count": null,
            "_view_module": "@jupyter-widgets/controls",
            "_view_module_version": "1.5.0",
            "_view_name": "HTMLView",
            "description": "",
            "description_tooltip": null,
            "layout": "IPY_MODEL_5e04f677640f48abaf4e098585bd7b3f",
            "placeholder": "​",
            "style": "IPY_MODEL_7cf40ae2268846009e41a01f4b10eb7c",
            "value": "Downloading data: 100%"
          }
        },
        "1f92de0d1d4e453f8cfecd5772a0348d": {
          "model_module": "@jupyter-widgets/controls",
          "model_name": "FloatProgressModel",
          "model_module_version": "1.5.0",
          "state": {
            "_dom_classes": [],
            "_model_module": "@jupyter-widgets/controls",
            "_model_module_version": "1.5.0",
            "_model_name": "FloatProgressModel",
            "_view_count": null,
            "_view_module": "@jupyter-widgets/controls",
            "_view_module_version": "1.5.0",
            "_view_name": "ProgressView",
            "bar_style": "success",
            "description": "",
            "description_tooltip": null,
            "layout": "IPY_MODEL_7220b6b232ca4cd4a5952d65a56c376b",
            "max": 74018,
            "min": 0,
            "orientation": "horizontal",
            "style": "IPY_MODEL_a33762b6ad9f46f798455f5acfc29703",
            "value": 74018
          }
        },
        "b66e94b41fab4dd888589001d0e179bf": {
          "model_module": "@jupyter-widgets/controls",
          "model_name": "HTMLModel",
          "model_module_version": "1.5.0",
          "state": {
            "_dom_classes": [],
            "_model_module": "@jupyter-widgets/controls",
            "_model_module_version": "1.5.0",
            "_model_name": "HTMLModel",
            "_view_count": null,
            "_view_module": "@jupyter-widgets/controls",
            "_view_module_version": "1.5.0",
            "_view_name": "HTMLView",
            "description": "",
            "description_tooltip": null,
            "layout": "IPY_MODEL_83166e3795764bbf9d4f5567a960b61f",
            "placeholder": "​",
            "style": "IPY_MODEL_770a27137b3c459b94bc2ae6022b3b16",
            "value": " 74.0k/74.0k [00:00&lt;00:00, 1.14MB/s]"
          }
        },
        "bcba21bdff5943eaa2093e15c1600712": {
          "model_module": "@jupyter-widgets/base",
          "model_name": "LayoutModel",
          "model_module_version": "1.2.0",
          "state": {
            "_model_module": "@jupyter-widgets/base",
            "_model_module_version": "1.2.0",
            "_model_name": "LayoutModel",
            "_view_count": null,
            "_view_module": "@jupyter-widgets/base",
            "_view_module_version": "1.2.0",
            "_view_name": "LayoutView",
            "align_content": null,
            "align_items": null,
            "align_self": null,
            "border": null,
            "bottom": null,
            "display": null,
            "flex": null,
            "flex_flow": null,
            "grid_area": null,
            "grid_auto_columns": null,
            "grid_auto_flow": null,
            "grid_auto_rows": null,
            "grid_column": null,
            "grid_gap": null,
            "grid_row": null,
            "grid_template_areas": null,
            "grid_template_columns": null,
            "grid_template_rows": null,
            "height": null,
            "justify_content": null,
            "justify_items": null,
            "left": null,
            "margin": null,
            "max_height": null,
            "max_width": null,
            "min_height": null,
            "min_width": null,
            "object_fit": null,
            "object_position": null,
            "order": null,
            "overflow": null,
            "overflow_x": null,
            "overflow_y": null,
            "padding": null,
            "right": null,
            "top": null,
            "visibility": null,
            "width": null
          }
        },
        "5e04f677640f48abaf4e098585bd7b3f": {
          "model_module": "@jupyter-widgets/base",
          "model_name": "LayoutModel",
          "model_module_version": "1.2.0",
          "state": {
            "_model_module": "@jupyter-widgets/base",
            "_model_module_version": "1.2.0",
            "_model_name": "LayoutModel",
            "_view_count": null,
            "_view_module": "@jupyter-widgets/base",
            "_view_module_version": "1.2.0",
            "_view_name": "LayoutView",
            "align_content": null,
            "align_items": null,
            "align_self": null,
            "border": null,
            "bottom": null,
            "display": null,
            "flex": null,
            "flex_flow": null,
            "grid_area": null,
            "grid_auto_columns": null,
            "grid_auto_flow": null,
            "grid_auto_rows": null,
            "grid_column": null,
            "grid_gap": null,
            "grid_row": null,
            "grid_template_areas": null,
            "grid_template_columns": null,
            "grid_template_rows": null,
            "height": null,
            "justify_content": null,
            "justify_items": null,
            "left": null,
            "margin": null,
            "max_height": null,
            "max_width": null,
            "min_height": null,
            "min_width": null,
            "object_fit": null,
            "object_position": null,
            "order": null,
            "overflow": null,
            "overflow_x": null,
            "overflow_y": null,
            "padding": null,
            "right": null,
            "top": null,
            "visibility": null,
            "width": null
          }
        },
        "7cf40ae2268846009e41a01f4b10eb7c": {
          "model_module": "@jupyter-widgets/controls",
          "model_name": "DescriptionStyleModel",
          "model_module_version": "1.5.0",
          "state": {
            "_model_module": "@jupyter-widgets/controls",
            "_model_module_version": "1.5.0",
            "_model_name": "DescriptionStyleModel",
            "_view_count": null,
            "_view_module": "@jupyter-widgets/base",
            "_view_module_version": "1.2.0",
            "_view_name": "StyleView",
            "description_width": ""
          }
        },
        "7220b6b232ca4cd4a5952d65a56c376b": {
          "model_module": "@jupyter-widgets/base",
          "model_name": "LayoutModel",
          "model_module_version": "1.2.0",
          "state": {
            "_model_module": "@jupyter-widgets/base",
            "_model_module_version": "1.2.0",
            "_model_name": "LayoutModel",
            "_view_count": null,
            "_view_module": "@jupyter-widgets/base",
            "_view_module_version": "1.2.0",
            "_view_name": "LayoutView",
            "align_content": null,
            "align_items": null,
            "align_self": null,
            "border": null,
            "bottom": null,
            "display": null,
            "flex": null,
            "flex_flow": null,
            "grid_area": null,
            "grid_auto_columns": null,
            "grid_auto_flow": null,
            "grid_auto_rows": null,
            "grid_column": null,
            "grid_gap": null,
            "grid_row": null,
            "grid_template_areas": null,
            "grid_template_columns": null,
            "grid_template_rows": null,
            "height": null,
            "justify_content": null,
            "justify_items": null,
            "left": null,
            "margin": null,
            "max_height": null,
            "max_width": null,
            "min_height": null,
            "min_width": null,
            "object_fit": null,
            "object_position": null,
            "order": null,
            "overflow": null,
            "overflow_x": null,
            "overflow_y": null,
            "padding": null,
            "right": null,
            "top": null,
            "visibility": null,
            "width": null
          }
        },
        "a33762b6ad9f46f798455f5acfc29703": {
          "model_module": "@jupyter-widgets/controls",
          "model_name": "ProgressStyleModel",
          "model_module_version": "1.5.0",
          "state": {
            "_model_module": "@jupyter-widgets/controls",
            "_model_module_version": "1.5.0",
            "_model_name": "ProgressStyleModel",
            "_view_count": null,
            "_view_module": "@jupyter-widgets/base",
            "_view_module_version": "1.2.0",
            "_view_name": "StyleView",
            "bar_color": null,
            "description_width": ""
          }
        },
        "83166e3795764bbf9d4f5567a960b61f": {
          "model_module": "@jupyter-widgets/base",
          "model_name": "LayoutModel",
          "model_module_version": "1.2.0",
          "state": {
            "_model_module": "@jupyter-widgets/base",
            "_model_module_version": "1.2.0",
            "_model_name": "LayoutModel",
            "_view_count": null,
            "_view_module": "@jupyter-widgets/base",
            "_view_module_version": "1.2.0",
            "_view_name": "LayoutView",
            "align_content": null,
            "align_items": null,
            "align_self": null,
            "border": null,
            "bottom": null,
            "display": null,
            "flex": null,
            "flex_flow": null,
            "grid_area": null,
            "grid_auto_columns": null,
            "grid_auto_flow": null,
            "grid_auto_rows": null,
            "grid_column": null,
            "grid_gap": null,
            "grid_row": null,
            "grid_template_areas": null,
            "grid_template_columns": null,
            "grid_template_rows": null,
            "height": null,
            "justify_content": null,
            "justify_items": null,
            "left": null,
            "margin": null,
            "max_height": null,
            "max_width": null,
            "min_height": null,
            "min_width": null,
            "object_fit": null,
            "object_position": null,
            "order": null,
            "overflow": null,
            "overflow_x": null,
            "overflow_y": null,
            "padding": null,
            "right": null,
            "top": null,
            "visibility": null,
            "width": null
          }
        },
        "770a27137b3c459b94bc2ae6022b3b16": {
          "model_module": "@jupyter-widgets/controls",
          "model_name": "DescriptionStyleModel",
          "model_module_version": "1.5.0",
          "state": {
            "_model_module": "@jupyter-widgets/controls",
            "_model_module_version": "1.5.0",
            "_model_name": "DescriptionStyleModel",
            "_view_count": null,
            "_view_module": "@jupyter-widgets/base",
            "_view_module_version": "1.2.0",
            "_view_name": "StyleView",
            "description_width": ""
          }
        },
        "a38a65017cee4ee8a526983843aa5b05": {
          "model_module": "@jupyter-widgets/controls",
          "model_name": "HBoxModel",
          "model_module_version": "1.5.0",
          "state": {
            "_dom_classes": [],
            "_model_module": "@jupyter-widgets/controls",
            "_model_module_version": "1.5.0",
            "_model_name": "HBoxModel",
            "_view_count": null,
            "_view_module": "@jupyter-widgets/controls",
            "_view_module_version": "1.5.0",
            "_view_name": "HBoxView",
            "box_style": "",
            "children": [
              "IPY_MODEL_6ff1beb61ee545618b4df497e532004c",
              "IPY_MODEL_8227f724d2104b53a20d129411358f2f",
              "IPY_MODEL_dc2e55cba8114848a27d2299e27ab571"
            ],
            "layout": "IPY_MODEL_5a05dadcf61e48f0abc3d017e4b47ed0"
          }
        },
        "6ff1beb61ee545618b4df497e532004c": {
          "model_module": "@jupyter-widgets/controls",
          "model_name": "HTMLModel",
          "model_module_version": "1.5.0",
          "state": {
            "_dom_classes": [],
            "_model_module": "@jupyter-widgets/controls",
            "_model_module_version": "1.5.0",
            "_model_name": "HTMLModel",
            "_view_count": null,
            "_view_module": "@jupyter-widgets/controls",
            "_view_module_version": "1.5.0",
            "_view_name": "HTMLView",
            "description": "",
            "description_tooltip": null,
            "layout": "IPY_MODEL_46f5e72494cf413f8502698f7a14a276",
            "placeholder": "​",
            "style": "IPY_MODEL_ea4c692e3d5548108352691bf0ca2275",
            "value": "Downloading data: 100%"
          }
        },
        "8227f724d2104b53a20d129411358f2f": {
          "model_module": "@jupyter-widgets/controls",
          "model_name": "FloatProgressModel",
          "model_module_version": "1.5.0",
          "state": {
            "_dom_classes": [],
            "_model_module": "@jupyter-widgets/controls",
            "_model_module_version": "1.5.0",
            "_model_name": "FloatProgressModel",
            "_view_count": null,
            "_view_module": "@jupyter-widgets/controls",
            "_view_module_version": "1.5.0",
            "_view_name": "ProgressView",
            "bar_style": "success",
            "description": "",
            "description_tooltip": null,
            "layout": "IPY_MODEL_3fa7003c789f447e8c8ae9dacc1c50e5",
            "max": 74935,
            "min": 0,
            "orientation": "horizontal",
            "style": "IPY_MODEL_ce92154d17df42ebb6083f7ecf1e7f13",
            "value": 74935
          }
        },
        "dc2e55cba8114848a27d2299e27ab571": {
          "model_module": "@jupyter-widgets/controls",
          "model_name": "HTMLModel",
          "model_module_version": "1.5.0",
          "state": {
            "_dom_classes": [],
            "_model_module": "@jupyter-widgets/controls",
            "_model_module_version": "1.5.0",
            "_model_name": "HTMLModel",
            "_view_count": null,
            "_view_module": "@jupyter-widgets/controls",
            "_view_module_version": "1.5.0",
            "_view_name": "HTMLView",
            "description": "",
            "description_tooltip": null,
            "layout": "IPY_MODEL_fb0743c20f4d4566b4fe3b75aead249f",
            "placeholder": "​",
            "style": "IPY_MODEL_53d836af639e40b09fbc2cd775299986",
            "value": " 74.9k/74.9k [00:00&lt;00:00, 1.14MB/s]"
          }
        },
        "5a05dadcf61e48f0abc3d017e4b47ed0": {
          "model_module": "@jupyter-widgets/base",
          "model_name": "LayoutModel",
          "model_module_version": "1.2.0",
          "state": {
            "_model_module": "@jupyter-widgets/base",
            "_model_module_version": "1.2.0",
            "_model_name": "LayoutModel",
            "_view_count": null,
            "_view_module": "@jupyter-widgets/base",
            "_view_module_version": "1.2.0",
            "_view_name": "LayoutView",
            "align_content": null,
            "align_items": null,
            "align_self": null,
            "border": null,
            "bottom": null,
            "display": null,
            "flex": null,
            "flex_flow": null,
            "grid_area": null,
            "grid_auto_columns": null,
            "grid_auto_flow": null,
            "grid_auto_rows": null,
            "grid_column": null,
            "grid_gap": null,
            "grid_row": null,
            "grid_template_areas": null,
            "grid_template_columns": null,
            "grid_template_rows": null,
            "height": null,
            "justify_content": null,
            "justify_items": null,
            "left": null,
            "margin": null,
            "max_height": null,
            "max_width": null,
            "min_height": null,
            "min_width": null,
            "object_fit": null,
            "object_position": null,
            "order": null,
            "overflow": null,
            "overflow_x": null,
            "overflow_y": null,
            "padding": null,
            "right": null,
            "top": null,
            "visibility": null,
            "width": null
          }
        },
        "46f5e72494cf413f8502698f7a14a276": {
          "model_module": "@jupyter-widgets/base",
          "model_name": "LayoutModel",
          "model_module_version": "1.2.0",
          "state": {
            "_model_module": "@jupyter-widgets/base",
            "_model_module_version": "1.2.0",
            "_model_name": "LayoutModel",
            "_view_count": null,
            "_view_module": "@jupyter-widgets/base",
            "_view_module_version": "1.2.0",
            "_view_name": "LayoutView",
            "align_content": null,
            "align_items": null,
            "align_self": null,
            "border": null,
            "bottom": null,
            "display": null,
            "flex": null,
            "flex_flow": null,
            "grid_area": null,
            "grid_auto_columns": null,
            "grid_auto_flow": null,
            "grid_auto_rows": null,
            "grid_column": null,
            "grid_gap": null,
            "grid_row": null,
            "grid_template_areas": null,
            "grid_template_columns": null,
            "grid_template_rows": null,
            "height": null,
            "justify_content": null,
            "justify_items": null,
            "left": null,
            "margin": null,
            "max_height": null,
            "max_width": null,
            "min_height": null,
            "min_width": null,
            "object_fit": null,
            "object_position": null,
            "order": null,
            "overflow": null,
            "overflow_x": null,
            "overflow_y": null,
            "padding": null,
            "right": null,
            "top": null,
            "visibility": null,
            "width": null
          }
        },
        "ea4c692e3d5548108352691bf0ca2275": {
          "model_module": "@jupyter-widgets/controls",
          "model_name": "DescriptionStyleModel",
          "model_module_version": "1.5.0",
          "state": {
            "_model_module": "@jupyter-widgets/controls",
            "_model_module_version": "1.5.0",
            "_model_name": "DescriptionStyleModel",
            "_view_count": null,
            "_view_module": "@jupyter-widgets/base",
            "_view_module_version": "1.2.0",
            "_view_name": "StyleView",
            "description_width": ""
          }
        },
        "3fa7003c789f447e8c8ae9dacc1c50e5": {
          "model_module": "@jupyter-widgets/base",
          "model_name": "LayoutModel",
          "model_module_version": "1.2.0",
          "state": {
            "_model_module": "@jupyter-widgets/base",
            "_model_module_version": "1.2.0",
            "_model_name": "LayoutModel",
            "_view_count": null,
            "_view_module": "@jupyter-widgets/base",
            "_view_module_version": "1.2.0",
            "_view_name": "LayoutView",
            "align_content": null,
            "align_items": null,
            "align_self": null,
            "border": null,
            "bottom": null,
            "display": null,
            "flex": null,
            "flex_flow": null,
            "grid_area": null,
            "grid_auto_columns": null,
            "grid_auto_flow": null,
            "grid_auto_rows": null,
            "grid_column": null,
            "grid_gap": null,
            "grid_row": null,
            "grid_template_areas": null,
            "grid_template_columns": null,
            "grid_template_rows": null,
            "height": null,
            "justify_content": null,
            "justify_items": null,
            "left": null,
            "margin": null,
            "max_height": null,
            "max_width": null,
            "min_height": null,
            "min_width": null,
            "object_fit": null,
            "object_position": null,
            "order": null,
            "overflow": null,
            "overflow_x": null,
            "overflow_y": null,
            "padding": null,
            "right": null,
            "top": null,
            "visibility": null,
            "width": null
          }
        },
        "ce92154d17df42ebb6083f7ecf1e7f13": {
          "model_module": "@jupyter-widgets/controls",
          "model_name": "ProgressStyleModel",
          "model_module_version": "1.5.0",
          "state": {
            "_model_module": "@jupyter-widgets/controls",
            "_model_module_version": "1.5.0",
            "_model_name": "ProgressStyleModel",
            "_view_count": null,
            "_view_module": "@jupyter-widgets/base",
            "_view_module_version": "1.2.0",
            "_view_name": "StyleView",
            "bar_color": null,
            "description_width": ""
          }
        },
        "fb0743c20f4d4566b4fe3b75aead249f": {
          "model_module": "@jupyter-widgets/base",
          "model_name": "LayoutModel",
          "model_module_version": "1.2.0",
          "state": {
            "_model_module": "@jupyter-widgets/base",
            "_model_module_version": "1.2.0",
            "_model_name": "LayoutModel",
            "_view_count": null,
            "_view_module": "@jupyter-widgets/base",
            "_view_module_version": "1.2.0",
            "_view_name": "LayoutView",
            "align_content": null,
            "align_items": null,
            "align_self": null,
            "border": null,
            "bottom": null,
            "display": null,
            "flex": null,
            "flex_flow": null,
            "grid_area": null,
            "grid_auto_columns": null,
            "grid_auto_flow": null,
            "grid_auto_rows": null,
            "grid_column": null,
            "grid_gap": null,
            "grid_row": null,
            "grid_template_areas": null,
            "grid_template_columns": null,
            "grid_template_rows": null,
            "height": null,
            "justify_content": null,
            "justify_items": null,
            "left": null,
            "margin": null,
            "max_height": null,
            "max_width": null,
            "min_height": null,
            "min_width": null,
            "object_fit": null,
            "object_position": null,
            "order": null,
            "overflow": null,
            "overflow_x": null,
            "overflow_y": null,
            "padding": null,
            "right": null,
            "top": null,
            "visibility": null,
            "width": null
          }
        },
        "53d836af639e40b09fbc2cd775299986": {
          "model_module": "@jupyter-widgets/controls",
          "model_name": "DescriptionStyleModel",
          "model_module_version": "1.5.0",
          "state": {
            "_model_module": "@jupyter-widgets/controls",
            "_model_module_version": "1.5.0",
            "_model_name": "DescriptionStyleModel",
            "_view_count": null,
            "_view_module": "@jupyter-widgets/base",
            "_view_module_version": "1.2.0",
            "_view_name": "StyleView",
            "description_width": ""
          }
        },
        "1db4050d1f5a45969433558a01523b80": {
          "model_module": "@jupyter-widgets/controls",
          "model_name": "HBoxModel",
          "model_module_version": "1.5.0",
          "state": {
            "_dom_classes": [],
            "_model_module": "@jupyter-widgets/controls",
            "_model_module_version": "1.5.0",
            "_model_name": "HBoxModel",
            "_view_count": null,
            "_view_module": "@jupyter-widgets/controls",
            "_view_module_version": "1.5.0",
            "_view_name": "HBoxView",
            "box_style": "",
            "children": [
              "IPY_MODEL_5ec7995570fb4065b141119e30a0c352",
              "IPY_MODEL_eda8c8faa3c5489ebb6ff2799f7c872a",
              "IPY_MODEL_a489c74dcb77439a9475b71a64d8948c"
            ],
            "layout": "IPY_MODEL_9c8dbc5c5c3c4b25977f00bb13b1f32e"
          }
        },
        "5ec7995570fb4065b141119e30a0c352": {
          "model_module": "@jupyter-widgets/controls",
          "model_name": "HTMLModel",
          "model_module_version": "1.5.0",
          "state": {
            "_dom_classes": [],
            "_model_module": "@jupyter-widgets/controls",
            "_model_module_version": "1.5.0",
            "_model_name": "HTMLModel",
            "_view_count": null,
            "_view_module": "@jupyter-widgets/controls",
            "_view_module_version": "1.5.0",
            "_view_name": "HTMLView",
            "description": "",
            "description_tooltip": null,
            "layout": "IPY_MODEL_0517bc127bf84157aa50821d8ba4a1a3",
            "placeholder": "​",
            "style": "IPY_MODEL_fc306c724fbe4086bf272c5dd4dddbb7",
            "value": "Generating train split: 100%"
          }
        },
        "eda8c8faa3c5489ebb6ff2799f7c872a": {
          "model_module": "@jupyter-widgets/controls",
          "model_name": "FloatProgressModel",
          "model_module_version": "1.5.0",
          "state": {
            "_dom_classes": [],
            "_model_module": "@jupyter-widgets/controls",
            "_model_module_version": "1.5.0",
            "_model_name": "FloatProgressModel",
            "_view_count": null,
            "_view_module": "@jupyter-widgets/controls",
            "_view_module_version": "1.5.0",
            "_view_name": "ProgressView",
            "bar_style": "success",
            "description": "",
            "description_tooltip": null,
            "layout": "IPY_MODEL_3659fbe999c7404fa7d9a0705f2ec2f3",
            "max": 16000,
            "min": 0,
            "orientation": "horizontal",
            "style": "IPY_MODEL_a38db04fa6814a2486d2bb405c7b8e9e",
            "value": 16000
          }
        },
        "a489c74dcb77439a9475b71a64d8948c": {
          "model_module": "@jupyter-widgets/controls",
          "model_name": "HTMLModel",
          "model_module_version": "1.5.0",
          "state": {
            "_dom_classes": [],
            "_model_module": "@jupyter-widgets/controls",
            "_model_module_version": "1.5.0",
            "_model_name": "HTMLModel",
            "_view_count": null,
            "_view_module": "@jupyter-widgets/controls",
            "_view_module_version": "1.5.0",
            "_view_name": "HTMLView",
            "description": "",
            "description_tooltip": null,
            "layout": "IPY_MODEL_86f12ba22b844521a1bb161bf6ca6174",
            "placeholder": "​",
            "style": "IPY_MODEL_9011dbf211c94b64bbc4f2a5c98691d3",
            "value": " 16000/16000 [00:01&lt;00:00, 13721.27 examples/s]"
          }
        },
        "9c8dbc5c5c3c4b25977f00bb13b1f32e": {
          "model_module": "@jupyter-widgets/base",
          "model_name": "LayoutModel",
          "model_module_version": "1.2.0",
          "state": {
            "_model_module": "@jupyter-widgets/base",
            "_model_module_version": "1.2.0",
            "_model_name": "LayoutModel",
            "_view_count": null,
            "_view_module": "@jupyter-widgets/base",
            "_view_module_version": "1.2.0",
            "_view_name": "LayoutView",
            "align_content": null,
            "align_items": null,
            "align_self": null,
            "border": null,
            "bottom": null,
            "display": null,
            "flex": null,
            "flex_flow": null,
            "grid_area": null,
            "grid_auto_columns": null,
            "grid_auto_flow": null,
            "grid_auto_rows": null,
            "grid_column": null,
            "grid_gap": null,
            "grid_row": null,
            "grid_template_areas": null,
            "grid_template_columns": null,
            "grid_template_rows": null,
            "height": null,
            "justify_content": null,
            "justify_items": null,
            "left": null,
            "margin": null,
            "max_height": null,
            "max_width": null,
            "min_height": null,
            "min_width": null,
            "object_fit": null,
            "object_position": null,
            "order": null,
            "overflow": null,
            "overflow_x": null,
            "overflow_y": null,
            "padding": null,
            "right": null,
            "top": null,
            "visibility": null,
            "width": null
          }
        },
        "0517bc127bf84157aa50821d8ba4a1a3": {
          "model_module": "@jupyter-widgets/base",
          "model_name": "LayoutModel",
          "model_module_version": "1.2.0",
          "state": {
            "_model_module": "@jupyter-widgets/base",
            "_model_module_version": "1.2.0",
            "_model_name": "LayoutModel",
            "_view_count": null,
            "_view_module": "@jupyter-widgets/base",
            "_view_module_version": "1.2.0",
            "_view_name": "LayoutView",
            "align_content": null,
            "align_items": null,
            "align_self": null,
            "border": null,
            "bottom": null,
            "display": null,
            "flex": null,
            "flex_flow": null,
            "grid_area": null,
            "grid_auto_columns": null,
            "grid_auto_flow": null,
            "grid_auto_rows": null,
            "grid_column": null,
            "grid_gap": null,
            "grid_row": null,
            "grid_template_areas": null,
            "grid_template_columns": null,
            "grid_template_rows": null,
            "height": null,
            "justify_content": null,
            "justify_items": null,
            "left": null,
            "margin": null,
            "max_height": null,
            "max_width": null,
            "min_height": null,
            "min_width": null,
            "object_fit": null,
            "object_position": null,
            "order": null,
            "overflow": null,
            "overflow_x": null,
            "overflow_y": null,
            "padding": null,
            "right": null,
            "top": null,
            "visibility": null,
            "width": null
          }
        },
        "fc306c724fbe4086bf272c5dd4dddbb7": {
          "model_module": "@jupyter-widgets/controls",
          "model_name": "DescriptionStyleModel",
          "model_module_version": "1.5.0",
          "state": {
            "_model_module": "@jupyter-widgets/controls",
            "_model_module_version": "1.5.0",
            "_model_name": "DescriptionStyleModel",
            "_view_count": null,
            "_view_module": "@jupyter-widgets/base",
            "_view_module_version": "1.2.0",
            "_view_name": "StyleView",
            "description_width": ""
          }
        },
        "3659fbe999c7404fa7d9a0705f2ec2f3": {
          "model_module": "@jupyter-widgets/base",
          "model_name": "LayoutModel",
          "model_module_version": "1.2.0",
          "state": {
            "_model_module": "@jupyter-widgets/base",
            "_model_module_version": "1.2.0",
            "_model_name": "LayoutModel",
            "_view_count": null,
            "_view_module": "@jupyter-widgets/base",
            "_view_module_version": "1.2.0",
            "_view_name": "LayoutView",
            "align_content": null,
            "align_items": null,
            "align_self": null,
            "border": null,
            "bottom": null,
            "display": null,
            "flex": null,
            "flex_flow": null,
            "grid_area": null,
            "grid_auto_columns": null,
            "grid_auto_flow": null,
            "grid_auto_rows": null,
            "grid_column": null,
            "grid_gap": null,
            "grid_row": null,
            "grid_template_areas": null,
            "grid_template_columns": null,
            "grid_template_rows": null,
            "height": null,
            "justify_content": null,
            "justify_items": null,
            "left": null,
            "margin": null,
            "max_height": null,
            "max_width": null,
            "min_height": null,
            "min_width": null,
            "object_fit": null,
            "object_position": null,
            "order": null,
            "overflow": null,
            "overflow_x": null,
            "overflow_y": null,
            "padding": null,
            "right": null,
            "top": null,
            "visibility": null,
            "width": null
          }
        },
        "a38db04fa6814a2486d2bb405c7b8e9e": {
          "model_module": "@jupyter-widgets/controls",
          "model_name": "ProgressStyleModel",
          "model_module_version": "1.5.0",
          "state": {
            "_model_module": "@jupyter-widgets/controls",
            "_model_module_version": "1.5.0",
            "_model_name": "ProgressStyleModel",
            "_view_count": null,
            "_view_module": "@jupyter-widgets/base",
            "_view_module_version": "1.2.0",
            "_view_name": "StyleView",
            "bar_color": null,
            "description_width": ""
          }
        },
        "86f12ba22b844521a1bb161bf6ca6174": {
          "model_module": "@jupyter-widgets/base",
          "model_name": "LayoutModel",
          "model_module_version": "1.2.0",
          "state": {
            "_model_module": "@jupyter-widgets/base",
            "_model_module_version": "1.2.0",
            "_model_name": "LayoutModel",
            "_view_count": null,
            "_view_module": "@jupyter-widgets/base",
            "_view_module_version": "1.2.0",
            "_view_name": "LayoutView",
            "align_content": null,
            "align_items": null,
            "align_self": null,
            "border": null,
            "bottom": null,
            "display": null,
            "flex": null,
            "flex_flow": null,
            "grid_area": null,
            "grid_auto_columns": null,
            "grid_auto_flow": null,
            "grid_auto_rows": null,
            "grid_column": null,
            "grid_gap": null,
            "grid_row": null,
            "grid_template_areas": null,
            "grid_template_columns": null,
            "grid_template_rows": null,
            "height": null,
            "justify_content": null,
            "justify_items": null,
            "left": null,
            "margin": null,
            "max_height": null,
            "max_width": null,
            "min_height": null,
            "min_width": null,
            "object_fit": null,
            "object_position": null,
            "order": null,
            "overflow": null,
            "overflow_x": null,
            "overflow_y": null,
            "padding": null,
            "right": null,
            "top": null,
            "visibility": null,
            "width": null
          }
        },
        "9011dbf211c94b64bbc4f2a5c98691d3": {
          "model_module": "@jupyter-widgets/controls",
          "model_name": "DescriptionStyleModel",
          "model_module_version": "1.5.0",
          "state": {
            "_model_module": "@jupyter-widgets/controls",
            "_model_module_version": "1.5.0",
            "_model_name": "DescriptionStyleModel",
            "_view_count": null,
            "_view_module": "@jupyter-widgets/base",
            "_view_module_version": "1.2.0",
            "_view_name": "StyleView",
            "description_width": ""
          }
        },
        "06362ab7e72d40038a0fbbaffbfc66cd": {
          "model_module": "@jupyter-widgets/controls",
          "model_name": "HBoxModel",
          "model_module_version": "1.5.0",
          "state": {
            "_dom_classes": [],
            "_model_module": "@jupyter-widgets/controls",
            "_model_module_version": "1.5.0",
            "_model_name": "HBoxModel",
            "_view_count": null,
            "_view_module": "@jupyter-widgets/controls",
            "_view_module_version": "1.5.0",
            "_view_name": "HBoxView",
            "box_style": "",
            "children": [
              "IPY_MODEL_d539ec1a1b7e4810aa225d47b2a959d9",
              "IPY_MODEL_58aaa53439f24d08a6ff012b000f769b",
              "IPY_MODEL_be891a7b5a08491da2efa3b9389fdd19"
            ],
            "layout": "IPY_MODEL_6bb74c5700fa4bb3bac2900eb335b500"
          }
        },
        "d539ec1a1b7e4810aa225d47b2a959d9": {
          "model_module": "@jupyter-widgets/controls",
          "model_name": "HTMLModel",
          "model_module_version": "1.5.0",
          "state": {
            "_dom_classes": [],
            "_model_module": "@jupyter-widgets/controls",
            "_model_module_version": "1.5.0",
            "_model_name": "HTMLModel",
            "_view_count": null,
            "_view_module": "@jupyter-widgets/controls",
            "_view_module_version": "1.5.0",
            "_view_name": "HTMLView",
            "description": "",
            "description_tooltip": null,
            "layout": "IPY_MODEL_9a4a0596df7f49dfaba71614cd09fb96",
            "placeholder": "​",
            "style": "IPY_MODEL_ef428314f52e435f978dfbdedb062606",
            "value": "Generating validation split: 100%"
          }
        },
        "58aaa53439f24d08a6ff012b000f769b": {
          "model_module": "@jupyter-widgets/controls",
          "model_name": "FloatProgressModel",
          "model_module_version": "1.5.0",
          "state": {
            "_dom_classes": [],
            "_model_module": "@jupyter-widgets/controls",
            "_model_module_version": "1.5.0",
            "_model_name": "FloatProgressModel",
            "_view_count": null,
            "_view_module": "@jupyter-widgets/controls",
            "_view_module_version": "1.5.0",
            "_view_name": "ProgressView",
            "bar_style": "success",
            "description": "",
            "description_tooltip": null,
            "layout": "IPY_MODEL_14837e64ccb84008bb192b8a4d524004",
            "max": 2000,
            "min": 0,
            "orientation": "horizontal",
            "style": "IPY_MODEL_0932cf86c311432299153fe069854682",
            "value": 2000
          }
        },
        "be891a7b5a08491da2efa3b9389fdd19": {
          "model_module": "@jupyter-widgets/controls",
          "model_name": "HTMLModel",
          "model_module_version": "1.5.0",
          "state": {
            "_dom_classes": [],
            "_model_module": "@jupyter-widgets/controls",
            "_model_module_version": "1.5.0",
            "_model_name": "HTMLModel",
            "_view_count": null,
            "_view_module": "@jupyter-widgets/controls",
            "_view_module_version": "1.5.0",
            "_view_name": "HTMLView",
            "description": "",
            "description_tooltip": null,
            "layout": "IPY_MODEL_039605d6b1d04c818968b11c04fbf7fd",
            "placeholder": "​",
            "style": "IPY_MODEL_a3ca2febc2304f109272eb71733d1715",
            "value": " 2000/2000 [00:00&lt;00:00, 12872.83 examples/s]"
          }
        },
        "6bb74c5700fa4bb3bac2900eb335b500": {
          "model_module": "@jupyter-widgets/base",
          "model_name": "LayoutModel",
          "model_module_version": "1.2.0",
          "state": {
            "_model_module": "@jupyter-widgets/base",
            "_model_module_version": "1.2.0",
            "_model_name": "LayoutModel",
            "_view_count": null,
            "_view_module": "@jupyter-widgets/base",
            "_view_module_version": "1.2.0",
            "_view_name": "LayoutView",
            "align_content": null,
            "align_items": null,
            "align_self": null,
            "border": null,
            "bottom": null,
            "display": null,
            "flex": null,
            "flex_flow": null,
            "grid_area": null,
            "grid_auto_columns": null,
            "grid_auto_flow": null,
            "grid_auto_rows": null,
            "grid_column": null,
            "grid_gap": null,
            "grid_row": null,
            "grid_template_areas": null,
            "grid_template_columns": null,
            "grid_template_rows": null,
            "height": null,
            "justify_content": null,
            "justify_items": null,
            "left": null,
            "margin": null,
            "max_height": null,
            "max_width": null,
            "min_height": null,
            "min_width": null,
            "object_fit": null,
            "object_position": null,
            "order": null,
            "overflow": null,
            "overflow_x": null,
            "overflow_y": null,
            "padding": null,
            "right": null,
            "top": null,
            "visibility": null,
            "width": null
          }
        },
        "9a4a0596df7f49dfaba71614cd09fb96": {
          "model_module": "@jupyter-widgets/base",
          "model_name": "LayoutModel",
          "model_module_version": "1.2.0",
          "state": {
            "_model_module": "@jupyter-widgets/base",
            "_model_module_version": "1.2.0",
            "_model_name": "LayoutModel",
            "_view_count": null,
            "_view_module": "@jupyter-widgets/base",
            "_view_module_version": "1.2.0",
            "_view_name": "LayoutView",
            "align_content": null,
            "align_items": null,
            "align_self": null,
            "border": null,
            "bottom": null,
            "display": null,
            "flex": null,
            "flex_flow": null,
            "grid_area": null,
            "grid_auto_columns": null,
            "grid_auto_flow": null,
            "grid_auto_rows": null,
            "grid_column": null,
            "grid_gap": null,
            "grid_row": null,
            "grid_template_areas": null,
            "grid_template_columns": null,
            "grid_template_rows": null,
            "height": null,
            "justify_content": null,
            "justify_items": null,
            "left": null,
            "margin": null,
            "max_height": null,
            "max_width": null,
            "min_height": null,
            "min_width": null,
            "object_fit": null,
            "object_position": null,
            "order": null,
            "overflow": null,
            "overflow_x": null,
            "overflow_y": null,
            "padding": null,
            "right": null,
            "top": null,
            "visibility": null,
            "width": null
          }
        },
        "ef428314f52e435f978dfbdedb062606": {
          "model_module": "@jupyter-widgets/controls",
          "model_name": "DescriptionStyleModel",
          "model_module_version": "1.5.0",
          "state": {
            "_model_module": "@jupyter-widgets/controls",
            "_model_module_version": "1.5.0",
            "_model_name": "DescriptionStyleModel",
            "_view_count": null,
            "_view_module": "@jupyter-widgets/base",
            "_view_module_version": "1.2.0",
            "_view_name": "StyleView",
            "description_width": ""
          }
        },
        "14837e64ccb84008bb192b8a4d524004": {
          "model_module": "@jupyter-widgets/base",
          "model_name": "LayoutModel",
          "model_module_version": "1.2.0",
          "state": {
            "_model_module": "@jupyter-widgets/base",
            "_model_module_version": "1.2.0",
            "_model_name": "LayoutModel",
            "_view_count": null,
            "_view_module": "@jupyter-widgets/base",
            "_view_module_version": "1.2.0",
            "_view_name": "LayoutView",
            "align_content": null,
            "align_items": null,
            "align_self": null,
            "border": null,
            "bottom": null,
            "display": null,
            "flex": null,
            "flex_flow": null,
            "grid_area": null,
            "grid_auto_columns": null,
            "grid_auto_flow": null,
            "grid_auto_rows": null,
            "grid_column": null,
            "grid_gap": null,
            "grid_row": null,
            "grid_template_areas": null,
            "grid_template_columns": null,
            "grid_template_rows": null,
            "height": null,
            "justify_content": null,
            "justify_items": null,
            "left": null,
            "margin": null,
            "max_height": null,
            "max_width": null,
            "min_height": null,
            "min_width": null,
            "object_fit": null,
            "object_position": null,
            "order": null,
            "overflow": null,
            "overflow_x": null,
            "overflow_y": null,
            "padding": null,
            "right": null,
            "top": null,
            "visibility": null,
            "width": null
          }
        },
        "0932cf86c311432299153fe069854682": {
          "model_module": "@jupyter-widgets/controls",
          "model_name": "ProgressStyleModel",
          "model_module_version": "1.5.0",
          "state": {
            "_model_module": "@jupyter-widgets/controls",
            "_model_module_version": "1.5.0",
            "_model_name": "ProgressStyleModel",
            "_view_count": null,
            "_view_module": "@jupyter-widgets/base",
            "_view_module_version": "1.2.0",
            "_view_name": "StyleView",
            "bar_color": null,
            "description_width": ""
          }
        },
        "039605d6b1d04c818968b11c04fbf7fd": {
          "model_module": "@jupyter-widgets/base",
          "model_name": "LayoutModel",
          "model_module_version": "1.2.0",
          "state": {
            "_model_module": "@jupyter-widgets/base",
            "_model_module_version": "1.2.0",
            "_model_name": "LayoutModel",
            "_view_count": null,
            "_view_module": "@jupyter-widgets/base",
            "_view_module_version": "1.2.0",
            "_view_name": "LayoutView",
            "align_content": null,
            "align_items": null,
            "align_self": null,
            "border": null,
            "bottom": null,
            "display": null,
            "flex": null,
            "flex_flow": null,
            "grid_area": null,
            "grid_auto_columns": null,
            "grid_auto_flow": null,
            "grid_auto_rows": null,
            "grid_column": null,
            "grid_gap": null,
            "grid_row": null,
            "grid_template_areas": null,
            "grid_template_columns": null,
            "grid_template_rows": null,
            "height": null,
            "justify_content": null,
            "justify_items": null,
            "left": null,
            "margin": null,
            "max_height": null,
            "max_width": null,
            "min_height": null,
            "min_width": null,
            "object_fit": null,
            "object_position": null,
            "order": null,
            "overflow": null,
            "overflow_x": null,
            "overflow_y": null,
            "padding": null,
            "right": null,
            "top": null,
            "visibility": null,
            "width": null
          }
        },
        "a3ca2febc2304f109272eb71733d1715": {
          "model_module": "@jupyter-widgets/controls",
          "model_name": "DescriptionStyleModel",
          "model_module_version": "1.5.0",
          "state": {
            "_model_module": "@jupyter-widgets/controls",
            "_model_module_version": "1.5.0",
            "_model_name": "DescriptionStyleModel",
            "_view_count": null,
            "_view_module": "@jupyter-widgets/base",
            "_view_module_version": "1.2.0",
            "_view_name": "StyleView",
            "description_width": ""
          }
        },
        "b839d43685c94d26927e29dcf1775057": {
          "model_module": "@jupyter-widgets/controls",
          "model_name": "HBoxModel",
          "model_module_version": "1.5.0",
          "state": {
            "_dom_classes": [],
            "_model_module": "@jupyter-widgets/controls",
            "_model_module_version": "1.5.0",
            "_model_name": "HBoxModel",
            "_view_count": null,
            "_view_module": "@jupyter-widgets/controls",
            "_view_module_version": "1.5.0",
            "_view_name": "HBoxView",
            "box_style": "",
            "children": [
              "IPY_MODEL_50def04e519645beb82234134a7b637f",
              "IPY_MODEL_640603cc2ced4335b492509191b582e7",
              "IPY_MODEL_d4a06e0c4bb04c41ab3ca5b4cef21c3f"
            ],
            "layout": "IPY_MODEL_324f4e4d7a0241f8a385e4c3d14d0ada"
          }
        },
        "50def04e519645beb82234134a7b637f": {
          "model_module": "@jupyter-widgets/controls",
          "model_name": "HTMLModel",
          "model_module_version": "1.5.0",
          "state": {
            "_dom_classes": [],
            "_model_module": "@jupyter-widgets/controls",
            "_model_module_version": "1.5.0",
            "_model_name": "HTMLModel",
            "_view_count": null,
            "_view_module": "@jupyter-widgets/controls",
            "_view_module_version": "1.5.0",
            "_view_name": "HTMLView",
            "description": "",
            "description_tooltip": null,
            "layout": "IPY_MODEL_d746e49b8d0d4311b9fbb38ee95ebbc7",
            "placeholder": "​",
            "style": "IPY_MODEL_838060a37d3141d88e2c399a28423fe6",
            "value": "Generating test split: 100%"
          }
        },
        "640603cc2ced4335b492509191b582e7": {
          "model_module": "@jupyter-widgets/controls",
          "model_name": "FloatProgressModel",
          "model_module_version": "1.5.0",
          "state": {
            "_dom_classes": [],
            "_model_module": "@jupyter-widgets/controls",
            "_model_module_version": "1.5.0",
            "_model_name": "FloatProgressModel",
            "_view_count": null,
            "_view_module": "@jupyter-widgets/controls",
            "_view_module_version": "1.5.0",
            "_view_name": "ProgressView",
            "bar_style": "success",
            "description": "",
            "description_tooltip": null,
            "layout": "IPY_MODEL_108e492df03d427a81df69195c5fef17",
            "max": 2000,
            "min": 0,
            "orientation": "horizontal",
            "style": "IPY_MODEL_00420df709f945958601c3843666a274",
            "value": 2000
          }
        },
        "d4a06e0c4bb04c41ab3ca5b4cef21c3f": {
          "model_module": "@jupyter-widgets/controls",
          "model_name": "HTMLModel",
          "model_module_version": "1.5.0",
          "state": {
            "_dom_classes": [],
            "_model_module": "@jupyter-widgets/controls",
            "_model_module_version": "1.5.0",
            "_model_name": "HTMLModel",
            "_view_count": null,
            "_view_module": "@jupyter-widgets/controls",
            "_view_module_version": "1.5.0",
            "_view_name": "HTMLView",
            "description": "",
            "description_tooltip": null,
            "layout": "IPY_MODEL_5605275a05af41839cf4f98e614a3db8",
            "placeholder": "​",
            "style": "IPY_MODEL_85c9fd2ffc164c77ab795acc96bce947",
            "value": " 2000/2000 [00:00&lt;00:00, 11055.46 examples/s]"
          }
        },
        "324f4e4d7a0241f8a385e4c3d14d0ada": {
          "model_module": "@jupyter-widgets/base",
          "model_name": "LayoutModel",
          "model_module_version": "1.2.0",
          "state": {
            "_model_module": "@jupyter-widgets/base",
            "_model_module_version": "1.2.0",
            "_model_name": "LayoutModel",
            "_view_count": null,
            "_view_module": "@jupyter-widgets/base",
            "_view_module_version": "1.2.0",
            "_view_name": "LayoutView",
            "align_content": null,
            "align_items": null,
            "align_self": null,
            "border": null,
            "bottom": null,
            "display": null,
            "flex": null,
            "flex_flow": null,
            "grid_area": null,
            "grid_auto_columns": null,
            "grid_auto_flow": null,
            "grid_auto_rows": null,
            "grid_column": null,
            "grid_gap": null,
            "grid_row": null,
            "grid_template_areas": null,
            "grid_template_columns": null,
            "grid_template_rows": null,
            "height": null,
            "justify_content": null,
            "justify_items": null,
            "left": null,
            "margin": null,
            "max_height": null,
            "max_width": null,
            "min_height": null,
            "min_width": null,
            "object_fit": null,
            "object_position": null,
            "order": null,
            "overflow": null,
            "overflow_x": null,
            "overflow_y": null,
            "padding": null,
            "right": null,
            "top": null,
            "visibility": null,
            "width": null
          }
        },
        "d746e49b8d0d4311b9fbb38ee95ebbc7": {
          "model_module": "@jupyter-widgets/base",
          "model_name": "LayoutModel",
          "model_module_version": "1.2.0",
          "state": {
            "_model_module": "@jupyter-widgets/base",
            "_model_module_version": "1.2.0",
            "_model_name": "LayoutModel",
            "_view_count": null,
            "_view_module": "@jupyter-widgets/base",
            "_view_module_version": "1.2.0",
            "_view_name": "LayoutView",
            "align_content": null,
            "align_items": null,
            "align_self": null,
            "border": null,
            "bottom": null,
            "display": null,
            "flex": null,
            "flex_flow": null,
            "grid_area": null,
            "grid_auto_columns": null,
            "grid_auto_flow": null,
            "grid_auto_rows": null,
            "grid_column": null,
            "grid_gap": null,
            "grid_row": null,
            "grid_template_areas": null,
            "grid_template_columns": null,
            "grid_template_rows": null,
            "height": null,
            "justify_content": null,
            "justify_items": null,
            "left": null,
            "margin": null,
            "max_height": null,
            "max_width": null,
            "min_height": null,
            "min_width": null,
            "object_fit": null,
            "object_position": null,
            "order": null,
            "overflow": null,
            "overflow_x": null,
            "overflow_y": null,
            "padding": null,
            "right": null,
            "top": null,
            "visibility": null,
            "width": null
          }
        },
        "838060a37d3141d88e2c399a28423fe6": {
          "model_module": "@jupyter-widgets/controls",
          "model_name": "DescriptionStyleModel",
          "model_module_version": "1.5.0",
          "state": {
            "_model_module": "@jupyter-widgets/controls",
            "_model_module_version": "1.5.0",
            "_model_name": "DescriptionStyleModel",
            "_view_count": null,
            "_view_module": "@jupyter-widgets/base",
            "_view_module_version": "1.2.0",
            "_view_name": "StyleView",
            "description_width": ""
          }
        },
        "108e492df03d427a81df69195c5fef17": {
          "model_module": "@jupyter-widgets/base",
          "model_name": "LayoutModel",
          "model_module_version": "1.2.0",
          "state": {
            "_model_module": "@jupyter-widgets/base",
            "_model_module_version": "1.2.0",
            "_model_name": "LayoutModel",
            "_view_count": null,
            "_view_module": "@jupyter-widgets/base",
            "_view_module_version": "1.2.0",
            "_view_name": "LayoutView",
            "align_content": null,
            "align_items": null,
            "align_self": null,
            "border": null,
            "bottom": null,
            "display": null,
            "flex": null,
            "flex_flow": null,
            "grid_area": null,
            "grid_auto_columns": null,
            "grid_auto_flow": null,
            "grid_auto_rows": null,
            "grid_column": null,
            "grid_gap": null,
            "grid_row": null,
            "grid_template_areas": null,
            "grid_template_columns": null,
            "grid_template_rows": null,
            "height": null,
            "justify_content": null,
            "justify_items": null,
            "left": null,
            "margin": null,
            "max_height": null,
            "max_width": null,
            "min_height": null,
            "min_width": null,
            "object_fit": null,
            "object_position": null,
            "order": null,
            "overflow": null,
            "overflow_x": null,
            "overflow_y": null,
            "padding": null,
            "right": null,
            "top": null,
            "visibility": null,
            "width": null
          }
        },
        "00420df709f945958601c3843666a274": {
          "model_module": "@jupyter-widgets/controls",
          "model_name": "ProgressStyleModel",
          "model_module_version": "1.5.0",
          "state": {
            "_model_module": "@jupyter-widgets/controls",
            "_model_module_version": "1.5.0",
            "_model_name": "ProgressStyleModel",
            "_view_count": null,
            "_view_module": "@jupyter-widgets/base",
            "_view_module_version": "1.2.0",
            "_view_name": "StyleView",
            "bar_color": null,
            "description_width": ""
          }
        },
        "5605275a05af41839cf4f98e614a3db8": {
          "model_module": "@jupyter-widgets/base",
          "model_name": "LayoutModel",
          "model_module_version": "1.2.0",
          "state": {
            "_model_module": "@jupyter-widgets/base",
            "_model_module_version": "1.2.0",
            "_model_name": "LayoutModel",
            "_view_count": null,
            "_view_module": "@jupyter-widgets/base",
            "_view_module_version": "1.2.0",
            "_view_name": "LayoutView",
            "align_content": null,
            "align_items": null,
            "align_self": null,
            "border": null,
            "bottom": null,
            "display": null,
            "flex": null,
            "flex_flow": null,
            "grid_area": null,
            "grid_auto_columns": null,
            "grid_auto_flow": null,
            "grid_auto_rows": null,
            "grid_column": null,
            "grid_gap": null,
            "grid_row": null,
            "grid_template_areas": null,
            "grid_template_columns": null,
            "grid_template_rows": null,
            "height": null,
            "justify_content": null,
            "justify_items": null,
            "left": null,
            "margin": null,
            "max_height": null,
            "max_width": null,
            "min_height": null,
            "min_width": null,
            "object_fit": null,
            "object_position": null,
            "order": null,
            "overflow": null,
            "overflow_x": null,
            "overflow_y": null,
            "padding": null,
            "right": null,
            "top": null,
            "visibility": null,
            "width": null
          }
        },
        "85c9fd2ffc164c77ab795acc96bce947": {
          "model_module": "@jupyter-widgets/controls",
          "model_name": "DescriptionStyleModel",
          "model_module_version": "1.5.0",
          "state": {
            "_model_module": "@jupyter-widgets/controls",
            "_model_module_version": "1.5.0",
            "_model_name": "DescriptionStyleModel",
            "_view_count": null,
            "_view_module": "@jupyter-widgets/base",
            "_view_module_version": "1.2.0",
            "_view_name": "StyleView",
            "description_width": ""
          }
        }
      }
    }
  },
  "nbformat": 4,
  "nbformat_minor": 0
}